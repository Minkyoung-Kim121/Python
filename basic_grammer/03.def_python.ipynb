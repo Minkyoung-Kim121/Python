{
 "cells": [
  {
   "cell_type": "code",
   "execution_count": 1,
   "metadata": {},
   "outputs": [],
   "source": [
    "# 파일 읽고 쓰기\n",
    "# f = open('file_name', 'mode')\n",
    "# r : 읽기 모드(기본 지정 모드)\n",
    "# w : 쓰기 모드 (같은 이름 파일 있으면 예전 꺼 위에 덮어쓴다.)\n",
    "# x : 쓰기 모드 (같은 이름 파일 있으면 오류 발생)\n",
    "# a : 추가 모드로 파일 열기\n",
    "# b : 바이너리 모드 파일 열기\n",
    "# t : 텍스트 파일 모드로 파일 열기\n",
    "\n",
    "# 파일을 열었으면 반드시 닫아야!\n",
    "# f = open('파일명', '모드')\n",
    "# f.write(str)\n",
    "# f.close()\n",
    "\n",
    "# with문의 활용\n",
    "# with open('경로/파일명.확장자', '모드') as f:\n",
    "#     f.write()\n",
    "#     f.write()\n",
    "# ...\n"
   ]
  },
  {
   "cell_type": "code",
   "execution_count": 4,
   "metadata": {},
   "outputs": [
    {
     "name": "stdout",
     "output_type": "stream",
     "text": [
      "My first cat's name is:  mandoo\n",
      "My second is:  chilly\n"
     ]
    }
   ],
   "source": [
    "# def : 함수()\n",
    "a = \"mandoo\"\n",
    "b = \"chilly\"\n",
    "\n",
    "def my_cats():\n",
    "    print(\"My first cat's name is: \" ,a)\n",
    "    print(\"My second is: \" ,b)\n",
    "    \n",
    "my_cats() # >>> 함수 호출."
   ]
  },
  {
   "cell_type": "code",
   "execution_count": 9,
   "metadata": {},
   "outputs": [
    {
     "name": "stdout",
     "output_type": "stream",
     "text": [
      "x: 10\n",
      "y: 2\n",
      "12\n",
      "8\n",
      "20\n",
      "5.0\n"
     ]
    }
   ],
   "source": [
    "# 계산기\n",
    "\n",
    "x = int(input(\"x: \"))\n",
    "y = int(input(\"y: \"))\n",
    "\n",
    "def add(x,y):\n",
    "    z = x + y\n",
    "    return z\n",
    "def sub(x,y):\n",
    "    z = x - y\n",
    "    return z\n",
    "def mul(x,y):\n",
    "    z = x * y\n",
    "    return z\n",
    "def div(x,y):\n",
    "    z = x / y\n",
    "    return z\n",
    "\n",
    "def my_cal():\n",
    "    print(add(x,y))\n",
    "    print(sub(x,y))\n",
    "    print(mul(x,y))\n",
    "    print(div(x,y))\n",
    "\n",
    "my_cal()"
   ]
  },
  {
   "cell_type": "code",
   "execution_count": 11,
   "metadata": {},
   "outputs": [
    {
     "data": {
      "text/plain": [
       "9"
      ]
     },
     "execution_count": 11,
     "metadata": {},
     "output_type": "execute_result"
    }
   ],
   "source": [
    "# 람다식\n",
    "# lambda <argument> : <code>\n",
    "(lambda x : x**2) (3)"
   ]
  },
  {
   "cell_type": "code",
   "execution_count": 13,
   "metadata": {},
   "outputs": [
    {
     "data": {
      "text/plain": [
       "9"
      ]
     },
     "execution_count": 13,
     "metadata": {},
     "output_type": "execute_result"
    }
   ],
   "source": [
    "mylamb = lambda x : x**2\n",
    "mylamb(3)"
   ]
  },
  {
   "cell_type": "code",
   "execution_count": 14,
   "metadata": {},
   "outputs": [
    {
     "data": {
      "text/plain": [
       "100"
      ]
     },
     "execution_count": 14,
     "metadata": {},
     "output_type": "execute_result"
    }
   ],
   "source": [
    "mylamb(10)"
   ]
  },
  {
   "cell_type": "code",
   "execution_count": 15,
   "metadata": {},
   "outputs": [
    {
     "data": {
      "text/plain": [
       "11"
      ]
     },
     "execution_count": 15,
     "metadata": {},
     "output_type": "execute_result"
    }
   ],
   "source": [
    "mycode = lambda x,y,z : 2*x + 3*y + z\n",
    "mycode(1,2,3)"
   ]
  },
  {
   "cell_type": "code",
   "execution_count": 16,
   "metadata": {},
   "outputs": [
    {
     "name": "stdout",
     "output_type": "stream",
     "text": [
      "아,메,리,카,노\n",
      "['아', '메', '리', '카', '노']\n"
     ]
    }
   ],
   "source": [
    "# split()\n",
    "# 문자열 분리 함수\n",
    "str = \"아,메,리,카,노\"\n",
    "print(str)\n",
    "str_s = str.split(',')\n",
    "print(str_s)"
   ]
  },
  {
   "cell_type": "code",
   "execution_count": 17,
   "metadata": {},
   "outputs": [
    {
     "name": "stdout",
     "output_type": "stream",
     "text": [
      "['a#fkdjfoji!3nc', 'kdlfjk', 'kdflkfj', '3dkj,fkj!']\n"
     ]
    }
   ],
   "source": [
    "a = \"a#fkdjfoji!3nc@kdlfjk@kdflkfj@3dkj,fkj!\"\n",
    "b = a.split('@')\n",
    "print(b)"
   ]
  },
  {
   "cell_type": "code",
   "execution_count": 23,
   "metadata": {},
   "outputs": [
    {
     "name": "stdout",
     "output_type": "stream",
     "text": [
      "Pythonhello\n",
      "fkdkaafkjldi\n",
      "hellobbbgoodababbabmorning\n"
     ]
    }
   ],
   "source": [
    "# strip()\n",
    "# 문자열 삭제\n",
    "a = \"aaaaPythonhello\"\n",
    "print(a.strip('a'))\n",
    "\n",
    "b = \"aaafkdkaafkjldiaa\"\n",
    "print(b.strip('a'))\n",
    "# >>> a의 위치와 상관없이 모든 a 제거\n",
    "\n",
    "c = \"aaahellobbbgoodababbabmorning\"\n",
    "print(c.strip('ab'))\n",
    "# >>> c 의 앞뒤 ab 제거\n",
    "# >>> 중간의 ab는 삭제x"
   ]
  },
  {
   "cell_type": "code",
   "execution_count": 25,
   "metadata": {},
   "outputs": [
    {
     "name": "stdout",
     "output_type": "stream",
     "text": [
      "helloaaaa\n",
      "aaaahello\n"
     ]
    }
   ],
   "source": [
    "# strip() : left, right\n",
    "# lstrip()\n",
    "# rstrip()\n",
    "a = \"aaaahelloaaaa\"\n",
    "print(a.lstrip('a')) # >>> 왼쪽 a 제거\n",
    "print(a.rstrip('a')) # >>> 오른쪽 a 제거"
   ]
  },
  {
   "cell_type": "code",
   "execution_count": 26,
   "metadata": {},
   "outputs": [
    {
     "name": "stdout",
     "output_type": "stream",
     "text": [
      "python is fun\n"
     ]
    }
   ],
   "source": [
    "# replace()\n",
    "a = \"java is fun\"\n",
    "print(a.replace('java', 'python'))"
   ]
  },
  {
   "cell_type": "code",
   "execution_count": 28,
   "metadata": {},
   "outputs": [
    {
     "name": "stdout",
     "output_type": "stream",
     "text": [
      "PYTHON IS FUN\n",
      "python is fun\n"
     ]
    }
   ],
   "source": [
    "# lower()\n",
    "# upper()\n",
    "a = \"python is fun\"\n",
    "print(a.upper())\n",
    "\n",
    "b = \"PYTHON IS FUN\"\n",
    "print(b.lower())"
   ]
  },
  {
   "cell_type": "code",
   "execution_count": 35,
   "metadata": {},
   "outputs": [
    {
     "name": "stdout",
     "output_type": "stream",
     "text": [
      "2021-04-29\n",
      "2021-04-29\n",
      "2021-04-29 14:23:58.456927\n"
     ]
    }
   ],
   "source": [
    "# module\n",
    "# import 모듈명\n",
    "import datetime\n",
    "\n",
    "set_day = datetime.date(2021,4,29)\n",
    "print(set_day)\n",
    "print(datetime.date.today())\n",
    "print(datetime.datetime.now())"
   ]
  },
  {
   "cell_type": "code",
   "execution_count": 36,
   "metadata": {},
   "outputs": [
    {
     "name": "stdout",
     "output_type": "stream",
     "text": [
      "                                  2021\n",
      "\n",
      "      January                   February                   March\n",
      "Mo Tu We Th Fr Sa Su      Mo Tu We Th Fr Sa Su      Mo Tu We Th Fr Sa Su\n",
      "             1  2  3       1  2  3  4  5  6  7       1  2  3  4  5  6  7\n",
      " 4  5  6  7  8  9 10       8  9 10 11 12 13 14       8  9 10 11 12 13 14\n",
      "11 12 13 14 15 16 17      15 16 17 18 19 20 21      15 16 17 18 19 20 21\n",
      "18 19 20 21 22 23 24      22 23 24 25 26 27 28      22 23 24 25 26 27 28\n",
      "25 26 27 28 29 30 31                                29 30 31\n",
      "\n",
      "       April                      May                       June\n",
      "Mo Tu We Th Fr Sa Su      Mo Tu We Th Fr Sa Su      Mo Tu We Th Fr Sa Su\n",
      "          1  2  3  4                      1  2          1  2  3  4  5  6\n",
      " 5  6  7  8  9 10 11       3  4  5  6  7  8  9       7  8  9 10 11 12 13\n",
      "12 13 14 15 16 17 18      10 11 12 13 14 15 16      14 15 16 17 18 19 20\n",
      "19 20 21 22 23 24 25      17 18 19 20 21 22 23      21 22 23 24 25 26 27\n",
      "26 27 28 29 30            24 25 26 27 28 29 30      28 29 30\n",
      "                          31\n",
      "\n",
      "        July                     August                  September\n",
      "Mo Tu We Th Fr Sa Su      Mo Tu We Th Fr Sa Su      Mo Tu We Th Fr Sa Su\n",
      "          1  2  3  4                         1             1  2  3  4  5\n",
      " 5  6  7  8  9 10 11       2  3  4  5  6  7  8       6  7  8  9 10 11 12\n",
      "12 13 14 15 16 17 18       9 10 11 12 13 14 15      13 14 15 16 17 18 19\n",
      "19 20 21 22 23 24 25      16 17 18 19 20 21 22      20 21 22 23 24 25 26\n",
      "26 27 28 29 30 31         23 24 25 26 27 28 29      27 28 29 30\n",
      "                          30 31\n",
      "\n",
      "      October                   November                  December\n",
      "Mo Tu We Th Fr Sa Su      Mo Tu We Th Fr Sa Su      Mo Tu We Th Fr Sa Su\n",
      "             1  2  3       1  2  3  4  5  6  7             1  2  3  4  5\n",
      " 4  5  6  7  8  9 10       8  9 10 11 12 13 14       6  7  8  9 10 11 12\n",
      "11 12 13 14 15 16 17      15 16 17 18 19 20 21      13 14 15 16 17 18 19\n",
      "18 19 20 21 22 23 24      22 23 24 25 26 27 28      20 21 22 23 24 25 26\n",
      "25 26 27 28 29 30 31      29 30                     27 28 29 30 31\n",
      "\n"
     ]
    }
   ],
   "source": [
    "import calendar\n",
    "\n",
    "print(calendar.calendar(2021))"
   ]
  },
  {
   "cell_type": "code",
   "execution_count": 37,
   "metadata": {},
   "outputs": [
    {
     "name": "stdout",
     "output_type": "stream",
     "text": [
      "    October 2021\n",
      "Mo Tu We Th Fr Sa Su\n",
      "             1  2  3\n",
      " 4  5  6  7  8  9 10\n",
      "11 12 13 14 15 16 17\n",
      "18 19 20 21 22 23 24\n",
      "25 26 27 28 29 30 31\n",
      "\n"
     ]
    }
   ],
   "source": [
    "print(calendar.month(2021,10))"
   ]
  },
  {
   "cell_type": "code",
   "execution_count": 40,
   "metadata": {},
   "outputs": [
    {
     "name": "stdout",
     "output_type": "stream",
     "text": [
      "False\n",
      "     April 2021\n",
      "Mo Tu We Th Fr Sa Su\n",
      "          1  2  3  4\n",
      " 5  6  7  8  9 10 11\n",
      "12 13 14 15 16 17 18\n",
      "19 20 21 22 23 24 25\n",
      "26 27 28 29 30\n",
      "\n"
     ]
    }
   ],
   "source": [
    "# 윤년 확인하기\n",
    "print(calendar.isleap(2021))\n",
    "# >>> False\n",
    "print(calendar.month(2021,4))\n",
    "# >>> 2021' 4 월은 윤년이 x"
   ]
  },
  {
   "cell_type": "code",
   "execution_count": null,
   "metadata": {},
   "outputs": [],
   "source": []
  }
 ],
 "metadata": {
  "kernelspec": {
   "display_name": "Python 3",
   "language": "python",
   "name": "python3"
  },
  "language_info": {
   "codemirror_mode": {
    "name": "ipython",
    "version": 3
   },
   "file_extension": ".py",
   "mimetype": "text/x-python",
   "name": "python",
   "nbconvert_exporter": "python",
   "pygments_lexer": "ipython3",
   "version": "3.8.5"
  }
 },
 "nbformat": 4,
 "nbformat_minor": 4
}
