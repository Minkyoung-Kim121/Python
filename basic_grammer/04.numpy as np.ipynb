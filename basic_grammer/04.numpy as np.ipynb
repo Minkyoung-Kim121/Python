{
 "cells": [
  {
   "cell_type": "code",
   "execution_count": 11,
   "metadata": {},
   "outputs": [],
   "source": [
    "import numpy as np\n",
    "# 과학 연산을 쉽고 빠르게 할 수 있는 패키지\n",
    "# 시퀀스 데이터로 배열 생성\n",
    "# arr_obj = np.array(seq_data)"
   ]
  },
  {
   "cell_type": "code",
   "execution_count": 12,
   "metadata": {},
   "outputs": [
    {
     "data": {
      "text/plain": [
       "array([[ 0,  1,  2],\n",
       "       [ 3,  4,  5],\n",
       "       [ 6,  7,  8],\n",
       "       [ 9, 10, 11]])"
      ]
     },
     "execution_count": 12,
     "metadata": {},
     "output_type": "execute_result"
    }
   ],
   "source": [
    "# 2차원 배열 (행렬의 구조)\n",
    "np.arange(12).reshape(4,3)\n",
    "# arrange() >>> 12개 숫자 생성\n",
    "# reshape(m,n) >>> m x n 행렬 생성"
   ]
  },
  {
   "cell_type": "code",
   "execution_count": 14,
   "metadata": {},
   "outputs": [
    {
     "data": {
      "text/plain": [
       "(5,)"
      ]
     },
     "execution_count": 14,
     "metadata": {},
     "output_type": "execute_result"
    }
   ],
   "source": [
    "b2 = np.arange(5)\n",
    "b2.shape\n",
    "# >>> (5, )"
   ]
  },
  {
   "cell_type": "code",
   "execution_count": 15,
   "metadata": {},
   "outputs": [
    {
     "data": {
      "text/plain": [
       "array([ 1.,  2.,  3.,  4.,  5.,  6.,  7.,  8.,  9., 10.])"
      ]
     },
     "execution_count": 15,
     "metadata": {},
     "output_type": "execute_result"
    }
   ],
   "source": [
    "# arr_obj = np.linspace(start, stop[, num])\n",
    "# 범위의 시작,끝을 지정하고 데이터 개수 지정하여 배열 생성\n",
    "np.linspace(1,10,10)"
   ]
  },
  {
   "cell_type": "code",
   "execution_count": 16,
   "metadata": {},
   "outputs": [
    {
     "data": {
      "text/plain": [
       "array([[0.74480494, 0.8270428 , 0.64472097],\n",
       "       [0.16364391, 0.05152424, 0.19676058]])"
      ]
     },
     "execution_count": 16,
     "metadata": {},
     "output_type": "execute_result"
    }
   ],
   "source": [
    "# random()\n",
    "# 난수 발생\n",
    "np.random.rand(2,3)\n",
    "# >>> 실수 난수 발생"
   ]
  },
  {
   "cell_type": "code",
   "execution_count": 17,
   "metadata": {},
   "outputs": [
    {
     "data": {
      "text/plain": [
       "0.17003326390194706"
      ]
     },
     "execution_count": 17,
     "metadata": {},
     "output_type": "execute_result"
    }
   ],
   "source": [
    "np.random.rand()"
   ]
  },
  {
   "cell_type": "code",
   "execution_count": 18,
   "metadata": {},
   "outputs": [
    {
     "data": {
      "text/plain": [
       "0.37507777471696724"
      ]
     },
     "execution_count": 18,
     "metadata": {},
     "output_type": "execute_result"
    }
   ],
   "source": [
    "np.random.rand()"
   ]
  },
  {
   "cell_type": "code",
   "execution_count": 19,
   "metadata": {},
   "outputs": [
    {
     "data": {
      "text/plain": [
       "0.7371362107274289"
      ]
     },
     "execution_count": 19,
     "metadata": {},
     "output_type": "execute_result"
    }
   ],
   "source": [
    "np.random.rand()"
   ]
  },
  {
   "cell_type": "code",
   "execution_count": 20,
   "metadata": {},
   "outputs": [
    {
     "data": {
      "text/plain": [
       "0.7945726608792448"
      ]
     },
     "execution_count": 20,
     "metadata": {},
     "output_type": "execute_result"
    }
   ],
   "source": [
    "np.random.rand()"
   ]
  },
  {
   "cell_type": "code",
   "execution_count": 21,
   "metadata": {},
   "outputs": [
    {
     "data": {
      "text/plain": [
       "array([[3, 6, 2, 5],\n",
       "       [6, 8, 9, 6],\n",
       "       [4, 8, 6, 3]])"
      ]
     },
     "execution_count": 21,
     "metadata": {},
     "output_type": "execute_result"
    }
   ],
   "source": [
    "# 지정한 범위 내에 난수 발생 (int)\n",
    "np.random.randint(10, size=(3,4))"
   ]
  },
  {
   "cell_type": "code",
   "execution_count": 26,
   "metadata": {},
   "outputs": [
    {
     "name": "stdout",
     "output_type": "stream",
     "text": [
      "[11 22 33 44]\n",
      "[ 9 18 27 36]\n",
      "[ 10  40  90 160]\n",
      "[10. 10. 10. 10.]\n",
      "[ 1  4  9 16]\n"
     ]
    }
   ],
   "source": [
    "# 배열의 연산\n",
    "arr1 = np.array([10,20,30,40])\n",
    "arr2 = np.array([1,2,3,4])\n",
    "\n",
    "print(arr1+arr2)\n",
    "print(arr1-arr2)\n",
    "print(arr1*arr2)\n",
    "print(arr1/arr2)\n",
    "print(arr2**2)"
   ]
  },
  {
   "cell_type": "code",
   "execution_count": 29,
   "metadata": {},
   "outputs": [
    {
     "name": "stdout",
     "output_type": "stream",
     "text": [
      "[20 40 60 80]\n",
      "[ True  True  True  True]\n",
      "[False False  True  True]\n"
     ]
    }
   ],
   "source": [
    "# 배열에 상수 곱하기\n",
    "print(arr1 * 2)\n",
    "\n",
    "# 배열의 비교 연산\n",
    "print(arr1 > arr2)\n",
    "print(arr1 > 20)"
   ]
  },
  {
   "cell_type": "code",
   "execution_count": 36,
   "metadata": {},
   "outputs": [
    {
     "name": "stdout",
     "output_type": "stream",
     "text": [
      "[0 1 2 3 4]\n",
      "[10, 2.0]\n",
      "[1.4142135623730951, 2.0]\n",
      "[4, 0]\n",
      "[1 2 3 4]\n",
      "[ 1  3  6 10]\n",
      "[ 1  2  6 24]\n"
     ]
    }
   ],
   "source": [
    "# 배열의 메서드\n",
    "arr3 = np.arange(5)\n",
    "print(arr3)\n",
    "# >>> [0 1 2 3 4]\n",
    "\n",
    "# sum(), mean()\n",
    "# 합, 평균\n",
    "print([arr3.sum(), arr3.mean()])\n",
    "\n",
    "# 표준편차, 분산\n",
    "# std(), var()\n",
    "print([arr3.std(), arr3.var()])\n",
    "\n",
    "# 최댓값, 최솟값\n",
    "# max(), min()\n",
    "print([arr3.max(), arr3.min()])\n",
    "\n",
    "# 누적합, 누적곱\n",
    "# cumsum(), cumprod()\n",
    "arr4 = np.arange(1,5)\n",
    "print(arr4)\n",
    "print(arr4.cumsum())\n",
    "print(arr4.cumprod())"
   ]
  },
  {
   "cell_type": "code",
   "execution_count": 37,
   "metadata": {},
   "outputs": [
    {
     "name": "stdout",
     "output_type": "stream",
     "text": [
      "[[0 1]\n",
      " [2 3]]\n",
      "[[3 2]\n",
      " [0 1]]\n"
     ]
    }
   ],
   "source": [
    "# 행렬 연산\n",
    "A = np.array([0,1,2,3]).reshape(2,2)\n",
    "print(A)\n",
    "\n",
    "B = np.array([3,2,0,1]).reshape(2,2)\n",
    "print(B)"
   ]
  },
  {
   "cell_type": "code",
   "execution_count": 38,
   "metadata": {},
   "outputs": [
    {
     "name": "stdout",
     "output_type": "stream",
     "text": [
      "[[0 1]\n",
      " [6 7]]\n",
      "[[0 1]\n",
      " [6 7]]\n"
     ]
    }
   ],
   "source": [
    "# 행렬의 곱\n",
    "print(A.dot(B))\n",
    "print(np.dot(A,B))"
   ]
  },
  {
   "cell_type": "code",
   "execution_count": 39,
   "metadata": {},
   "outputs": [
    {
     "name": "stdout",
     "output_type": "stream",
     "text": [
      "[[0 2]\n",
      " [1 3]]\n",
      "[[0 2]\n",
      " [1 3]]\n"
     ]
    }
   ],
   "source": [
    "# 행렬 A의 전치행렬\n",
    "print(np.transpose(A))\n",
    "print(A.transpose())"
   ]
  },
  {
   "cell_type": "code",
   "execution_count": 40,
   "metadata": {},
   "outputs": [
    {
     "name": "stdout",
     "output_type": "stream",
     "text": [
      "[[-1.5  0.5]\n",
      " [ 1.   0. ]]\n"
     ]
    }
   ],
   "source": [
    "# 행렬 A의 역행렬 (-A)\n",
    "print(np.linalg.inv(A))"
   ]
  },
  {
   "cell_type": "code",
   "execution_count": 41,
   "metadata": {},
   "outputs": [
    {
     "data": {
      "text/plain": [
       "-2.0"
      ]
     },
     "execution_count": 41,
     "metadata": {},
     "output_type": "execute_result"
    }
   ],
   "source": [
    "# 행렬 A의 행렬식\n",
    "np.linalg.det(A)"
   ]
  },
  {
   "cell_type": "code",
   "execution_count": 47,
   "metadata": {},
   "outputs": [
    {
     "name": "stdout",
     "output_type": "stream",
     "text": [
      "[[10 20 30]\n",
      " [40 50 60]\n",
      " [70 80 90]]\n",
      "30\n",
      "[[10 20 30]\n",
      " [40 50 60]\n",
      " [70 80 95]]\n",
      "[70 80 95]\n",
      "###################\n",
      "[[10 20 30]\n",
      " [ 1  2  3]\n",
      " [70 80 95]]\n"
     ]
    }
   ],
   "source": [
    "# 행렬의 위치 (인덱스는 0부터 시작)\n",
    "a2 = np.arange(10,100,10).reshape(3,3)\n",
    "print(a2)\n",
    "\n",
    "print(a2[0,2])\n",
    "# >>> 행 0, 열 2인 원소 선택 : 30\n",
    "\n",
    "a2[2,2] = 95\n",
    "print(a2)\n",
    "# >>> 90 -> 95 변경.\n",
    "\n",
    "print(a2[2])\n",
    "# >>> 2행 전체 출력\n",
    "\n",
    "print(\"###################\")\n",
    "\n",
    "# 행 전체 변경\n",
    "a2[1] = np.array([1,2,3])\n",
    "print(a2)"
   ]
  },
  {
   "cell_type": "code",
   "execution_count": 53,
   "metadata": {},
   "outputs": [
    {
     "name": "stdout",
     "output_type": "stream",
     "text": [
      "[10 20 30]\n",
      "[ 0 10 20]\n",
      "[20 30 40 50]\n"
     ]
    }
   ],
   "source": [
    "# slicing\n",
    "b1 = np.array([0,10,20,30,40,50])\n",
    "print(b1[1:4])\n",
    "print(b1[:3])\n",
    "print(b1[2:])"
   ]
  },
  {
   "cell_type": "code",
   "execution_count": 54,
   "metadata": {},
   "outputs": [
    {
     "name": "stdout",
     "output_type": "stream",
     "text": [
      "[ 0 10 20 30 40 50 60 70 80]\n",
      "[ 0 10 20 30 77 77 77 77 77]\n"
     ]
    }
   ],
   "source": [
    "# 배열 시작부터 끝 위치까지 원소 변경\n",
    "b1 = np.array([0,10,20,30,40,50,60,70,80])\n",
    "print(b1)\n",
    "b1[4:] = 77\n",
    "print(b1)"
   ]
  },
  {
   "cell_type": "code",
   "execution_count": 57,
   "metadata": {},
   "outputs": [
    {
     "name": "stdout",
     "output_type": "stream",
     "text": [
      "[[10 20 30]\n",
      " [40 50 60]\n",
      " [70 80 90]]\n",
      "[[50 60]\n",
      " [80 90]]\n"
     ]
    }
   ],
   "source": [
    "# 열 슬라이싱\n",
    "b2 = np.arange(10,100,10).reshape(3,3)\n",
    "print(b2)\n",
    "\n",
    "print(b2[1:3, 1:3])"
   ]
  },
  {
   "cell_type": "code",
   "execution_count": null,
   "metadata": {},
   "outputs": [],
   "source": []
  }
 ],
 "metadata": {
  "kernelspec": {
   "display_name": "Python 3",
   "language": "python",
   "name": "python3"
  },
  "language_info": {
   "codemirror_mode": {
    "name": "ipython",
    "version": 3
   },
   "file_extension": ".py",
   "mimetype": "text/x-python",
   "name": "python",
   "nbconvert_exporter": "python",
   "pygments_lexer": "ipython3",
   "version": "3.8.5"
  }
 },
 "nbformat": 4,
 "nbformat_minor": 4
}
