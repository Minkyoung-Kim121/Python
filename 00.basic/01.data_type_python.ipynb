{
 "cells": [
  {
   "cell_type": "code",
   "execution_count": 1,
   "metadata": {},
   "outputs": [
    {
     "data": {
      "text/plain": [
       "list"
      ]
     },
     "execution_count": 1,
     "metadata": {},
     "output_type": "execute_result"
    }
   ],
   "source": [
    "# 데이터 타입\n",
    "# 리스트\n",
    "# 데이터를 묶어서 관리할 때\n",
    "# []\n",
    "a = []\n",
    "type(a)"
   ]
  },
  {
   "cell_type": "code",
   "execution_count": 11,
   "metadata": {},
   "outputs": [
    {
     "name": "stdout",
     "output_type": "stream",
     "text": [
      "[1, 4, 1.4, 'hi', 's']\n"
     ]
    }
   ],
   "source": [
    "a = [1,4,1.4,\"hi\",'s']\n",
    "print(a)"
   ]
  },
  {
   "cell_type": "code",
   "execution_count": 19,
   "metadata": {},
   "outputs": [
    {
     "name": "stdout",
     "output_type": "stream",
     "text": [
      "[1, 2, 3, 4, 5, 2, 5, 3, 6, 2]\n"
     ]
    }
   ],
   "source": [
    "# list 연결\n",
    "a = [1,2,3,4,5]\n",
    "b = [2,5,3,6,2]\n",
    "c = a + b\n",
    "print(c)"
   ]
  },
  {
   "cell_type": "code",
   "execution_count": 20,
   "metadata": {},
   "outputs": [
    {
     "name": "stdout",
     "output_type": "stream",
     "text": [
      "2\n",
      "5\n"
     ]
    }
   ],
   "source": [
    "py = [1,2,3,4,5]\n",
    "a = py[1]\n",
    "b = py[4]\n",
    "print(a)\n",
    "print(b)"
   ]
  },
  {
   "cell_type": "code",
   "execution_count": 21,
   "metadata": {},
   "outputs": [
    {
     "name": "stdout",
     "output_type": "stream",
     "text": [
      "['python', 'is', 'fun']\n"
     ]
    },
    {
     "data": {
      "text/plain": [
       "list"
      ]
     },
     "execution_count": 21,
     "metadata": {},
     "output_type": "execute_result"
    }
   ],
   "source": [
    "str = [\"python\", \"is\", \"fun\"]\n",
    "print(str)\n",
    "type(str)"
   ]
  },
  {
   "cell_type": "code",
   "execution_count": 22,
   "metadata": {},
   "outputs": [
    {
     "data": {
      "text/plain": [
       "[1, 2, 3, 1, 2, 3, 1, 2, 3]"
      ]
     },
     "execution_count": 22,
     "metadata": {},
     "output_type": "execute_result"
    }
   ],
   "source": [
    "# list 반복\n",
    "a = [1,2,3]\n",
    "a*3"
   ]
  },
  {
   "cell_type": "code",
   "execution_count": 24,
   "metadata": {},
   "outputs": [
    {
     "name": "stdout",
     "output_type": "stream",
     "text": [
      "[1, 2, 3, 4, 5, 6, 7, 8, 9]\n",
      "1\n",
      "9\n",
      "[1, 2, 3]\n",
      "[4, 5, 6, 7]\n",
      "[1, 2, 3, 4, 5, 6, 7, 8]\n"
     ]
    }
   ],
   "source": [
    "# list의 인덱스\n",
    "a = [1,2,3,4,5,6,7,8,9]\n",
    "print(a)\n",
    "print(a[0])\n",
    "print(a[8])\n",
    "print(a[:3])\n",
    "print(a[3:7])\n",
    "print(a[:8])"
   ]
  },
  {
   "cell_type": "code",
   "execution_count": 28,
   "metadata": {},
   "outputs": [
    {
     "name": "stdout",
     "output_type": "stream",
     "text": [
      "[1, 2, 3, 4, 5]\n",
      "True\n",
      "[1, 2, 4, 5]\n",
      "False\n"
     ]
    }
   ],
   "source": [
    "# 리스트 삭제\n",
    "a = [1,2,3,4,5]\n",
    "print(a)\n",
    "print(3 in a)\n",
    "del a[2]\n",
    "print(a)\n",
    "print(3 in a)"
   ]
  },
  {
   "cell_type": "code",
   "execution_count": 30,
   "metadata": {},
   "outputs": [
    {
     "name": "stdout",
     "output_type": "stream",
     "text": [
      "['hi', 'hello', 'bye']\n",
      "['hi', 'hello', 'bye', 'goodmorning']\n"
     ]
    }
   ],
   "source": [
    "# 리스트의 메소드\n",
    "# append()\n",
    "a = ['hi', 'hello', 'bye']\n",
    "print(a)\n",
    "a.append('goodmorning') # <<< 리스트의 맨 끝에 추가\n",
    "print(a)"
   ]
  },
  {
   "cell_type": "code",
   "execution_count": 31,
   "metadata": {},
   "outputs": [
    {
     "name": "stdout",
     "output_type": "stream",
     "text": [
      "[1, 2, 4, 5, 6]\n",
      "[1, 2, 3, 4, 5, 6]\n"
     ]
    }
   ],
   "source": [
    "# insert()\n",
    "a = [1,2,4,5,6]\n",
    "print(a)\n",
    "a.insert(2,3) # <<< index 2 에 3을 삽입\n",
    "print(a)"
   ]
  },
  {
   "cell_type": "code",
   "execution_count": 33,
   "metadata": {},
   "outputs": [
    {
     "name": "stdout",
     "output_type": "stream",
     "text": [
      "['python', 'r', 'sql', 'java']\n",
      "['python', 'r', 'sql', 'java', 'big', 'data']\n"
     ]
    }
   ],
   "source": [
    "# extend()\n",
    "a = ['python', 'r', 'sql', 'java']\n",
    "print(a)\n",
    "a.extend(['big','data']) # <<< 리스트의 맨 끝에 여러 개 추가\n",
    "print(a)"
   ]
  },
  {
   "cell_type": "code",
   "execution_count": 34,
   "metadata": {},
   "outputs": [
    {
     "name": "stdout",
     "output_type": "stream",
     "text": [
      "(1, 2, 3, 4, 5)\n"
     ]
    },
    {
     "data": {
      "text/plain": [
       "tuple"
      ]
     },
     "execution_count": 34,
     "metadata": {},
     "output_type": "execute_result"
    }
   ],
   "source": [
    "# 튜플\n",
    "# tuple\n",
    "# ()\n",
    "# ,\n",
    "a = (1,2,3,4,5)\n",
    "print(a)\n",
    "type(a)"
   ]
  },
  {
   "cell_type": "code",
   "execution_count": 36,
   "metadata": {},
   "outputs": [
    {
     "name": "stdout",
     "output_type": "stream",
     "text": [
      "(1, 2, 3, 4, 5, 3, 2, 4, 2, 6)\n"
     ]
    }
   ],
   "source": [
    "# 튜플 연결\n",
    "a = (1,2,3,4,5)\n",
    "b = (3,2,4,2,6)\n",
    "c = a+b\n",
    "print(c)"
   ]
  },
  {
   "cell_type": "code",
   "execution_count": 40,
   "metadata": {},
   "outputs": [
    {
     "ename": "TypeError",
     "evalue": "'tuple' object doesn't support item deletion",
     "output_type": "error",
     "traceback": [
      "\u001b[0;31m---------------------------------------------------------------------------\u001b[0m",
      "\u001b[0;31mTypeError\u001b[0m                                 Traceback (most recent call last)",
      "\u001b[0;32m<ipython-input-40-653db32de720>\u001b[0m in \u001b[0;36m<module>\u001b[0;34m\u001b[0m\n\u001b[1;32m      2\u001b[0m \u001b[0;31m# 리스트와 다른 점.\u001b[0m\u001b[0;34m\u001b[0m\u001b[0;34m\u001b[0m\u001b[0;34m\u001b[0m\u001b[0m\n\u001b[1;32m      3\u001b[0m \u001b[0ma\u001b[0m \u001b[0;34m=\u001b[0m \u001b[0;34m(\u001b[0m\u001b[0;36m1\u001b[0m\u001b[0;34m,\u001b[0m\u001b[0;36m2\u001b[0m\u001b[0;34m,\u001b[0m\u001b[0;36m3\u001b[0m\u001b[0;34m,\u001b[0m\u001b[0;36m4\u001b[0m\u001b[0;34m,\u001b[0m\u001b[0;36m5\u001b[0m\u001b[0;34m)\u001b[0m\u001b[0;34m\u001b[0m\u001b[0;34m\u001b[0m\u001b[0m\n\u001b[0;32m----> 4\u001b[0;31m \u001b[0;32mdel\u001b[0m \u001b[0ma\u001b[0m\u001b[0;34m[\u001b[0m\u001b[0;36m1\u001b[0m\u001b[0;34m]\u001b[0m\u001b[0;34m\u001b[0m\u001b[0;34m\u001b[0m\u001b[0m\n\u001b[0m",
      "\u001b[0;31mTypeError\u001b[0m: 'tuple' object doesn't support item deletion"
     ]
    }
   ],
   "source": [
    "# 튜플은 요소를 변경하거나 삭제할 수 없다.\n",
    "# 리스트와 다른 점.\n",
    "a = (1,2,3,4,5)\n",
    "del a[1]"
   ]
  },
  {
   "cell_type": "code",
   "execution_count": 41,
   "metadata": {},
   "outputs": [
    {
     "data": {
      "text/plain": [
       "0"
      ]
     },
     "execution_count": 41,
     "metadata": {},
     "output_type": "execute_result"
    }
   ],
   "source": [
    "# tuple index\n",
    "a = (1,2,3,4,5)\n",
    "a.index(1) # >>> 0 : 첫번째 인덱스"
   ]
  },
  {
   "cell_type": "code",
   "execution_count": 42,
   "metadata": {},
   "outputs": [
    {
     "data": {
      "text/plain": [
       "4"
      ]
     },
     "execution_count": 42,
     "metadata": {},
     "output_type": "execute_result"
    }
   ],
   "source": [
    "# 특정 인자와 일치하는 항목의 개수\n",
    "a = (1,1,1,1,4,2,5,5,5,3)\n",
    "a.count(1) # >>> 4 : 1 이 4 개"
   ]
  },
  {
   "cell_type": "code",
   "execution_count": 43,
   "metadata": {},
   "outputs": [
    {
     "data": {
      "text/plain": [
       "set"
      ]
     },
     "execution_count": 43,
     "metadata": {},
     "output_type": "execute_result"
    }
   ],
   "source": [
    "# 세트\n",
    "# Set\n",
    "# 데이터 중복 불가\n",
    "# 튜플과 다른 점.\n",
    "# {}\n",
    "a = {1,2,3,4,5}\n",
    "type(a)"
   ]
  },
  {
   "cell_type": "code",
   "execution_count": 45,
   "metadata": {},
   "outputs": [
    {
     "name": "stdout",
     "output_type": "stream",
     "text": [
      "{1, 2, 3, 4, 5}\n",
      "{1, 2, 3, 4, 5}\n"
     ]
    }
   ],
   "source": [
    "a = {1,2,3,4,5}\n",
    "b = {1,2,3,4,5,5}\n",
    "print(a)\n",
    "print(b) # >>> 중복된 5는 삭제되고 1,2,3,4,5로 출력"
   ]
  },
  {
   "cell_type": "code",
   "execution_count": 48,
   "metadata": {},
   "outputs": [
    {
     "name": "stdout",
     "output_type": "stream",
     "text": [
      "{1, 2, 3, 4, 5}\n",
      "{4, 5, 6, 7, 8, 9, 10}\n",
      "{4, 5}\n",
      "{4, 5}\n",
      "{1, 2, 3, 4, 5, 6, 7, 8, 9, 10}\n",
      "{1, 2, 3, 4, 5, 6, 7, 8, 9, 10}\n",
      "{1, 2, 3}\n",
      "{1, 2, 3}\n"
     ]
    }
   ],
   "source": [
    "a = {1,2,3,4,5}\n",
    "b = {4,5,6,7,8,9,10}\n",
    "print(a)\n",
    "print(b)\n",
    "# 교집합\n",
    "print(a.intersection(b))\n",
    "print(a & b)\n",
    "\n",
    "# 합집합\n",
    "print(a.union(b))\n",
    "print(a | b)\n",
    "\n",
    "# 차집합\n",
    "print(a.difference(b))\n",
    "print(a-b)"
   ]
  },
  {
   "cell_type": "code",
   "execution_count": 50,
   "metadata": {},
   "outputs": [
    {
     "name": "stdout",
     "output_type": "stream",
     "text": [
      "<class 'list'>\n",
      "<class 'tuple'>\n",
      "<class 'set'>\n"
     ]
    }
   ],
   "source": [
    "# 리스트, 튜플, 세트간 변환\n",
    "a = [1,2,3,4,5]\n",
    "print(type(a))\n",
    "\n",
    "b = tuple(a)\n",
    "print(type(b))\n",
    "\n",
    "c = set(a)\n",
    "print(type(c))"
   ]
  },
  {
   "cell_type": "code",
   "execution_count": 57,
   "metadata": {},
   "outputs": [
    {
     "name": "stdout",
     "output_type": "stream",
     "text": [
      "{'영국': '런던', '한국': '서울', '북한': '평양', '프랑스': '파리', '호주': '캔버라'}\n",
      "<class 'dict'>\n",
      "런던\n"
     ]
    }
   ],
   "source": [
    "# 딕셔너리\n",
    "# dictionary\n",
    "# key and value\n",
    "# {}\n",
    "# :\n",
    "# {a:b, c:d}\n",
    "a = {\"영국\":\"런던\", \"한국\":\"서울\", \"북한\":\"평양\", \"프랑스\":\"파리\", \"호주\":\"캔버라\"}\n",
    "print(a)\n",
    "print(type(a))\n",
    "# >>> 딕셔너리는 순서 x but, python 3.6부터는 순서대로 출력된다.\n",
    "\n",
    "# key -> value 읽기\n",
    "print(a[\"영국\"])\n",
    "# >>> 인덱스가 아니라, 키를 의미한다."
   ]
  },
  {
   "cell_type": "code",
   "execution_count": 61,
   "metadata": {},
   "outputs": [
    {
     "name": "stdout",
     "output_type": "stream",
     "text": [
      "{'영국': '런던', '한국': '서울', '북한': '평양', '프랑스': '파리', '호주': '캔버라'}\n",
      "{'영국': '런던', '한국': '서울', '북한': '평양', '프랑스': '파리', '호주': '캔버라', '독일': '베를린'}\n",
      "{'영국': '런던', '한국': 'seoul', '북한': '평양', '프랑스': '파리', '호주': '캔버라', '독일': '베를린'}\n",
      "{'한국': 'seoul', '북한': '평양', '프랑스': '파리', '호주': '캔버라', '독일': '베를린'}\n"
     ]
    }
   ],
   "source": [
    "# 딕셔너리 데이터 추가\n",
    "a = {\"영국\":\"런던\", \"한국\":\"서울\", \"북한\":\"평양\", \"프랑스\":\"파리\", \"호주\":\"캔버라\"}\n",
    "print(a)\n",
    "\n",
    "a[\"독일\"] = \"베를린\"\n",
    "print(a)\n",
    "\n",
    "# 수정\n",
    "a[\"한국\"] = \"seoul\"\n",
    "print(a)\n",
    "\n",
    "# 삭제\n",
    "del a[\"영국\"]\n",
    "print(a)"
   ]
  },
  {
   "cell_type": "code",
   "execution_count": 65,
   "metadata": {},
   "outputs": [
    {
     "name": "stdout",
     "output_type": "stream",
     "text": [
      "{'apple': 1, 'banana': 2, 'strawberry': 3, 'mango': 4}\n",
      "dict_keys(['apple', 'banana', 'strawberry', 'mango'])\n",
      "<class 'dict_keys'>\n",
      "dict_values([1, 2, 3, 4])\n",
      "<class 'dict_values'>\n",
      "dict_items([('apple', 1), ('banana', 2), ('strawberry', 3), ('mango', 4)])\n",
      "<class 'dict_items'>\n",
      "{'orange': 5}\n",
      "{'apple': 1, 'banana': 2, 'strawberry': 3, 'mango': 4, 'orange': 5}\n",
      "{}\n"
     ]
    }
   ],
   "source": [
    "# 딕셔너리 메서드\n",
    "fruit = {\"apple\":1, \"banana\":2, \"strawberry\":3, \"mango\":4}\n",
    "print(fruit)\n",
    "\n",
    "# keys()\n",
    "print(fruit.keys())\n",
    "print(type(fruit.keys()))\n",
    "# >>> key 만 출력\n",
    "\n",
    "# values()\n",
    "print(fruit.values())\n",
    "print(type(fruit.values()))\n",
    "# 값만 출력\n",
    "\n",
    "# items()\n",
    "print(fruit.items())\n",
    "print(type(fruit.items()))\n",
    "# 키,값의 쌍을 출력\n",
    "\n",
    "# 추가\n",
    "fruit2 = {\"orange\":5}\n",
    "print(fruit2)\n",
    "\n",
    "fruit.update(fruit2)\n",
    "print(fruit)\n",
    "\n",
    "# 빈 딕셔너리 만들기\n",
    "fruit.clear()\n",
    "print(fruit)\n",
    "# >>> {} : 깡통 딕셔너리 됨!"
   ]
  },
  {
   "cell_type": "code",
   "execution_count": null,
   "metadata": {},
   "outputs": [],
   "source": []
  }
 ],
 "metadata": {
  "kernelspec": {
   "display_name": "Python 3",
   "language": "python",
   "name": "python3"
  },
  "language_info": {
   "codemirror_mode": {
    "name": "ipython",
    "version": 3
   },
   "file_extension": ".py",
   "mimetype": "text/x-python",
   "name": "python",
   "nbconvert_exporter": "python",
   "pygments_lexer": "ipython3",
   "version": "3.8.5"
  }
 },
 "nbformat": 4,
 "nbformat_minor": 4
}
