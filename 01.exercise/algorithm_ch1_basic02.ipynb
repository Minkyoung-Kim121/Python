{
 "cells": [
  {
   "cell_type": "code",
   "execution_count": 2,
   "metadata": {},
   "outputs": [
    {
     "name": "stdout",
     "output_type": "stream",
     "text": [
      "a부터 b까지 정수의 합 구하기\n",
      "a: 1\n",
      "b: 10\n",
      "1부터 10까지 정수의 합:55\n"
     ]
    }
   ],
   "source": [
    "# range() 함수로 이터러블 객체 생성하기\n",
    "# range(n) : 0 이상 n 미만인 수를 차례로 나열하는 수열\n",
    "# range(a,b) : a이상 b미만인 수를 차례로 나열하는 수열\n",
    "# range(a,b,step) : a이상 b미만인 수를 step 간격으로 나열하는 수열\n",
    "\n",
    "# 이터러블 객체 : 반복할 수 있는 객체\n",
    "# list, str, tuple\n",
    "\n",
    "# 연속하는 정수의 합을 구할 때 시작하는 값이 1이 아닌 정수를 입력받았다면\n",
    "# range() 함수에 전달할 시작값과 끝값을 오름차순으로 정렬해야 한다.\n",
    "\n",
    "# a부터 b까지 정수의 합 구하기\n",
    "# for 문\n",
    "\n",
    "print('a부터 b까지 정수의 합 구하기')\n",
    "a = int(input('a: '))\n",
    "b = int(input('b: '))\n",
    "\n",
    "if a>b:\n",
    "    a,b = b,a\n",
    "    # a,b를 오름차순으로 정렬\n",
    "    # >>> a가 b보다 크면 a,b를 교환하는 방식으로 오름차순 정렬\n",
    "sum = 0\n",
    "for i in range(a, b+1):\n",
    "    sum += i\n",
    "\n",
    "print(f'{a}부터 {b}까지 정수의 합:{sum}')\n"
   ]
  },
  {
   "cell_type": "code",
   "execution_count": null,
   "metadata": {},
   "outputs": [],
   "source": []
  }
 ],
 "metadata": {
  "kernelspec": {
   "display_name": "Python 3",
   "language": "python",
   "name": "python3"
  },
  "language_info": {
   "codemirror_mode": {
    "name": "ipython",
    "version": 3
   },
   "file_extension": ".py",
   "mimetype": "text/x-python",
   "name": "python",
   "nbconvert_exporter": "python",
   "pygments_lexer": "ipython3",
   "version": "3.8.5"
  }
 },
 "nbformat": 4,
 "nbformat_minor": 4
}
