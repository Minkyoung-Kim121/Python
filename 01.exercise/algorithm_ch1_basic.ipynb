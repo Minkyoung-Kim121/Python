{
 "cells": [
  {
   "cell_type": "code",
   "execution_count": 2,
   "metadata": {},
   "outputs": [
    {
     "name": "stdout",
     "output_type": "stream",
     "text": [
      "세 정수의 최댓값\n",
      "정수 a : 1\n",
      "정수 b : 2\n",
      "정수 c : 3\n",
      "max는 3입니다\n"
     ]
    }
   ],
   "source": [
    "# 알고리즘 : 어떠한 문제를 해결하기 위해 정해 놓은 일련의 절차\n",
    "# 올바른 알고리즘 : 어떤 경우에도 실행 결과가 똑같이 나오는 것\n",
    "\n",
    "# 정수 3개를 입력받아 최댓값 구하기\n",
    "\n",
    "print('세 정수의 최댓값')\n",
    "a = int(input('정수 a : '))\n",
    "b = int(input('정수 b : '))\n",
    "c = int(input('정수 c : '))\n",
    "\n",
    "maxx = a\n",
    "if b > maxx:\n",
    "    maxx = b\n",
    "if c > maxx:\n",
    "    maxx = c\n",
    "\n",
    "print(f'max는 {maxx}입니다')\n",
    "\n",
    "# if 와 콜론 사이에 있는 식 : 조건식\n",
    "# 조건식으로 평가한 결과에 따라 프로그램의 실행 흐름이 변경 >>> 선택 구조(select structure)"
   ]
  },
  {
   "cell_type": "code",
   "execution_count": 3,
   "metadata": {},
   "outputs": [
    {
     "name": "stdout",
     "output_type": "stream",
     "text": [
      "name을 입력하세요:김민경\n",
      "안녕. 김민경?\n"
     ]
    }
   ],
   "source": [
    "# 이름을 str로 받아 화면에 출력하는 프로그램\n",
    "\n",
    "print('name을 입력하세요:', end='')\n",
    "name = input()\n",
    "print(f'안녕. {name}?')\n",
    "\n",
    "# input() : 키보드로 문자열을 입력받아 반환하는 함수"
   ]
  },
  {
   "cell_type": "code",
   "execution_count": 4,
   "metadata": {},
   "outputs": [
    {
     "name": "stdout",
     "output_type": "stream",
     "text": [
      "이름 : 김민경\n",
      "안녕하세요. 김민경님?\n"
     ]
    }
   ],
   "source": [
    "# 이름을 입력받아 인사하기\n",
    "\n",
    "name = input('이름 : ')\n",
    "print(f'안녕하세요. {name}님?')"
   ]
  },
  {
   "cell_type": "code",
   "execution_count": 7,
   "metadata": {},
   "outputs": [
    {
     "name": "stdout",
     "output_type": "stream",
     "text": [
      "17\n",
      "6\n",
      "61\n",
      "13\n",
      "63\n",
      "3.14\n"
     ]
    }
   ],
   "source": [
    "# 형변환\n",
    "# type conversion\n",
    "\n",
    "print(int('17'))\n",
    "# 10진수 문자열 >>> 10진수 정수형\n",
    "\n",
    "print(int('0b110', 2))\n",
    "# 2진수 문자열 >>> 10진수 정수형\n",
    "\n",
    "print(int('0o75', 8))\n",
    "# 8진수 문자열 >>> 10진수 정수형\n",
    "\n",
    "print(int('13' ,10))\n",
    "# 10진수 문자열 >>> 10진수 정수형\n",
    "\n",
    "print(int('0x3F', 16))\n",
    "# 16진수 문자열 >>> 10진수 정수형\n",
    "\n",
    "print(float('3.14'))\n",
    "# 문자열 >>> 실수형"
   ]
  },
  {
   "cell_type": "code",
   "execution_count": 8,
   "metadata": {},
   "outputs": [],
   "source": [
    "# float : 부동 소수점 방식 사용\n",
    "# 부동 소수점 방식 \n",
    "# : 컴퓨터에서 실수를 근삿값으로 표현할 때 사용.\n",
    "#   실수를 가수, 지수로 나눠 표현 >>>> 가수 : 유효숫자 / 지수 : 소수점의 위치\n",
    "#   고정 소수점 방식보다 넓은 범위의 수를 나타낼 수 있다.\n",
    "#   과학, 수학 계산 등을 할 때 주로 사용.\n",
    "#   but, 근삿값으로 표현되고, 고정 소수점 보다 연산 속도가 느리기 때문에\n",
    "#   >>> 부동 소수점 방식을 위한 별도의 연산 장치를 두는 경우가 많다."
   ]
  },
  {
   "cell_type": "code",
   "execution_count": 9,
   "metadata": {},
   "outputs": [],
   "source": [
    "# 조건식에 따라 알고리즘이 두 갈래로 나뉘는 것 : 양 갈래 선택\n",
    "# 복합문은 if, while 키워드로 시작하여 콜론(:)으로 끝난다.\n",
    "# 해당 부분을 헤더(header)라고 부른다.\n",
    "# 헤더의 마지막 콜론은 바로 뒤에 스위트가 이어집니다를 의미"
   ]
  },
  {
   "cell_type": "code",
   "execution_count": 15,
   "metadata": {},
   "outputs": [
    {
     "name": "stdout",
     "output_type": "stream",
     "text": [
      "max3(1,2,3) = 3\n",
      "max3(1,3,2) = 3\n",
      "max3(2,1,3) = 3\n",
      "max3(2,3,1) = 3\n",
      "max3(3,1,2) = 3\n",
      "max3(3,2,1) = 3\n",
      "max3(3,2,2) = 3\n",
      "max3(3,2,3) = 3\n"
     ]
    }
   ],
   "source": [
    "# 세 정수의 최댓값 구하기\n",
    "\n",
    "def max3(a,b,c):\n",
    "    maxx = a\n",
    "    if b > maxx:\n",
    "        maxx = b\n",
    "    if c > maxx:\n",
    "        maxx = c\n",
    "    return maxx\n",
    "    # 함수 내부에서 처리한 값을 반환할 때 : return 사용\n",
    "\n",
    "print(f'max3(1,2,3) = {max3(1,2,3)}')\n",
    "print(f'max3(1,3,2) = {max3(1,3,2)}')\n",
    "print(f'max3(2,1,3) = {max3(2,1,3)}')\n",
    "print(f'max3(2,3,1) = {max3(2,3,1)}')\n",
    "print(f'max3(3,1,2) = {max3(3,1,2)}')\n",
    "print(f'max3(3,2,1) = {max3(3,2,1)}')\n",
    "print(f'max3(3,2,2) = {max3(3,2,2)}')\n",
    "print(f'max3(3,2,3) = {max3(3,2,3)}')"
   ]
  },
  {
   "cell_type": "code",
   "execution_count": 16,
   "metadata": {},
   "outputs": [],
   "source": [
    "# PEP 8 : 파이썬 스타일 가이드\n",
    "# 들여쓰기 : 공백 4개\n",
    "# 스타일 통일\n",
    "# 해당 문서를 통해 파이썬의 일관된 규칙을 가이드로 제공\n",
    "# 클래스명 : 카멜 케이스(CamelCase) >>> HelloPython\n",
    "# 함수명 : 스네이크(snake_ease) >>> hello_python"
   ]
  },
  {
   "cell_type": "code",
   "execution_count": 17,
   "metadata": {},
   "outputs": [],
   "source": [
    "# deision tree\n",
    "# 결정트리\n",
    "# 왼쪽 끝에서 시작하여 오른쪽으로 나아간다."
   ]
  },
  {
   "cell_type": "code",
   "execution_count": 24,
   "metadata": {},
   "outputs": [
    {
     "name": "stdout",
     "output_type": "stream",
     "text": [
      "세 정수의 중앙값\n",
      "a : 1\n",
      "b : 2\n",
      "c : 3\n",
      "중앙값: 2입니다.\n"
     ]
    }
   ],
   "source": [
    "# 세 정수를 입력받아 중앙값 구하기\n",
    "\n",
    "def med3(a,b,c):\n",
    "    if a >= b:\n",
    "        if b >= c:\n",
    "            return b\n",
    "        elif a <= c:\n",
    "            return a\n",
    "        else:\n",
    "            return c\n",
    "    elif a > c:\n",
    "        return a\n",
    "    elif b > c:\n",
    "        return c\n",
    "    else:\n",
    "        return b\n",
    "    \n",
    "print('세 정수의 중앙값')\n",
    "a = int(input('a : '))\n",
    "b = int(input('b : '))\n",
    "c = int(input('c : '))\n",
    "\n",
    "print(f'중앙값: {med3(a,b,c)}입니다.')"
   ]
  },
  {
   "cell_type": "code",
   "execution_count": 26,
   "metadata": {},
   "outputs": [
    {
     "name": "stdout",
     "output_type": "stream",
     "text": [
      "세 정수의 중앙값\n",
      "a: 1\n",
      "b: 2\n",
      "c: 3\n",
      "median : 2\n"
     ]
    }
   ],
   "source": [
    "# 세 정수를 입력받아 중앙값 구하기_2\n",
    "\n",
    "def medd3(a,b,c):\n",
    "    if (b>=a and c<=a) or (b<=a and c>=a):\n",
    "        return a\n",
    "    elif (a>b and c<b) or (a<b and c>b):\n",
    "        return b\n",
    "    return c\n",
    "\n",
    "print('세 정수의 중앙값')\n",
    "a = int(input('a: '))\n",
    "b = int(input('b: '))\n",
    "c = int(input('c: '))\n",
    "\n",
    "print(f'median : {medd3(a,b,c)}')\n",
    "\n",
    "# >>> if문의 조건식이 성립하지 않아므녀 elif 문은 해당 판단을 수행할 필요가 없기 때문에\n",
    "#     비효율적임."
   ]
  },
  {
   "cell_type": "code",
   "execution_count": 30,
   "metadata": {},
   "outputs": [
    {
     "name": "stdout",
     "output_type": "stream",
     "text": [
      "정수 : 0\n",
      "0\n"
     ]
    }
   ],
   "source": [
    "# 분기\n",
    "# branching\n",
    "# : 프로그램의 실행 흐름을 다른 곳으로 변경하는 명령\n",
    "\n",
    "# 입력받은 정수의 부호(양,음,0) 출력\n",
    "\n",
    "n = int(input('정수 : '))\n",
    "if n>0:\n",
    "    print('양수')\n",
    "elif n<0:\n",
    "    print('음수')\n",
    "else:\n",
    "    print('0')"
   ]
  },
  {
   "cell_type": "code",
   "execution_count": 33,
   "metadata": {},
   "outputs": [
    {
     "name": "stdout",
     "output_type": "stream",
     "text": [
      "정수: 2\n",
      "B\n"
     ]
    }
   ],
   "source": [
    "# 3개로 분기하는 분기문\n",
    "\n",
    "n = int(input('정수: '))\n",
    "if n == 1:\n",
    "    print('A')\n",
    "elif n == 2:\n",
    "    print('B')\n",
    "else:\n",
    "    print('C')"
   ]
  },
  {
   "cell_type": "code",
   "execution_count": 36,
   "metadata": {},
   "outputs": [
    {
     "name": "stdout",
     "output_type": "stream",
     "text": [
      "정수: 3\n",
      "C\n"
     ]
    }
   ],
   "source": [
    "# 4개로 분기하는 분기문\n",
    "\n",
    "n = int(input('정수: '))\n",
    "if n == 1:\n",
    "    print('A')\n",
    "elif n == 2:\n",
    "    print('B')\n",
    "elif n == 3:\n",
    "        print('C')"
   ]
  },
  {
   "cell_type": "code",
   "execution_count": 39,
   "metadata": {},
   "outputs": [
    {
     "name": "stdout",
     "output_type": "stream",
     "text": [
      "정수: 4\n"
     ]
    }
   ],
   "source": [
    "# 다시 한 번 해보기\n",
    "\n",
    "n = int(input('정수: '))\n",
    "\n",
    "if n == 1:\n",
    "    print('A')\n",
    "elif n == 2:\n",
    "    print('B')\n",
    "elif n == 3:\n",
    "    print('C')\n",
    "else:\n",
    "    pass\n",
    "\n",
    "# pass >>> 아무것도 수행하지 말고 그냥 지나치라는 의미"
   ]
  },
  {
   "cell_type": "code",
   "execution_count": 42,
   "metadata": {},
   "outputs": [
    {
     "name": "stdout",
     "output_type": "stream",
     "text": [
      "x:1\n",
      "y:2\n",
      "c는 0이 아니다\n"
     ]
    }
   ],
   "source": [
    "# 산술 연산자 : + -  (operator)\n",
    "# 피연산자 : 연산 대상 (operand)\n",
    "\n",
    "# 단항 연산자\n",
    "# unary operator\n",
    "# : 피연산자 1개\n",
    "# ex) -a\n",
    "\n",
    "# 이항 연산자\n",
    "# binary operator\n",
    "# : 피연산자 2개\n",
    "# ex) a<b\n",
    "\n",
    "# 삼항 연산자\n",
    "# ternary operator\n",
    "# : 피연산자 3개\n",
    "# ex) a if b else c\n",
    "\n",
    "# 조건 연산자(if~ else문)\n",
    "# conditional operator\n",
    "# python의 유일한 삼항 연산자\n",
    "\n",
    "x = int(input('x:'))\n",
    "y = int(input('y:'))\n",
    "\n",
    "a = x if x > y else y\n",
    "print('c는 0이고' if c==0 else 'c는 0이 아니다')"
   ]
  },
  {
   "cell_type": "code",
   "execution_count": 43,
   "metadata": {},
   "outputs": [],
   "source": [
    "# 순서도\n",
    "# flowchart\n",
    "# : 문제를 정의 및 분석하고 해결하는 방법을 그림으로 표현\n",
    "# 실제로 실행할 연산을 나타내는 기호, 제어 흐름을 나타내는 기호, 프로그램 순서도를 이해하거나 작성하는 데 편리한 특수 기호 등의 기호가 존재한다.\n",
    "\n",
    "# 데이터\n",
    "\n",
    "# 처리\n",
    "# : 정보의 값,형,위치를 바꾸도록 정의한 연산이나 연산 집합의 실행 \n",
    "#   또는 연속하는 몇가지 흐름 중 하나의 방향을 결정하는 연산이나 연산 집합의 실행을 나타낸다.\n",
    "\n",
    "# 미리 정의한 처리\n",
    "# : 서브루틴 혹은 모듈 등 다른 곳에서 이미 정의한 하나 이상의 연상 또는 명령으로 이뤄진 처리\n",
    "\n",
    "# 판단\n",
    "# : 하나의 입구, 하나 이상을 선택하는 출구 존재\n",
    "#   예상되는 형가 결과는 경로를 나타낸 선 가까이에 표현한다.\n",
    "\n",
    "# 루프 범위\n",
    "# : 루프의 시작과 종료\n",
    "\n",
    "# 선\n",
    "# : 흐름의 방향을 나타냄. 화살표 사용\n",
    "\n",
    "# 단말\n",
    "# : 외부환경으로 나가거나 들어오는 것을 나타냄\n",
    "#   프로그램 흐름의 시작과 종료를 나타낸다."
   ]
  },
  {
   "cell_type": "code",
   "execution_count": 44,
   "metadata": {},
   "outputs": [
    {
     "name": "stdout",
     "output_type": "stream",
     "text": [
      "1부터 n까지 정수의 합을 구하자\n",
      "n: 40\n",
      "1~40까지 정수합: 820\n"
     ]
    }
   ],
   "source": [
    "# 반복 알고리즘\n",
    "# 1 - n 까지 정수 합 구하기\n",
    "# while\n",
    "\n",
    "print('1부터 n까지 정수의 합을 구하자')\n",
    "n = int(input('n: '))\n",
    "\n",
    "sum = 0\n",
    "i = 1\n",
    "\n",
    "while i <= n: # i 가 n보다 작거나 같은 동안 반복\n",
    "    sum += i  # sum 에 i를 더함\n",
    "    i += 1    # i에 1을 더함\n",
    "    \n",
    "print(f'1~{n}까지 정수합: {sum}')"
   ]
  },
  {
   "cell_type": "code",
   "execution_count": 47,
   "metadata": {},
   "outputs": [
    {
     "name": "stdout",
     "output_type": "stream",
     "text": [
      "1부터 n까지의 정수 합 구하기\n",
      "n: 40\n",
      "1부터 40까지의 정수 합은: 820\n"
     ]
    }
   ],
   "source": [
    "# while 문 반복\n",
    "# 반복 구조(repetition structure)\n",
    "# loop\n",
    "# 반복을 계속할 것인지 판단하는 구조 : 사전 판단 반복 구조\n",
    "# while 조건식: 명령문\n",
    "# 루프 본문 : 반복 대상이 되는 명령문\n",
    "# i : 카운터용 변수 >>> 반복을 제어할 때 사용한다.\n",
    "\n",
    "# for 문 반복\n",
    "# 변수가 하나만 있을 때 사용하는 것이 좋다.\n",
    "\n",
    "# 1부터 n까지의 정수 합 구하기\n",
    "\n",
    "print('1부터 n까지의 정수 합 구하기')\n",
    "n = int(input('n: '))\n",
    "\n",
    "sum = 0\n",
    "for i in range(1, n+1):\n",
    "    sum += i\n",
    "\n",
    "print(f'1부터 {n}까지의 정수 합은: {sum}')"
   ]
  },
  {
   "cell_type": "code",
   "execution_count": 48,
   "metadata": {},
   "outputs": [],
   "source": [
    "# 가우스의 덧셈\n",
    "# 1부터 n까지 정수의 합\n",
    "# n x (n-1) / 2\n",
    "# sum = n * (n+1) // 2"
   ]
  },
  {
   "cell_type": "code",
   "execution_count": null,
   "metadata": {},
   "outputs": [],
   "source": []
  }
 ],
 "metadata": {
  "kernelspec": {
   "display_name": "Python 3",
   "language": "python",
   "name": "python3"
  },
  "language_info": {
   "codemirror_mode": {
    "name": "ipython",
    "version": 3
   },
   "file_extension": ".py",
   "mimetype": "text/x-python",
   "name": "python",
   "nbconvert_exporter": "python",
   "pygments_lexer": "ipython3",
   "version": "3.8.5"
  }
 },
 "nbformat": 4,
 "nbformat_minor": 4
}
