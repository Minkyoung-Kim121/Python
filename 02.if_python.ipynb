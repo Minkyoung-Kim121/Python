{
 "cells": [
  {
   "cell_type": "code",
   "execution_count": null,
   "metadata": {},
   "outputs": [],
   "source": [
    "# if 조건문:\n",
    "#  코드 블록\n",
    "# else 코드 블록\n",
    "\n",
    "# :, 띄어쓰기는 python의 문법이기 때문에\n",
    "# 잘 지켜야 한다.\n",
    "\n",
    "# 들여쓰기는 탭 또는 공백(띄어쓰기)\n",
    "# 공백은 보통 네 칸 정도\n",
    "# 탭도 사용해도 되지만, 공백과 탭을 동시에 같은 코드에 사용하면 안 됨\n",
    "# 주피터에서는 : 입력하면 자동으로 들여쓰기 한다.\n",
    "\n",
    "a = 2\n",
    "if a >= 1:\n",
    "    print(a)\n",
    "    print(\"good\")\n",
    "else:\n",
    "    print(b)\n",
    "    \n",
    "a = 0\n",
    "b = \"hello\"\n",
    "if a >= 1:\n",
    "    print(a)\n",
    "    print(\"good\")\n",
    "else:\n",
    "    print(b)"
   ]
  },
  {
   "cell_type": "code",
   "execution_count": null,
   "metadata": {},
   "outputs": [],
   "source": [
    "# if 조건문:\n",
    "#  code\n",
    "# elif 조건2:\n",
    "#  code\n",
    "\n",
    "a = 10\n",
    "b = 5\n",
    "if a >= 10:\n",
    "    print(a , \"는 10 이상입니다.\")\n",
    "    print(b , \"는 10 이상이 아닙니다.\")\n",
    "elif (a >= 10) and (b >= 10):\n",
    "    print(a + \",\" + b + \"는 모두 10 이상입니다.\")\n",
    "else:\n",
    "    print(b)"
   ]
  },
  {
   "cell_type": "code",
   "execution_count": null,
   "metadata": {},
   "outputs": [],
   "source": [
    "# for 문\n",
    "# 반복문\n",
    "# for 반복 변수 in 범위:\n",
    "# code\n",
    "\n",
    "for a in [0,1,2,3,4,5,6,7,8,9]:\n",
    "    print(a)"
   ]
  },
  {
   "cell_type": "code",
   "execution_count": null,
   "metadata": {},
   "outputs": [],
   "source": [
    "# range()\n",
    "# 반복 범위 지정\n",
    "# range(start, stop, step)\n",
    "# range(시작, 끝, 증감 크기)\n",
    "\n",
    "a = range(0,10,1)\n",
    "# a 는 0 - 10까지 중 1씩 증감\n",
    "b = range(0,10,2)\n",
    "# b 는 0 - 10까지 중 2씩 증감\n",
    "c = range(0,10,3)\n",
    "# c 는 0 - 10까지 중 3씩 증감\n",
    "print(a)\n",
    "print(b)\n",
    "print(c)\n",
    "print(type(a))\n",
    "print(type(b))\n",
    "print(type(c))\n",
    "# >>> 리스트로 변환 후 출력해아한다.\n",
    "\n",
    "print(list(a))\n",
    "print(list(b))\n",
    "print(list(c))"
   ]
  },
  {
   "cell_type": "code",
   "execution_count": null,
   "metadata": {},
   "outputs": [],
   "source": [
    "for a in range(0,10,2):\n",
    "    print(a)"
   ]
  },
  {
   "cell_type": "code",
   "execution_count": null,
   "metadata": {},
   "outputs": [],
   "source": [
    "# step : 1인 경우는 생략 가능.\n",
    "# start : 0인 경우 또한 생략 가능.\n",
    "for a in range(10):\n",
    "    print(a)"
   ]
  },
  {
   "cell_type": "code",
   "execution_count": null,
   "metadata": {},
   "outputs": [],
   "source": [
    "# 음수\n",
    "for a in range(10, 0, -1):\n",
    "    print(a)"
   ]
  },
  {
   "cell_type": "code",
   "execution_count": null,
   "metadata": {},
   "outputs": [],
   "source": [
    "# 이중 for 문\n",
    "\n",
    "# len()\n",
    "# : list의 길이\n",
    "a = [1,2,3,4,5,6,7]\n",
    "print(len(a))\n",
    "# 7 >>> a에는 7개의 요소가 있다.\n",
    "\n",
    "b = [1,2,3]\n",
    "for i in range(0,3,1):\n",
    "    for i in b:\n",
    "        print(i)"
   ]
  },
  {
   "cell_type": "code",
   "execution_count": null,
   "metadata": {},
   "outputs": [],
   "source": [
    "# while 문\n",
    "# while 조건:\n",
    "#  code\n",
    "\n",
    "i = 0\n",
    "sum = 0\n",
    "while i < 20:\n",
    "    i += 1\n",
    "    sum = sum + i\n",
    "    print(i, sum)\n"
   ]
  },
  {
   "cell_type": "code",
   "execution_count": null,
   "metadata": {},
   "outputs": [],
   "source": [
    "# break : 빠져나올 때 사용\n",
    "i = 0\n",
    "sum = 0\n",
    "while i < 20:\n",
    "    i += 1\n",
    "    sum = sum + i\n",
    "    print(i, sum)\n",
    "    if i == 10:\n",
    "        break\n"
   ]
  },
  {
   "cell_type": "code",
   "execution_count": null,
   "metadata": {},
   "outputs": [],
   "source": [
    "# 입출력\n",
    "# \\n : 개행문자\n",
    "print(\"my name is \\n python\")"
   ]
  },
  {
   "cell_type": "code",
   "execution_count": null,
   "metadata": {},
   "outputs": [],
   "source": [
    "# 입력\n",
    "# a = input(\"\")\n",
    "a = input(\"\")\n",
    "print(a)\n",
    "# >>> i : 입력하면 i 출력"
   ]
  },
  {
   "cell_type": "code",
   "execution_count": null,
   "metadata": {},
   "outputs": [],
   "source": [
    "# 숫자게임 전제\n",
    "a = input(\"1 ~100 중 숫자 한 개를 입력: \")\n",
    "a1 = int(a)\n",
    "\n",
    "print(type(a1))"
   ]
  },
  {
   "cell_type": "code",
   "execution_count": null,
   "metadata": {},
   "outputs": [],
   "source": [
    "# number game\n",
    "import random\n",
    "\n",
    "answer = random.randint(1,100)\n",
    "print(answer)\n",
    "\n",
    "while(a != \"\"):\n",
    "    a = int(input(\"1 ~100 중 숫자 한 개를 입력: \"))\n",
    "    print(\"입력한 숫자는\" + str(a) + \"입니다.\")\n",
    "    \n",
    "    if a > answer:\n",
    "        print(\"땡! 더 작은 수를 입력하세용\")\n",
    "    if a < answer:\n",
    "        print(\"땡! 더 큰 수를 입력하세용\")\n",
    "    if a == answer:\n",
    "        print(\"정답!\")\n",
    "        break"
   ]
  }
 ],
 "metadata": {
  "kernelspec": {
   "display_name": "Python 3",
   "language": "python",
   "name": "python3"
  },
  "language_info": {
   "codemirror_mode": {
    "name": "ipython",
    "version": 3
   },
   "file_extension": ".py",
   "mimetype": "text/x-python",
   "name": "python",
   "nbconvert_exporter": "python",
   "pygments_lexer": "ipython3",
   "version": "3.8.5"
  }
 },
 "nbformat": 4,
 "nbformat_minor": 4
}
