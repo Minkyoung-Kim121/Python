{
 "cells": [
  {
   "cell_type": "code",
   "execution_count": 1,
   "id": "iraqi-remark",
   "metadata": {},
   "outputs": [
    {
     "name": "stdout",
     "output_type": "stream",
     "text": [
      "나무를 1 번 찍었다.\n",
      "나무를 2 번 찍었다.\n",
      "나무를 3 번 찍었다.\n",
      "나무를 4 번 찍었다.\n",
      "나무를 5 번 찍었다.\n",
      "나무를 6 번 찍었다.\n",
      "나무를 7 번 찍었다.\n",
      "아자!!\n",
      "나무를 8 번 찍었다.\n",
      "좀만 더 힘내!!\n",
      "아자!!\n",
      "나무를 9 번 찍었다.\n",
      "아자!!\n",
      "나무를 10 번 찍었다.\n",
      "나무 넘어간드아!\n"
     ]
    },
    {
     "data": {
      "text/plain": [
       "'\\n나무를 1 번 찍었다.\\n나무를 2 번 찍었다.\\n나무를 3 번 찍었다.\\n나무를 4 번 찍었다.\\n나무를 5 번 찍었다.\\n나무를 6 번 찍었다.\\n나무를 7 번 찍었다.\\n아자!!\\n나무를 8 번 찍었다.\\n좀만 더 힘내!!\\n아자!!\\n나무를 9 번 찍었다.\\n아자!!\\n나무를 10 번 찍었다.\\n나무 넘어간드아!\\n'"
      ]
     },
     "execution_count": 1,
     "metadata": {},
     "output_type": "execute_result"
    }
   ],
   "source": [
    "# while문 # WhileTest.py\n",
    "\n",
    "# 반복문\n",
    "# : 조건이 참인 동안 문장이 촤르륵 수행됨 >>> 계속 돈다.\n",
    "\n",
    "treeHit = 0\n",
    "while treeHit < 10:\n",
    "    treeHit = treeHit +1 # treeHit += 1\n",
    "    print(\"나무를 %d 번 찍었다.\" %treeHit)\n",
    "    if treeHit == 8:\n",
    "        print(\"좀만 더 힘내!!\")\n",
    "    if 7 <= treeHit <= 9:\n",
    "        print(\"아자!!\")\n",
    "    if treeHit == 10:\n",
    "        print(\"나무 넘어간드아!\")\n",
    "\"\"\"\n",
    "나무를 1 번 찍었다.\n",
    "나무를 2 번 찍었다.\n",
    "나무를 3 번 찍었다.\n",
    "나무를 4 번 찍었다.\n",
    "나무를 5 번 찍었다.\n",
    "나무를 6 번 찍었다.\n",
    "나무를 7 번 찍었다.\n",
    "아자!!\n",
    "나무를 8 번 찍었다.\n",
    "좀만 더 힘내!!\n",
    "아자!!\n",
    "나무를 9 번 찍었다.\n",
    "아자!!\n",
    "나무를 10 번 찍었다.\n",
    "나무 넘어간드아!\n",
    "\"\"\" # -> 조건이 완료되면 빠져나온다."
   ]
  },
  {
   "cell_type": "code",
   "execution_count": 2,
   "id": "fleet-jurisdiction",
   "metadata": {},
   "outputs": [
    {
     "name": "stdout",
     "output_type": "stream",
     "text": [
      "\n",
      "    1. Add\n",
      "    2. Del\n",
      "    3. List\n",
      "    4. Quit\n",
      "\n",
      "    Enter number:\n",
      "1\n",
      "\n",
      "    1. Add\n",
      "    2. Del\n",
      "    3. List\n",
      "    4. Quit\n",
      "\n",
      "    Enter number:\n",
      "2\n",
      "\n",
      "    1. Add\n",
      "    2. Del\n",
      "    3. List\n",
      "    4. Quit\n",
      "\n",
      "    Enter number:\n",
      "3\n",
      "\n",
      "    1. Add\n",
      "    2. Del\n",
      "    3. List\n",
      "    4. Quit\n",
      "\n",
      "    Enter number:\n",
      "4\n"
     ]
    }
   ],
   "source": [
    "# 데이터 직접 입력해보자.\n",
    "promt = \"\"\"\n",
    "    1. Add\n",
    "    2. Del\n",
    "    3. List\n",
    "    4. Quit\n",
    "\n",
    "    Enter number:\"\"\" # >>> 데이터 입력하는 공간\n",
    "\n",
    "number = 0 # >>> 번호를 입력받을 변수\n",
    "while number != 4:\n",
    "    print(promt)\n",
    "    number = int(input()) # input() : 입력한 값을 int로 가져옴."
   ]
  },
  {
   "cell_type": "code",
   "execution_count": null,
   "id": "scheduled-regular",
   "metadata": {},
   "outputs": [],
   "source": []
  }
 ],
 "metadata": {
  "kernelspec": {
   "display_name": "Python 3",
   "language": "python",
   "name": "python3"
  },
  "language_info": {
   "codemirror_mode": {
    "name": "ipython",
    "version": 3
   },
   "file_extension": ".py",
   "mimetype": "text/x-python",
   "name": "python",
   "nbconvert_exporter": "python",
   "pygments_lexer": "ipython3",
   "version": "3.9.1"
  }
 },
 "nbformat": 4,
 "nbformat_minor": 5
}
