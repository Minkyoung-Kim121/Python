{
 "cells": [
  {
   "cell_type": "code",
   "execution_count": 2,
   "id": "ready-radar",
   "metadata": {},
   "outputs": [
    {
     "name": "stdout",
     "output_type": "stream",
     "text": [
      "17\n",
      "15\n",
      "32\n"
     ]
    }
   ],
   "source": [
    "# 문자열 길이 구하기 StringLegth.py\n",
    "\n",
    "# 문자열 길이 구하기\n",
    "a = \"Life is too short\"\n",
    "b = \"You need python\"\n",
    "a1 = len(a)\n",
    "b1 = len(b)\n",
    "print(a1) # 17\n",
    "print(b1) # 15\n",
    "print(a1+b1) # 32"
   ]
  },
  {
   "cell_type": "code",
   "execution_count": 1,
   "id": "determined-korea",
   "metadata": {},
   "outputs": [
    {
     "name": "stdout",
     "output_type": "stream",
     "text": [
      "15\n"
     ]
    }
   ],
   "source": [
    "# 문자열 길이 구하기 예제\n",
    "aa = 'I need to be me'\n",
    "aa1 = len(aa)\n",
    "print(aa1)\n",
    "#15"
   ]
  },
  {
   "cell_type": "code",
   "execution_count": null,
   "id": "animal-competition",
   "metadata": {},
   "outputs": [],
   "source": []
  }
 ],
 "metadata": {
  "kernelspec": {
   "display_name": "Python 3",
   "language": "python",
   "name": "python3"
  },
  "language_info": {
   "codemirror_mode": {
    "name": "ipython",
    "version": 3
   },
   "file_extension": ".py",
   "mimetype": "text/x-python",
   "name": "python",
   "nbconvert_exporter": "python",
   "pygments_lexer": "ipython3",
   "version": "3.9.1"
  }
 },
 "nbformat": 4,
 "nbformat_minor": 5
}
