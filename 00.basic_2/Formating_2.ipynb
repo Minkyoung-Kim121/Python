{
 "cells": [
  {
   "cell_type": "code",
   "execution_count": 1,
   "id": "initial-thomson",
   "metadata": {},
   "outputs": [
    {
     "name": "stdout",
     "output_type": "stream",
     "text": [
      "I eat 3 apples\n",
      "I love number 7\n"
     ]
    }
   ],
   "source": [
    "# 포맷함수를 사용한 포매팅 Formating_2.py\n",
    "\n",
    "# .format(넣을 값)\n",
    "# 1. 숫자 바로 대입하기\n",
    "a = \"I eat {0} apples\".format(3)\n",
    "print(a)\n",
    "# I eat 3 apples\n",
    "b = \"I love number {0}\".format(7)\n",
    "print(b)\n",
    "# I love number 7"
   ]
  },
  {
   "cell_type": "code",
   "execution_count": 2,
   "id": "recent-distance",
   "metadata": {},
   "outputs": [
    {
     "name": "stdout",
     "output_type": "stream",
     "text": [
      "I eat 3 apples\n",
      "You need python\n"
     ]
    }
   ],
   "source": [
    "# 2. 문자열 바로 대입하기\n",
    "s = \"I eat 3 {0}\".format(\"apples\")\n",
    "print(s)\n",
    "# I eat 3 apples\n",
    "ss = \"You need {0}\".format(\"python\")\n",
    "print(ss)\n",
    "# You need python"
   ]
  },
  {
   "cell_type": "code",
   "execution_count": 3,
   "id": "established-outside",
   "metadata": {},
   "outputs": [
    {
     "name": "stdout",
     "output_type": "stream",
     "text": [
      "I need python\n"
     ]
    }
   ],
   "source": [
    "# 3. 변수 대입\n",
    "text = \"python\"\n",
    "v = \"I need {0}\".format(text)\n",
    "print(v)\n",
    "# I need python"
   ]
  },
  {
   "cell_type": "code",
   "execution_count": 4,
   "id": "verified-hartford",
   "metadata": {},
   "outputs": [
    {
     "name": "stdout",
     "output_type": "stream",
     "text": [
      "My shirt's color is red and orange\n"
     ]
    }
   ],
   "source": [
    "color1 = \"red\" #인덱스 0\n",
    "color2 = \"orange\" #인덱스 1\n",
    "v1 = \"My shirt's color is {0} and {1}\".format(color1, color2)\n",
    "print(v1)\n",
    "# My shirt's color is red and orange"
   ]
  },
  {
   "cell_type": "code",
   "execution_count": 5,
   "id": "efficient-peeing",
   "metadata": {},
   "outputs": [
    {
     "name": "stdout",
     "output_type": "stream",
     "text": [
      "I have tow cats.\n",
      "one is mandoo and the other's name is chilly.\n"
     ]
    }
   ],
   "source": [
    "# 4. 이름으로 넣기\n",
    "v2 = \"\"\"I have tow cats.\n",
    "one is {c} and the other's name is {cc}.\"\"\".format(c = \"mandoo\", cc = \"chilly\")\n",
    "print(v2)\n",
    "# I have tow cats.\n",
    "# one is mandoo and the other's name is chilly. >>> {name}형태도 사용가능하나,\n",
    "# 단! format(name=value, name=value)형태이어야 한다."
   ]
  },
  {
   "cell_type": "code",
   "execution_count": 6,
   "id": "hungarian-farming",
   "metadata": {},
   "outputs": [
    {
     "name": "stdout",
     "output_type": "stream",
     "text": [
      "I need to 3 learn languages.\n"
     ]
    }
   ],
   "source": [
    "# 예제\n",
    "v3 = \"I need to {0} {h} languages.\".format(3, h=\"learn\")\n",
    "print(v3)\n",
    "# I need to 3 learn languages."
   ]
  },
  {
   "cell_type": "code",
   "execution_count": 7,
   "id": "radio-stake",
   "metadata": {},
   "outputs": [
    {
     "name": "stdout",
     "output_type": "stream",
     "text": [
      "hi        \n",
      "        hi\n",
      "    hi    \n"
     ]
    }
   ],
   "source": [
    "# 5. 정렬\n",
    "j = \"{0:<10}\".format(\"hi\")\n",
    "print(j)\n",
    "# hi        >>> 왼쪽 정렬\n",
    "j1 = \"{0:>10}\".format(\"hi\")\n",
    "print(j1)\n",
    "#        hi >>> 오른쪽 정렬\n",
    "j2 = \"{0:^10}\".format(\"hi\")\n",
    "print(j2)\n",
    "#     hi    >>> 가운데 정렬"
   ]
  },
  {
   "cell_type": "code",
   "execution_count": null,
   "id": "deluxe-cleaning",
   "metadata": {},
   "outputs": [],
   "source": []
  }
 ],
 "metadata": {
  "kernelspec": {
   "display_name": "Python 3",
   "language": "python",
   "name": "python3"
  },
  "language_info": {
   "codemirror_mode": {
    "name": "ipython",
    "version": 3
   },
   "file_extension": ".py",
   "mimetype": "text/x-python",
   "name": "python",
   "nbconvert_exporter": "python",
   "pygments_lexer": "ipython3",
   "version": "3.9.1"
  }
 },
 "nbformat": 4,
 "nbformat_minor": 5
}
