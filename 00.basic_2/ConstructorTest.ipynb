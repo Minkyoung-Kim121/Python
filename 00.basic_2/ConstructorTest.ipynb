{
 "cells": [
  {
   "cell_type": "code",
   "execution_count": 6,
   "id": "integrated-concern",
   "metadata": {},
   "outputs": [
    {
     "name": "stdout",
     "output_type": "stream",
     "text": [
      "40\n",
      "5\n",
      "45\n",
      "35\n",
      "200\n",
      "8.0\n"
     ]
    }
   ],
   "source": [
    "# 생성자 ConstructorTest.py\n",
    "# 생성자 : 객체가 생성될 때 자동으로 호출되는 메서드\n",
    "# __init__ >>> 함수 앞에 사용하면 해당 메서드는 생성자가 된다.\n",
    "class FourCal:\n",
    "    def __init__(self, first, second): # 생성자 \n",
    "        self.first = first\n",
    "        self.second = second\n",
    "    def setdata(self, first, second):\n",
    "        self.first = first\n",
    "        self.second = second\n",
    "    def add(self):\n",
    "        result = self.first + self.second\n",
    "        return result\n",
    "    def sub(self):\n",
    "        result = self.first - self.second\n",
    "        return result\n",
    "    def mul(self):\n",
    "        result = self.first * self.second\n",
    "        return result\n",
    "    def div(self):\n",
    "        result = self.first / self.second\n",
    "        return result\n",
    "    \n",
    "# a = FourCal() \n",
    "# >>> __init__() missing 2 required positional arguments: 'first' and 'second'\n",
    "# >>> : __init__()의 매개변수 first, second 에 데이터가 x때문.\n",
    "a = FourCal(40,5)\n",
    "print(a.first) # 40\n",
    "print(a.second) # 5\n",
    "\n",
    "print(a.add()) # 45\n",
    "print(a.sub()) # 35\n",
    "print(a.mul()) # 200\n",
    "print(a.div()) # 8.0\n"
   ]
  },
  {
   "cell_type": "code",
   "execution_count": 9,
   "id": "norman-lindsay",
   "metadata": {},
   "outputs": [
    {
     "name": "stdout",
     "output_type": "stream",
     "text": [
      "45\n",
      "35\n",
      "200\n",
      "8.0\n"
     ]
    }
   ],
   "source": [
    "# 클래스의 상속 Inheritance.py\n",
    "# A클래스를 상속받아 만든 B 클래스\n",
    "# : A클래스의 기능을 물려받아, B 클래스에서 그 기능을 사용할 수 있다.\n",
    "# 기존 클래스를 변경x않고 기능을 추가 또는 변경하려고할 때 사용한다.\n",
    "# FourCal 클래스를 상속받은 MoreFourCal 클래스 생성\n",
    "# class 클래스명(상속할 클래스명)\n",
    "class MoreFourCal(FourCal):\n",
    "    pass\n",
    "\n",
    "a = FourCal(40,5)\n",
    "print(a.add()) # 45 >>> FourCal의 a.add 호출.\n",
    "print(a.sub()) # 35 >>> FourCal의 a.sub 호출.\n",
    "print(a.mul()) # 200 >>> FourCal의 a.mul 호출.\n",
    "print(a.div()) # 8.0 >>> FourCal의 a.div 호출."
   ]
  },
  {
   "cell_type": "code",
   "execution_count": 16,
   "id": "aging-tribute",
   "metadata": {},
   "outputs": [
    {
     "name": "stdout",
     "output_type": "stream",
     "text": [
      "100\n",
      "0\n",
      "0.0\n"
     ]
    }
   ],
   "source": [
    "# a의 b제곱을 계산하는 클래스 생성\n",
    "class MoreFourCal(FourCal):\n",
    "    def pow(self):\n",
    "        result = self.first ** self.second\n",
    "        return result\n",
    "\n",
    "a = MoreFourCal(10,2)\n",
    "print(a.pow()) # 100 >>> 100 ** 2 : 100의 제곱\n",
    "\n",
    "# a = FourCal(4,0)\n",
    "# a.div() >>> division by zero : 0으로 나눌 수 x (ZeroDivisionError Exception)\n",
    "\n",
    "# 하지만 0으로 나눌 때 오류 대신 0을 반환하고 싶으면?\n",
    "class SafeFourCal(FourCal): # >>> 상속받아 만든 클래스 : 자식 클래스\n",
    "    def div(self): # 부모 클래스에 있는 div메서드를 재정의했다 : 메서드 오버라이딩\n",
    "        # 메서드 오버라이딩(Method Overriding)) \n",
    "        #  : 부모 클래스에 있는 메서드를 동일한 이름으로 다시만드는 것\n",
    "        # 메서드 오버라이딩을 하면 부모 대신 재정의한 자식 클래스의 메서드 호출.\n",
    "        if self.second == 0:\n",
    "            return 0\n",
    "        else:\n",
    "            return self.first / self.second\n",
    "\n",
    "a = SafeFourCal(4,0)\n",
    "print(a.div()) # 0 >>> if self.second == 0이라 0 반환\n",
    "\n",
    "a = SafeFourCal(0,4)\n",
    "print(a.div()) # 0.0"
   ]
  },
  {
   "cell_type": "code",
   "execution_count": 20,
   "id": "hollow-alpha",
   "metadata": {},
   "outputs": [
    {
     "name": "stdout",
     "output_type": "stream",
     "text": [
      "Kim\n",
      "2397928463472\n",
      "Kim\n",
      "2397928463472\n",
      "Kim\n",
      "2397928463472\n",
      "park\n",
      "2397930396336\n",
      "park\n",
      "2397930396336\n",
      "park\n",
      "2397930396336\n"
     ]
    }
   ],
   "source": [
    "# 클래스 변수\n",
    "# : 객체변수(각각 고유한 값)와는 다르게 클래스로 만든 모든 객체에 공유된다.\n",
    "# 클래스명.클래스변수 로 사용가능하다.\n",
    "class Family:\n",
    "    lastname = \"Kim\"\n",
    "    \n",
    "print(Family.lastname) # Kim\n",
    "print(id(Family.lastname)) # 2397928463472\n",
    "a = Family\n",
    "print(a.lastname) # Kim\n",
    "print(id(a.lastname)) # 2397928463472\n",
    "b = Family\n",
    "print(b.lastname) # Kim\n",
    "print(id(b.lastname)) # 2397928463472\n",
    "# >>> 주소값이 모두 같다.\n",
    "\n",
    "# 만약 클래스변수를 변경하면, \n",
    "Family.lastname = \"park\"\n",
    "print(Family.lastname) # park\n",
    "print(id(Family.lastname)) # 2397930396336\n",
    "a = Family\n",
    "print(a.lastname) # park\n",
    "print(id(a.lastname)) # 2397930396336\n",
    "b = Family\n",
    "print(b.lastname) # park\n",
    "print(id(b.lastname)) # 2397930396336\n",
    "# >>> 모두 변경된다."
   ]
  },
  {
   "cell_type": "code",
   "execution_count": null,
   "id": "confident-metallic",
   "metadata": {},
   "outputs": [],
   "source": []
  },
  {
   "cell_type": "code",
   "execution_count": null,
   "id": "junior-milton",
   "metadata": {},
   "outputs": [],
   "source": []
  }
 ],
 "metadata": {
  "kernelspec": {
   "display_name": "Python 3",
   "language": "python",
   "name": "python3"
  },
  "language_info": {
   "codemirror_mode": {
    "name": "ipython",
    "version": 3
   },
   "file_extension": ".py",
   "mimetype": "text/x-python",
   "name": "python",
   "nbconvert_exporter": "python",
   "pygments_lexer": "ipython3",
   "version": "3.9.1"
  }
 },
 "nbformat": 4,
 "nbformat_minor": 5
}
