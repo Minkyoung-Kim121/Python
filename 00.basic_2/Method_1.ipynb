{
 "cells": [
  {
   "cell_type": "code",
   "execution_count": 22,
   "id": "ceramic-algeria",
   "metadata": {},
   "outputs": [
    {
     "name": "stdout",
     "output_type": "stream",
     "text": [
      "10\n",
      "28\n"
     ]
    }
   ],
   "source": [
    "#함수 Method_1.py\n",
    "# 여러개 입력값 받는 함수 만들기\n",
    "def add_many(*args):\n",
    "    result = 0\n",
    "    for i in args:\n",
    "        result = result + i\n",
    "    return result\n",
    "# *args >>> 매개변수 앞에 *을 붙이면 입력값을 전부 모아 튜플로 만든다.\n",
    "# args는 임의의 이름. 이름을 바꿔도 된다.\n",
    "# java의 명령행 인수처럼 값을 받아서 처리한다는 개념.\n",
    "#add_many(1,2,3,4)\n",
    "print(add_many(1,2,3,4)) # 10\n",
    "result1 = add_many(1,2,3,4,5,6,7)\n",
    "print(result1) #28\n"
   ]
  },
  {
   "cell_type": "code",
   "execution_count": 35,
   "id": "interim-hartford",
   "metadata": {},
   "outputs": [
    {
     "name": "stdout",
     "output_type": "stream",
     "text": [
      "21\n",
      "720\n"
     ]
    }
   ],
   "source": [
    "# 예제\n",
    "def add_mul(choice, *args):\n",
    "    if choice == \"add\":\n",
    "        result = 0\n",
    "        for i in args:\n",
    "            result = result + i # *args의 값을 모두 더함\n",
    "    elif choice == \"mul\":\n",
    "        result = 1\n",
    "        for i in args:\n",
    "            result = result*i # *args의 값을 모두 곱함\n",
    "    return result\n",
    "result = add_mul('add', 1,2,3,4,5,6)\n",
    "result1 = add_mul('mul', 1,2,3,4,5,6)\n",
    "print(result) # 21\n",
    "print(result1) # 720\n"
   ]
  },
  {
   "cell_type": "code",
   "execution_count": 47,
   "id": "varied-assembly",
   "metadata": {},
   "outputs": [
    {
     "name": "stdout",
     "output_type": "stream",
     "text": [
      "{'a': 1, 'b': 2, 'c': 3}\n",
      "{'name': 'mk', 'age': '28'}\n"
     ]
    }
   ],
   "source": [
    "# 키워드 파라미터\n",
    "def print_kwargs(**kwargs):\n",
    "    print(kwargs)\n",
    "print_kwargs(a=1,b=2,c=3) # {'a': 1, 'b': 2, 'c': 3}\n",
    "# 매개변수 앞에 **을 붙이면 키워드 파라미터.\n",
    "# : 결과값을 모두 딕셔너리로 만들어서 출력한다.\n",
    "\n",
    "print_kwargs(name=\"mk\", age=\"28\")"
   ]
  },
  {
   "cell_type": "code",
   "execution_count": null,
   "id": "noticed-exhibition",
   "metadata": {},
   "outputs": [],
   "source": []
  }
 ],
 "metadata": {
  "kernelspec": {
   "display_name": "Python 3",
   "language": "python",
   "name": "python3"
  },
  "language_info": {
   "codemirror_mode": {
    "name": "ipython",
    "version": 3
   },
   "file_extension": ".py",
   "mimetype": "text/x-python",
   "name": "python",
   "nbconvert_exporter": "python",
   "pygments_lexer": "ipython3",
   "version": "3.9.1"
  }
 },
 "nbformat": 4,
 "nbformat_minor": 5
}
