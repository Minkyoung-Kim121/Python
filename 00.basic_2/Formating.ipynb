{
 "cells": [
  {
   "cell_type": "code",
   "execution_count": 1,
   "id": "nutritional-plaintiff",
   "metadata": {},
   "outputs": [
    {
     "name": "stdout",
     "output_type": "stream",
     "text": [
      "I love apples\n",
      "I love 3 apples\n",
      "There's 100 trees\n"
     ]
    }
   ],
   "source": [
    "# 문자열 포맷 코드 Formating.py\n",
    "\n",
    "# 1. 숫자 바로 대입 % d ~ % 숫자\n",
    "a = \"I love apples\"\n",
    "print(a)\n",
    "b = \"I love %d apples\" %3\n",
    "print(b)\n",
    "# I love 3 apples 출력\n",
    "c = \"There's %d trees\" %100\n",
    "print(c)\n",
    "# There's 100 trees 출력"
   ]
  },
  {
   "cell_type": "code",
   "execution_count": 2,
   "id": "ready-ecology",
   "metadata": {},
   "outputs": [
    {
     "name": "stdout",
     "output_type": "stream",
     "text": [
      "I eat apples.\n",
      "I eat five apples.\n"
     ]
    }
   ],
   "source": [
    "# 2. 문자열 바로 대입 % s ~ % \"문자열\"\n",
    "a1 = \"I eat apples.\"\n",
    "print(a1)\n",
    "a2 = \"I eat %s apples.\" % \"five\"\n",
    "print(a2)\n",
    "# I eat five apples. 출력 >>> 문자열을 대입할 때는 반드시 따옴표 붙여야 한다."
   ]
  },
  {
   "cell_type": "code",
   "execution_count": 3,
   "id": "induced-alliance",
   "metadata": {},
   "outputs": [
    {
     "name": "stdout",
     "output_type": "stream",
     "text": [
      "I eat apples\n",
      "I eat 3 apples\n"
     ]
    }
   ],
   "source": [
    "# 3. 숫자 값을 변수로 넣기\n",
    "a2 = \"I eat apples\"\n",
    "print(a2)\n",
    "number = 3\n",
    "a3 = \"I eat %d apples\" % number\n",
    "print(a3)\n",
    "# I eat 3 apples 출력 >>> 숫자를 바로 대입하거나 변수를 대입해도 답은 같다."
   ]
  },
  {
   "cell_type": "code",
   "execution_count": 5,
   "id": "posted-method",
   "metadata": {},
   "outputs": [
    {
     "name": "stdout",
     "output_type": "stream",
     "text": [
      "I ate 10 apples. so I was sick for three days.\n"
     ]
    }
   ],
   "source": [
    "# 4. 2개 이상 값 넣기\n",
    "number1 = 10  #숫자\n",
    "day = \"three\" #문자열\n",
    "a3 = \"I ate %d apples. so I was sick for %s days.\" % (number1, day)\n",
    "print(a3)\n",
    "# I ate 10 apples. so I was sick for three days. 출력 \n",
    "# >>> 2개 이상의 값은 괄호와 콤마로 구분"
   ]
  },
  {
   "cell_type": "code",
   "execution_count": 6,
   "id": "bulgarian-chester",
   "metadata": {},
   "outputs": [
    {
     "name": "stdout",
     "output_type": "stream",
     "text": [
      "I have 5 apples\n",
      "The rate is 3.234\n"
     ]
    }
   ],
   "source": [
    "# %s 포맷 코드 : 어떤 형태의 값이든 넣을 수 있다.\n",
    "# >>> %는 자동으로 뒤의 값을 문자열로 바꾸기 때문이다.\n",
    "s = \"I have %s apples\" %5\n",
    "print(s)\n",
    "# I have 5 apples 출력\n",
    "f = \"The rate is %s\" %3.234\n",
    "print(f)\n",
    "# The rate is 3.234 출력"
   ]
  },
  {
   "cell_type": "code",
   "execution_count": 7,
   "id": "cooperative-muslim",
   "metadata": {},
   "outputs": [
    {
     "name": "stdout",
     "output_type": "stream",
     "text": [
      "Error is 95%.\n"
     ]
    }
   ],
   "source": [
    "# 5. 주의! %% 사용법\n",
    "'''\n",
    "e = \"Error is %d%.\" %95\n",
    "print(e)\n",
    "# Traceback (most recent call last)\n",
    "'''\n",
    "e1 = \"Error is %d%%.\" %95\n",
    "print(e1)\n",
    "# Error is 95%. 출력 >>> 포매팅연산자(%d)와 %를 같이 쓸 때는 %%를 사용한다."
   ]
  },
  {
   "cell_type": "code",
   "execution_count": null,
   "id": "laughing-marijuana",
   "metadata": {},
   "outputs": [],
   "source": []
  }
 ],
 "metadata": {
  "kernelspec": {
   "display_name": "Python 3",
   "language": "python",
   "name": "python3"
  },
  "language_info": {
   "codemirror_mode": {
    "name": "ipython",
    "version": 3
   },
   "file_extension": ".py",
   "mimetype": "text/x-python",
   "name": "python",
   "nbconvert_exporter": "python",
   "pygments_lexer": "ipython3",
   "version": "3.9.1"
  }
 },
 "nbformat": 4,
 "nbformat_minor": 5
}
