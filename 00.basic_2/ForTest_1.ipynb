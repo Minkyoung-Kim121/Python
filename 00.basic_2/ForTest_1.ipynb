{
 "cells": [
  {
   "cell_type": "code",
   "execution_count": 2,
   "id": "connected-garden",
   "metadata": {},
   "outputs": [
    {
     "name": "stdout",
     "output_type": "stream",
     "text": [
      "2 4 6 8 10 12 14 16 18 \n",
      "3 6 9 12 15 18 21 24 27 \n",
      "4 8 12 16 20 24 28 32 36 \n",
      "5 10 15 20 25 30 35 40 45 \n",
      "6 12 18 24 30 36 42 48 54 \n",
      "7 14 21 28 35 42 49 56 63 \n",
      "8 16 24 32 40 48 56 64 72 \n",
      "9 18 27 36 45 54 63 72 81 \n"
     ]
    },
    {
     "data": {
      "text/plain": [
       "'\\n2 4 6 8 10 12 14 16 18\\n3 6 9 12 15 18 21 24 27\\n4 8 12 16 20 24 28 32 36\\n5 10 15 20 25 30 35 40 45\\n6 12 18 24 30 36 42 48 54\\n7 14 21 28 35 42 49 56 63\\n8 16 24 32 40 48 56 64 72\\n9 18 27 36 45 54 63 72 81\\n'"
      ]
     },
     "execution_count": 2,
     "metadata": {},
     "output_type": "execute_result"
    }
   ],
   "source": [
    "# for문 ForTest_1.py\n",
    "# 구구단 - for, range\n",
    "for i in range(2,10):\n",
    "    for j in range(1,10):\n",
    "        print(i*j, end=\" \") # 매개변수 end >>> 결과값을 다음줄로 넘기지 않고 계속 출력하기 위해\n",
    "    print('')\n",
    "'''\n",
    "2 4 6 8 10 12 14 16 18\n",
    "3 6 9 12 15 18 21 24 27\n",
    "4 8 12 16 20 24 28 32 36\n",
    "5 10 15 20 25 30 35 40 45\n",
    "6 12 18 24 30 36 42 48 54\n",
    "7 14 21 28 35 42 49 56 63\n",
    "8 16 24 32 40 48 56 64 72\n",
    "9 18 27 36 45 54 63 72 81\n",
    "'''"
   ]
  },
  {
   "cell_type": "code",
   "execution_count": 3,
   "id": "instructional-innocent",
   "metadata": {},
   "outputs": [
    {
     "name": "stdout",
     "output_type": "stream",
     "text": [
      "[1, 2, 3, 4]\n",
      "[]\n",
      "[3, 6, 9, 12]\n",
      "[6, 12]\n",
      "[3, 9]\n"
     ]
    }
   ],
   "source": [
    "# 리스트 안에 for문을 포함하는 리스트 내포 사용하기\n",
    "# if 조건 부분은 생략 가능.\n",
    "a = [1,2,3,4]\n",
    "print(a)\n",
    "result = []\n",
    "print(result)\n",
    "for num in a:\n",
    "    result.append(num*3) # 결과를 빈 리스트에 담아오기\n",
    "print(result) # [3, 6, 9, 12]\n",
    "\n",
    "result1 = [num*3 for num in a if num % 2 == 0] # >>> if절이 내포 조건\n",
    "print(result1) # [6,12]\n",
    "\n",
    "result2 = [num*3 for num in a if num % 2 == 1]\n",
    "print(result2) # [3, 9]"
   ]
  },
  {
   "cell_type": "code",
   "execution_count": 4,
   "id": "abroad-virtue",
   "metadata": {},
   "outputs": [
    {
     "name": "stdout",
     "output_type": "stream",
     "text": [
      "[2, 4, 6, 8, 10, 12, 14, 16, 18, 3, 6, 9, 12, 15, 18, 21, 24, 27, 4, 8, 12, 16, 20, 24, 28, 32, 36, 5, 10, 15, 20, 25, 30, 35, 40, 45, 6, 12, 18, 24, 30, 36, 42, 48, 54, 7, 14, 21, 28, 35, 42, 49, 56, 63, 8, 16, 24, 32, 40, 48, 56, 64, 72, 9, 18, 27, 36, 45, 54, 63, 72, 81]\n"
     ]
    },
    {
     "data": {
      "text/plain": [
       "'\\n[2, 4, 6, 8, 10, 12, 14, 16, 18, 3, 6, 9, 12,\\n15, 18, 21, 24, 27, 4, 8, 12, 16, 20, 24, 28,\\n32, 36, 5, 10, 15, 20, 25, 30, 35, 40, 45, 6,\\n12, 18, 24, 30, 36, 42, 48, 54, 7, 14, 21, 28,\\n35, 42, 49, 56, 63, 8, 16, 24, 32, 40, 48, 56,\\n64, 72, 9, 18, 27, 36, 45, 54, 63, 72, 81]\\n'"
      ]
     },
     "execution_count": 4,
     "metadata": {},
     "output_type": "execute_result"
    }
   ],
   "source": [
    "# 구구단 결과를 리스트에 담기\n",
    "result3 = [x*y for x in range(2,10)\n",
    "           for y in range(1,10)]\n",
    "print(result3)\n",
    "'''\n",
    "[2, 4, 6, 8, 10, 12, 14, 16, 18, 3, 6, 9, 12,\n",
    "15, 18, 21, 24, 27, 4, 8, 12, 16, 20, 24, 28,\n",
    "32, 36, 5, 10, 15, 20, 25, 30, 35, 40, 45, 6,\n",
    "12, 18, 24, 30, 36, 42, 48, 54, 7, 14, 21, 28,\n",
    "35, 42, 49, 56, 63, 8, 16, 24, 32, 40, 48, 56,\n",
    "64, 72, 9, 18, 27, 36, 45, 54, 63, 72, 81]\n",
    "'''\n"
   ]
  },
  {
   "cell_type": "code",
   "execution_count": null,
   "id": "angry-verse",
   "metadata": {},
   "outputs": [],
   "source": []
  }
 ],
 "metadata": {
  "kernelspec": {
   "display_name": "Python 3",
   "language": "python",
   "name": "python3"
  },
  "language_info": {
   "codemirror_mode": {
    "name": "ipython",
    "version": 3
   },
   "file_extension": ".py",
   "mimetype": "text/x-python",
   "name": "python",
   "nbconvert_exporter": "python",
   "pygments_lexer": "ipython3",
   "version": "3.9.1"
  }
 },
 "nbformat": 4,
 "nbformat_minor": 5
}
