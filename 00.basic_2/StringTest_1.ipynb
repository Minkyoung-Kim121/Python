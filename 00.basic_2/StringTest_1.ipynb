{
 "cells": [
  {
   "cell_type": "code",
   "execution_count": 1,
   "id": "sexual-linux",
   "metadata": {},
   "outputs": [
    {
     "name": "stdout",
     "output_type": "stream",
     "text": [
      "Python is fun\n"
     ]
    }
   ],
   "source": [
    "# 문자열 더하기 StringTest_1.py\n",
    "\n",
    "# 1. 문자열 더하기\n",
    "a = \"Python\"\n",
    "b = \"\"\" is \"\"\"\n",
    "c = 'fun'\n",
    "print(a+b+c)\n",
    "# Python is fun 출력 >>> 공백 또한 문자로 인식한다."
   ]
  },
  {
   "cell_type": "code",
   "execution_count": 2,
   "id": "physical-domestic",
   "metadata": {},
   "outputs": [
    {
     "name": "stdout",
     "output_type": "stream",
     "text": [
      "pythonpython\n"
     ]
    }
   ],
   "source": [
    "# 2. 문자열 곱하기\n",
    "aa = \"python\"\n",
    "print(aa*2)\n",
    "# pythonpython 출력 >>> a*2 : a를 두 번 반복하라."
   ]
  },
  {
   "cell_type": "code",
   "execution_count": 3,
   "id": "generous-there",
   "metadata": {},
   "outputs": [
    {
     "name": "stdout",
     "output_type": "stream",
     "text": [
      "==================================================\n",
      "python\n",
      "==================================================\n"
     ]
    },
    {
     "data": {
      "text/plain": [
       "'\\n==================================================\\npython\\n==================================================\\n'"
      ]
     },
     "execution_count": 3,
     "metadata": {},
     "output_type": "execute_result"
    }
   ],
   "source": [
    "# 2-1. 문자열 곱하기 응용\n",
    "print(\"=\" * 50)\n",
    "print(aa)\n",
    "print(\"=\" * 50)\n",
    "\"\"\"\n",
    "==================================================\n",
    "python\n",
    "==================================================\n",
    "\"\"\"\n",
    "#위의 표현은 보통 제목을 표시할 때 사용"
   ]
  },
  {
   "cell_type": "code",
   "execution_count": null,
   "id": "lucky-shaft",
   "metadata": {},
   "outputs": [],
   "source": []
  }
 ],
 "metadata": {
  "kernelspec": {
   "display_name": "Python 3",
   "language": "python",
   "name": "python3"
  },
  "language_info": {
   "codemirror_mode": {
    "name": "ipython",
    "version": 3
   },
   "file_extension": ".py",
   "mimetype": "text/x-python",
   "name": "python",
   "nbconvert_exporter": "python",
   "pygments_lexer": "ipython3",
   "version": "3.9.1"
  }
 },
 "nbformat": 4,
 "nbformat_minor": 5
}
