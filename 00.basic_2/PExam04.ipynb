{
 "cells": [
  {
   "cell_type": "code",
   "execution_count": 5,
   "id": "eleven-writer",
   "metadata": {},
   "outputs": [
    {
     "name": "stdout",
     "output_type": "stream",
     "text": [
      "-f\n",
      "C:\\Users\\user\\AppData\\Roaming\\jupyter\\runtime\\kernel-12b74ebe-23c0-4895-8c79-1929851494e3.json\n"
     ]
    },
    {
     "ename": "FileNotFoundError",
     "evalue": "[Errno 2] No such file or directory: '-f'",
     "output_type": "error",
     "traceback": [
      "\u001b[1;31m---------------------------------------------------------------------------\u001b[0m",
      "\u001b[1;31mFileNotFoundError\u001b[0m                         Traceback (most recent call last)",
      "\u001b[1;32m<ipython-input-5-31a95364764c>\u001b[0m in \u001b[0;36m<module>\u001b[1;34m\u001b[0m\n\u001b[0;32m     10\u001b[0m \u001b[0mprint\u001b[0m\u001b[1;33m(\u001b[0m\u001b[0mdst\u001b[0m\u001b[1;33m)\u001b[0m\u001b[1;33m\u001b[0m\u001b[1;33m\u001b[0m\u001b[0m\n\u001b[0;32m     11\u001b[0m \u001b[1;33m\u001b[0m\u001b[0m\n\u001b[1;32m---> 12\u001b[1;33m \u001b[0mf\u001b[0m \u001b[1;33m=\u001b[0m \u001b[0mopen\u001b[0m\u001b[1;33m(\u001b[0m\u001b[0msrc\u001b[0m\u001b[1;33m)\u001b[0m\u001b[1;33m\u001b[0m\u001b[1;33m\u001b[0m\u001b[0m\n\u001b[0m\u001b[0;32m     13\u001b[0m \u001b[0mtab_content\u001b[0m \u001b[1;33m=\u001b[0m \u001b[0mf\u001b[0m\u001b[1;33m.\u001b[0m\u001b[0mread\u001b[0m\u001b[1;33m(\u001b[0m\u001b[1;33m)\u001b[0m\u001b[1;33m\u001b[0m\u001b[1;33m\u001b[0m\u001b[0m\n\u001b[0;32m     14\u001b[0m \u001b[0mf\u001b[0m\u001b[1;33m.\u001b[0m\u001b[0mclose\u001b[0m\u001b[1;33m(\u001b[0m\u001b[1;33m)\u001b[0m\u001b[1;33m\u001b[0m\u001b[1;33m\u001b[0m\u001b[0m\n",
      "\u001b[1;31mFileNotFoundError\u001b[0m: [Errno 2] No such file or directory: '-f'"
     ]
    }
   ],
   "source": [
    "# 탭을 4개의 공백으로 바꾸기\n",
    "# 문서 파일을 읽어서 해당 문서 파일에 있는 탭을 공백4개로 바꿔주는 스크립트 작성\n",
    "# python tabto4.py src dst\n",
    "import sys\n",
    "\n",
    "src = sys.argv[1]\n",
    "dst = sys.argv[2]\n",
    "\n",
    "print(src)\n",
    "print(dst)\n",
    "\n",
    "f = open(src)\n",
    "tab_content = f.read()\n",
    "f.close()\n",
    "\n",
    "space_content = tab_content.replace(\"\\t\", \"\"*4)\n",
    "print(space_content)\n",
    "\n",
    "f = open(dst, 'w')\n",
    "f.write(space_content)\n",
    "f.close()"
   ]
  },
  {
   "cell_type": "code",
   "execution_count": 4,
   "id": "behavioral-replication",
   "metadata": {},
   "outputs": [],
   "source": [
    "# a.txt 생성\n",
    "# Life\tis\ttoo\tshort\n",
    "# I\tneed\tpython\n",
    "\n"
   ]
  },
  {
   "cell_type": "code",
   "execution_count": null,
   "id": "human-bernard",
   "metadata": {},
   "outputs": [],
   "source": [
    "# C:\\Users\\user\\PycharmProjects\\pythonProject\\test01>python tabto4.py a.txt b.txt\n",
    "# a.txt\n",
    "# b.txt\n",
    "# Lifeistooshort\n",
    "# Ineedpython"
   ]
  },
  {
   "cell_type": "code",
   "execution_count": null,
   "id": "fitting-serbia",
   "metadata": {},
   "outputs": [],
   "source": [
    "# b.txt에 저장\n",
    "# Lifeistooshort\n",
    "# Ineedpython"
   ]
  }
 ],
 "metadata": {
  "kernelspec": {
   "display_name": "Python 3",
   "language": "python",
   "name": "python3"
  },
  "language_info": {
   "codemirror_mode": {
    "name": "ipython",
    "version": 3
   },
   "file_extension": ".py",
   "mimetype": "text/x-python",
   "name": "python",
   "nbconvert_exporter": "python",
   "pygments_lexer": "ipython3",
   "version": "3.9.1"
  }
 },
 "nbformat": 4,
 "nbformat_minor": 5
}
