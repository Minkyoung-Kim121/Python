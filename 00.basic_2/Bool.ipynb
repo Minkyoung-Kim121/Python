{
 "cells": [
  {
   "cell_type": "code",
   "execution_count": 1,
   "id": "fuzzy-analyst",
   "metadata": {},
   "outputs": [
    {
     "name": "stdout",
     "output_type": "stream",
     "text": [
      "True\n",
      "False\n",
      "<class 'bool'>\n",
      "<class 'bool'>\n",
      "<class 'set'>\n",
      "<class 'str'>\n",
      "<class 'int'>\n",
      "<class 'tuple'>\n",
      "<class 'list'>\n"
     ]
    }
   ],
   "source": [
    "# 불 자료형 Bool.py\n",
    "\n",
    "# True/False (첫문자를 항상 대문자)\n",
    "a = True\n",
    "b = False\n",
    "print(a) # True\n",
    "print(b) # False\n",
    "print(type(a)) # <class 'bool'> : a변수의 자료형이 bool\n",
    "print(type(b)) # <class 'bool'> : b변수의 자료형이 bool\n",
    "\n",
    "d = set([1,2])\n",
    "print(type(d)) # <class 'set'>\n",
    "s = \"Hello\"\n",
    "print(type(s)) # <class 'str'>\n",
    "i = 1\n",
    "print(type(i)) # <class 'int'>\n",
    "t = (1,)\n",
    "print(type(t)) # <class 'tuple'>\n",
    "l = [1,2,3]\n",
    "print(type(l)) # <class 'list'>"
   ]
  },
  {
   "cell_type": "code",
   "execution_count": 2,
   "id": "peripheral-placement",
   "metadata": {},
   "outputs": [
    {
     "name": "stdout",
     "output_type": "stream",
     "text": [
      "True\n",
      "False\n",
      "[1, 2, 3, 4]\n",
      "4\n"
     ]
    }
   ],
   "source": [
    "a1 = 1==1\n",
    "print(a1) # True\n",
    "b1 = 1==10\n",
    "print(b1) # False\n",
    "\n",
    "aa = [1,2,3,4]\n",
    "print(aa)\n",
    "print(aa.pop()) # 4 >>> .pop() 리스트의 마지막 요소를 꺼낸다."
   ]
  },
  {
   "cell_type": "code",
   "execution_count": 3,
   "id": "linear-naples",
   "metadata": {},
   "outputs": [
    {
     "name": "stdout",
     "output_type": "stream",
     "text": [
      "True\n",
      "False\n"
     ]
    }
   ],
   "source": [
    "bb = bool('python')\n",
    "print(bb) # True\n",
    "bb1 = bool('')\n",
    "print(bb1) # False >>> None이기 때문에."
   ]
  },
  {
   "cell_type": "code",
   "execution_count": 4,
   "id": "alpha-departure",
   "metadata": {},
   "outputs": [
    {
     "name": "stdout",
     "output_type": "stream",
     "text": [
      "True\n",
      "False\n",
      "False\n"
     ]
    }
   ],
   "source": [
    "bb2 = bool(1)\n",
    "print(bb2) # True\n",
    "bb3 = bool()\n",
    "print(bb3) # False\n",
    "bb33 = bool(0)\n",
    "print(bb33) # False"
   ]
  },
  {
   "cell_type": "code",
   "execution_count": 5,
   "id": "endless-spray",
   "metadata": {},
   "outputs": [
    {
     "name": "stdout",
     "output_type": "stream",
     "text": [
      "True\n",
      "False\n"
     ]
    }
   ],
   "source": [
    "bb3 = bool([2,4])\n",
    "print(bb3) # True\n",
    "bb4 = bool([])\n",
    "print(bb4) # False"
   ]
  },
  {
   "cell_type": "code",
   "execution_count": 6,
   "id": "beginning-venice",
   "metadata": {},
   "outputs": [
    {
     "name": "stdout",
     "output_type": "stream",
     "text": [
      "True\n",
      "False\n"
     ]
    }
   ],
   "source": [
    "bb5 = bool((1,3))\n",
    "print(bb5) # True\n",
    "bb6 = bool(())\n",
    "print(bb6) # False"
   ]
  },
  {
   "cell_type": "code",
   "execution_count": null,
   "id": "electrical-twelve",
   "metadata": {},
   "outputs": [],
   "source": []
  }
 ],
 "metadata": {
  "kernelspec": {
   "display_name": "Python 3",
   "language": "python",
   "name": "python3"
  },
  "language_info": {
   "codemirror_mode": {
    "name": "ipython",
    "version": 3
   },
   "file_extension": ".py",
   "mimetype": "text/x-python",
   "name": "python",
   "nbconvert_exporter": "python",
   "pygments_lexer": "ipython3",
   "version": "3.9.1"
  }
 },
 "nbformat": 4,
 "nbformat_minor": 5
}
