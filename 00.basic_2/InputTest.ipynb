{
 "cells": [
  {
   "cell_type": "code",
   "execution_count": 5,
   "id": "excess-title",
   "metadata": {},
   "outputs": [
    {
     "name": "stdout",
     "output_type": "stream",
     "text": [
      "life\n",
      "<class 'str'>\n"
     ]
    }
   ],
   "source": [
    "# 사용자 입력과 출력 InputTest.py\n",
    "# 사용자가 입력한 값을 변수에 담고 싶을 때\n",
    "# cf.java -> scanner클래스 또는 명령행 인수 처럼 입력값 받아오기\n",
    "a = input() # input(여기) -> 여기에 값을 입력한다. (dos창에서/ 프롬프트)\n",
    "print(type(a)) # input()으로 입력한 값은 전부 str로 가져온다."
   ]
  },
  {
   "cell_type": "code",
   "execution_count": 7,
   "id": "specialized-client",
   "metadata": {},
   "outputs": [
    {
     "name": "stdout",
     "output_type": "stream",
     "text": [
      "숫자를 입력하세요40\n",
      "<class 'int'>\n"
     ]
    }
   ],
   "source": [
    "number = int(input(\"숫자를 입력하세요\"))\n",
    "print(type(number)) # <class 'int'>"
   ]
  },
  {
   "cell_type": "code",
   "execution_count": 10,
   "id": "beneficial-cherry",
   "metadata": {},
   "outputs": [
    {
     "name": "stdout",
     "output_type": "stream",
     "text": [
      "lifeistooshort\n",
      "lifeistooshort\n",
      "life is too short\n"
     ]
    }
   ],
   "source": [
    "# print\n",
    "# 숫자, 문자열, 리스트, 등 입력한 자료형을 출력하는 역할\n",
    "print(\"life\" \"is\" \"too\" \"short\") # \"\"큰따옴표로 둘러싸인 str은 +연산과 동일\n",
    "print(\"life\"+\"is\"+\"too\"+\"short\")\n",
    "\n",
    "# str 띄어쓰기는 콤마(,)로한다.\n",
    "print(\"life\",\"is\",\"too\",\"short\") # life is too short"
   ]
  },
  {
   "cell_type": "code",
   "execution_count": 12,
   "id": "outdoor-round",
   "metadata": {},
   "outputs": [
    {
     "name": "stdout",
     "output_type": "stream",
     "text": [
      "0 1 2 3 4 5 6 7 8 9 "
     ]
    }
   ],
   "source": [
    "# end >>> 한 줄에 결과값 출력\n",
    "for i in range(10):\n",
    "    print(i, end=\" \")\n",
    "# 0 1 2 3 4 5 6 7 8 9\n"
   ]
  },
  {
   "cell_type": "code",
   "execution_count": null,
   "id": "pending-divide",
   "metadata": {},
   "outputs": [],
   "source": []
  }
 ],
 "metadata": {
  "kernelspec": {
   "display_name": "Python 3",
   "language": "python",
   "name": "python3"
  },
  "language_info": {
   "codemirror_mode": {
    "name": "ipython",
    "version": 3
   },
   "file_extension": ".py",
   "mimetype": "text/x-python",
   "name": "python",
   "nbconvert_exporter": "python",
   "pygments_lexer": "ipython3",
   "version": "3.9.1"
  }
 },
 "nbformat": 4,
 "nbformat_minor": 5
}
