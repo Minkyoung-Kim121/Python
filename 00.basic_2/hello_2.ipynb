{
 "cells": [
  {
   "cell_type": "code",
   "execution_count": 1,
   "id": "controlled-shanghai",
   "metadata": {},
   "outputs": [
    {
     "name": "stdout",
     "output_type": "stream",
     "text": [
      "4.666666666666667\n",
      "4\n",
      "2\n"
     ]
    }
   ],
   "source": [
    "#사칙연산 hello_2.py\n",
    "\n",
    "a=14\n",
    "b=3\n",
    "print(a/b)\n",
    "#4.66666666666666667\n",
    "\n",
    "# a를 b로 나눈 몫 반환\n",
    "print(a//b)\n",
    "#4\n",
    "\n",
    "# a를 b로 나눈 나머지 반환\n",
    "print(a%b)\n",
    "#2 \n"
   ]
  },
  {
   "cell_type": "code",
   "execution_count": null,
   "id": "coastal-atmosphere",
   "metadata": {},
   "outputs": [],
   "source": []
  }
 ],
 "metadata": {
  "kernelspec": {
   "display_name": "Python 3",
   "language": "python",
   "name": "python3"
  },
  "language_info": {
   "codemirror_mode": {
    "name": "ipython",
    "version": 3
   },
   "file_extension": ".py",
   "mimetype": "text/x-python",
   "name": "python",
   "nbconvert_exporter": "python",
   "pygments_lexer": "ipython3",
   "version": "3.9.1"
  }
 },
 "nbformat": 4,
 "nbformat_minor": 5
}
