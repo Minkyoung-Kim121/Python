{
 "cells": [
  {
   "cell_type": "code",
   "execution_count": 1,
   "id": "developmental-resource",
   "metadata": {},
   "outputs": [
    {
     "name": "stdout",
     "output_type": "stream",
     "text": [
      "내 이름은 김민경이고 나이는 28입니다.\n",
      "내년이면 29세 가 됩니다.\n"
     ]
    }
   ],
   "source": [
    "# 포맷함수를 사용한 포매팅 Formating_3.py\n",
    "\n",
    "# 1. f 문자열 포매팅 : f \"\"\n",
    "name = \"김민경\"\n",
    "age = 28\n",
    "print(f\"내 이름은 {name}이고 나이는 {age}입니다.\")\n",
    "# >>> 문자열(\"\") 앞에 f를 붙이면 포매팅 기능을 사용할 수 있다.\n",
    "\n",
    "print(f\"내년이면 {age+1}세 가 됩니다.\")\n",
    "# 내년이면 29세입니다. >>> f문자열 포매팅은 표현식도 지원한다."
   ]
  },
  {
   "cell_type": "code",
   "execution_count": 2,
   "id": "median-nirvana",
   "metadata": {},
   "outputs": [
    {
     "name": "stdout",
     "output_type": "stream",
     "text": [
      "내 이름은 김민경입니다. 나이는 28입니다.\n"
     ]
    }
   ],
   "source": [
    "# 1-1. 딕셔너리 사용 : 딕셔너리는 key&value를 가지는 자료형\n",
    "d = {'name':'김민경', 'age':'28'}\n",
    "print(f'내 이름은 {d[\"name\"]}입니다. 나이는 {d[\"age\"]}입니다.')"
   ]
  },
  {
   "cell_type": "code",
   "execution_count": 3,
   "id": "christian-logistics",
   "metadata": {},
   "outputs": [
    {
     "name": "stdout",
     "output_type": "stream",
     "text": [
      "hi        \n",
      "     hello\n",
      "   bye    \n"
     ]
    }
   ],
   "source": [
    "# 1-2. 정렬\n",
    "a = f'{\"hi\":<10}' #왼쪽 정렬\n",
    "print(a)\n",
    "b = f'{\"hello\":>10}' # 오른쪽 정렬\n",
    "print(b)\n",
    "c = f'{\"bye\":^10}' # 가운데 정렬\n",
    "print(c)"
   ]
  },
  {
   "cell_type": "code",
   "execution_count": 4,
   "id": "latin-consumer",
   "metadata": {},
   "outputs": [
    {
     "name": "stdout",
     "output_type": "stream",
     "text": [
      "====hi====\n",
      "hi========\n",
      "========hi\n",
      "&&&&hi&&&&\n"
     ]
    }
   ],
   "source": [
    "# 1-3. 공백 채우기\n",
    "aa = f'{\"hi\":=^10}'\n",
    "print(aa)\n",
    "# ====hi==== >>> hi를 가운데 정렬, =로 공백 채우기\n",
    "bb = f'{\"hi\":=<10}'\n",
    "print(bb)\n",
    "# hi========\n",
    "cc = f'{\"hi\":=>10}'\n",
    "print(cc)\n",
    "# ========hi\n",
    "dd = f'{\"hi\":&^10}'\n",
    "print(dd)\n",
    "# &&&&hi&&&& 도 가능."
   ]
  },
  {
   "cell_type": "code",
   "execution_count": 5,
   "id": "acting-antarctica",
   "metadata": {},
   "outputs": [
    {
     "name": "stdout",
     "output_type": "stream",
     "text": [
      "3.42134234\n",
      "3.4213\n",
      "    3.4213\n"
     ]
    }
   ],
   "source": [
    "# 1-4. 소수점 표현\n",
    "y = 3.42134234\n",
    "print(y) # 3.42134234\n",
    "y1 = f'{y:0.4f}'\n",
    "print(y1) # 3.4213       >>> 소수점 4째자리 자르고 왼쪽 정렬 \n",
    "y2 = f'{y:10.4f}'\n",
    "print(y2) #       3.4213 >>> 소수점 4째자리 자르고 오른쪽 정렬"
   ]
  },
  {
   "cell_type": "code",
   "execution_count": 6,
   "id": "stainless-intersection",
   "metadata": {},
   "outputs": [
    {
     "name": "stdout",
     "output_type": "stream",
     "text": [
      "{and}\n"
     ]
    }
   ],
   "source": [
    "# f문자열에서 {} 문자 표시하기\n",
    "e = f'{{and}}'\n",
    "print(e) # {and} >>> 가능."
   ]
  },
  {
   "cell_type": "code",
   "execution_count": 7,
   "id": "french-appraisal",
   "metadata": {},
   "outputs": [
    {
     "name": "stdout",
     "output_type": "stream",
     "text": [
      "!!!python!!!\n",
      "!!!python!!!\n"
     ]
    }
   ],
   "source": [
    "# 예제 >>> !!!python!!! 출력하기\n",
    "ex = f'{\"python\":!^12}'\n",
    "print(ex)\n",
    "ex1 = \"{0:!^12}\".format(\"python\")\n",
    "print(ex1)"
   ]
  },
  {
   "cell_type": "code",
   "execution_count": null,
   "id": "marked-commerce",
   "metadata": {},
   "outputs": [],
   "source": []
  }
 ],
 "metadata": {
  "kernelspec": {
   "display_name": "Python 3",
   "language": "python",
   "name": "python3"
  },
  "language_info": {
   "codemirror_mode": {
    "name": "ipython",
    "version": 3
   },
   "file_extension": ".py",
   "mimetype": "text/x-python",
   "name": "python",
   "nbconvert_exporter": "python",
   "pygments_lexer": "ipython3",
   "version": "3.9.1"
  }
 },
 "nbformat": 4,
 "nbformat_minor": 5
}
