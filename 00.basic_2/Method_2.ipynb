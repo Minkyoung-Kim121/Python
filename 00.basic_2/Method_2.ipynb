{
 "cells": [
  {
   "cell_type": "code",
   "execution_count": 9,
   "id": "identical-handle",
   "metadata": {},
   "outputs": [
    {
     "name": "stdout",
     "output_type": "stream",
     "text": [
      "(7, 12)\n",
      "7\n",
      "12\n"
     ]
    }
   ],
   "source": [
    "# 함수 Method_2.py\n",
    "# return 키워드\n",
    "def add_and_mul(a,b):\n",
    "    return a+b, a*b # 리턴값을 두개를 잡아도 오류는 나지 않는다.\n",
    "                     # 하지만 return a+b return a*b 하면 안됨. 첫번째것만 읽는다.\n",
    "result = add_and_mul(3,4)\n",
    "print(result) # (7, 12) >>> (a+b, a*b)로 반환.\n",
    "# 함수의 결과값은 항상 1개.\n",
    "\n",
    "result1, result2 = add_and_mul(3,4)\n",
    "print(result1) # 7\n",
    "print(result2) # 12\n"
   ]
  },
  {
   "cell_type": "code",
   "execution_count": 12,
   "id": "greater-variable",
   "metadata": {},
   "outputs": [],
   "source": [
    "# 함수의 반환값은 오직! return에 의해서만 생성\n",
    "# cf. print(str)하면 결과가 창에 나오는데, 이를 반환값이라고 생각하면 안된다.\n",
    "#     -> 단지 문자열을 출력했다는 것.\n",
    "\n",
    "def say_jake(jake):\n",
    "    if jake == \"바보\":\n",
    "        return # 여기서 함수 끝\n",
    "    print(\"jake는 %d~\"%d)\n",
    "# -> 아무것도 출력x\n",
    "# 입력값으로 \"바보\"가 들어오지x -> return은 즉시 함수를 빠져나온다.\n",
    "# while문의 break 같은 것.\n"
   ]
  },
  {
   "cell_type": "code",
   "execution_count": 30,
   "id": "interpreted-release",
   "metadata": {},
   "outputs": [
    {
     "name": "stdout",
     "output_type": "stream",
     "text": [
      "내 이름은 김민경\n",
      "28 이지\n",
      "M\n",
      "내 이름은 김민경\n",
      "나이는 28\n",
      "여자\n"
     ]
    }
   ],
   "source": [
    "# 매개변수에 초깃값 설정\n",
    "def say_myself(name, age, man=True): # man = True >>> 초깃값 설정\n",
    "    print(\"내 이름은 %s\"%name)\n",
    "    print(\"%d 이지\"%age)\n",
    "    if man:\n",
    "        print(\"M\")\n",
    "    else:\n",
    "        print(\"F\")\n",
    "say_myself('김민경', 28, True) # M으로 출력 (초깃값 때문)\n",
    "\n",
    "def say_myself1(name, age, man=False):\n",
    "    print(\"내 이름은 %s\"%name)\n",
    "    print(\"나이는 %d\"%age)\n",
    "    if man:\n",
    "        print(\"M\")\n",
    "    else:\n",
    "        print(\"여자\")\n",
    "say_myself1('김민경', 28, False) # False를 입력해야 여자 출력\n",
    "\n",
    "# 초기화하고 싶은 매개변수는 앞에와도,중간에 와도 안됨\n",
    "# ex) def say_myself(name, age=True, man) -> 오류\n",
    "# 항상 맨 뒤에!"
   ]
  },
  {
   "cell_type": "code",
   "execution_count": 34,
   "id": "international-deadline",
   "metadata": {},
   "outputs": [
    {
     "name": "stdout",
     "output_type": "stream",
     "text": [
      "1\n",
      "1\n"
     ]
    }
   ],
   "source": [
    "# 함수 안에서 선언한 변수는 해당 함수 내에서만 효력을 같는다.\n",
    "# cf.자바의 멤버변수(클래스 안 함수 밖)\n",
    "\n",
    "a = 1 # 함수 밖 변수\n",
    "def var(a):\n",
    "    a = a + 1 # 2가 되어야 하는데,\n",
    "var(a)\n",
    "print(a) # 1 >>> 2가 아니다. : 함수 밖의 a를 출력한 것.\n"
   ]
  },
  {
   "cell_type": "code",
   "execution_count": 36,
   "id": "retained-presence",
   "metadata": {},
   "outputs": [
    {
     "ename": "NameError",
     "evalue": "name 'a1' is not defined",
     "output_type": "error",
     "traceback": [
      "\u001b[1;31m---------------------------------------------------------------------------\u001b[0m",
      "\u001b[1;31mNameError\u001b[0m                                 Traceback (most recent call last)",
      "\u001b[1;32m<ipython-input-36-b463eb3c22d0>\u001b[0m in \u001b[0;36m<module>\u001b[1;34m\u001b[0m\n\u001b[0;32m      2\u001b[0m     \u001b[0ma1\u001b[0m \u001b[1;33m=\u001b[0m \u001b[0ma1\u001b[0m \u001b[1;33m+\u001b[0m \u001b[1;36m1\u001b[0m\u001b[1;33m\u001b[0m\u001b[1;33m\u001b[0m\u001b[0m\n\u001b[0;32m      3\u001b[0m \u001b[0mvar2\u001b[0m\u001b[1;33m(\u001b[0m\u001b[1;36m3\u001b[0m\u001b[1;33m)\u001b[0m\u001b[1;33m\u001b[0m\u001b[1;33m\u001b[0m\u001b[0m\n\u001b[1;32m----> 4\u001b[1;33m \u001b[0mprint\u001b[0m\u001b[1;33m(\u001b[0m\u001b[0ma1\u001b[0m\u001b[1;33m)\u001b[0m\u001b[1;33m\u001b[0m\u001b[1;33m\u001b[0m\u001b[0m\n\u001b[0m",
      "\u001b[1;31mNameError\u001b[0m: name 'a1' is not defined"
     ]
    }
   ],
   "source": [
    "def var2(a1):\n",
    "    a1 = a1 + 1\n",
    "var2(3)\n",
    "print(a1) # 오류 발생 >>> 함수 밖에서 출력한 a1은 함수밖, 어디에도 존재하지x 때문.\n"
   ]
  },
  {
   "cell_type": "code",
   "execution_count": 39,
   "id": "cosmetic-greensboro",
   "metadata": {},
   "outputs": [
    {
     "ename": "SyntaxError",
     "evalue": "invalid syntax (<ipython-input-39-8500da073896>, line 8)",
     "output_type": "error",
     "traceback": [
      "\u001b[1;36m  File \u001b[1;32m\"<ipython-input-39-8500da073896>\"\u001b[1;36m, line \u001b[1;32m8\u001b[0m\n\u001b[1;33m    a = var(a) >>> 함수 밖의 a에 var()함수의 리턴값을 넣어줌\u001b[0m\n\u001b[1;37m                 ^\u001b[0m\n\u001b[1;31mSyntaxError\u001b[0m\u001b[1;31m:\u001b[0m invalid syntax\n"
     ]
    }
   ],
   "source": [
    "# 함수 안에서 함수 밖의 변수를 변경하는 법\n",
    "# return 키워드 사용\n",
    "a = 1\n",
    "def var(a):\n",
    "    a = a + 1\n",
    "    return a\n",
    "print(a) # 1 >>> 함수 밖의 a\n",
    "a = var(a) >>> 함수 밖의 a에 var()함수의 리턴값을 넣어줌\n",
    "print(a) # 2"
   ]
  },
  {
   "cell_type": "code",
   "execution_count": 41,
   "id": "billion-friendly",
   "metadata": {},
   "outputs": [
    {
     "name": "stdout",
     "output_type": "stream",
     "text": [
      "2\n"
     ]
    }
   ],
   "source": [
    "# 함수 안에서 함수 밖의 변수를 변경하는 법\n",
    "# global 명령어 사용\n",
    "a = 1\n",
    "def var():\n",
    "    global a\n",
    "    a = a + 1\n",
    "var()\n",
    "print(a) # 2 >>> 1이 아니라 2가 출력\n",
    "# global 명령어 : 직접 함수 밖의 a를 사용하겠다는 의미\n",
    "# 주의! 이렇게 되면 변수 위치가 무의미해짐. 섞인다.\n",
    "# -> 따라서 global은 가급적 사용하지 말고, 변수를 필요한 위치에 선언 후 사용하자."
   ]
  },
  {
   "cell_type": "code",
   "execution_count": null,
   "id": "waiting-hybrid",
   "metadata": {},
   "outputs": [],
   "source": []
  }
 ],
 "metadata": {
  "kernelspec": {
   "display_name": "Python 3",
   "language": "python",
   "name": "python3"
  },
  "language_info": {
   "codemirror_mode": {
    "name": "ipython",
    "version": 3
   },
   "file_extension": ".py",
   "mimetype": "text/x-python",
   "name": "python",
   "nbconvert_exporter": "python",
   "pygments_lexer": "ipython3",
   "version": "3.9.1"
  }
 },
 "nbformat": 4,
 "nbformat_minor": 5
}
