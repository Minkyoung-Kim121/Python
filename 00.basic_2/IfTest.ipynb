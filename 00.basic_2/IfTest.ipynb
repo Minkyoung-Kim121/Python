{
 "cells": [
  {
   "cell_type": "code",
   "execution_count": 1,
   "id": "falling-harvest",
   "metadata": {},
   "outputs": [
    {
     "name": "stdout",
     "output_type": "stream",
     "text": [
      "택시\n",
      "를\n",
      "타자!\n"
     ]
    }
   ],
   "source": [
    "# if문 IfTest.py\n",
    "\n",
    "# 조건문 다음에 콜론을 잊지 말자!\n",
    "# 들여쓰기는 공백(스페이스 네개 / 탭)을 통일하자!\n",
    "\n",
    "money=True\n",
    "if money:\n",
    "    print(\"택시\")\n",
    "    print(\"를\")\n",
    "    print(\"타자!\") # 출력\n",
    "else:\n",
    "    print(\"도보\")\n",
    "\n",
    "# True일때 if문 출력 false 이면 else또는 다른 else if조건문 출력"
   ]
  },
  {
   "cell_type": "code",
   "execution_count": 2,
   "id": "continuous-opposition",
   "metadata": {},
   "outputs": [
    {
     "name": "stdout",
     "output_type": "stream",
     "text": [
      "False\n",
      "True\n"
     ]
    }
   ],
   "source": [
    "# 비교연산자\n",
    "x = 3\n",
    "y = 2\n",
    "print(x == y) # False\n",
    "print(x > y) # True"
   ]
  },
  {
   "cell_type": "code",
   "execution_count": 3,
   "id": "national-eleven",
   "metadata": {},
   "outputs": [
    {
     "name": "stdout",
     "output_type": "stream",
     "text": [
      "걸어가\n"
     ]
    }
   ],
   "source": [
    "# 예문\n",
    "money1 = 2000\n",
    "if money1 >= 3000:\n",
    "    print(\"택시\")\n",
    "else:\n",
    "    print(\"걸어가\") # 걸어가"
   ]
  },
  {
   "cell_type": "code",
   "execution_count": 4,
   "id": "scheduled-haven",
   "metadata": {},
   "outputs": [
    {
     "name": "stdout",
     "output_type": "stream",
     "text": [
      "Taxi\n"
     ]
    }
   ],
   "source": [
    "# 조건1 or 조건2 >>> 둘 중 하나만 참이어도 참. \n",
    "money2 = 2000\n",
    "card = True\n",
    "if money2 >= 3000 or card:\n",
    "    print(\"Taxi\") # Taxi >>> 카드가 있어서\n",
    "else:\n",
    "    print(\"Walk\")"
   ]
  },
  {
   "cell_type": "code",
   "execution_count": 5,
   "id": "precise-plasma",
   "metadata": {},
   "outputs": [
    {
     "name": "stdout",
     "output_type": "stream",
     "text": [
      "택시 따따불\n"
     ]
    }
   ],
   "source": [
    "# 조건1 and 조건2 >>> 둘 다 참이어야 참. \n",
    "money3 = 5000\n",
    "card = True\n",
    "if money3 >= 5000 and card: \n",
    "    print(\"택시 따따불\") # 택시 따따불\n",
    "else:\n",
    "    print(\"걸어가야\")"
   ]
  },
  {
   "cell_type": "code",
   "execution_count": 6,
   "id": "controversial-lawyer",
   "metadata": {},
   "outputs": [
    {
     "name": "stdout",
     "output_type": "stream",
     "text": [
      "pass\n"
     ]
    }
   ],
   "source": [
    "# not 조건1 >>> 조건1이 거짓이면 참.\n",
    "person = False\n",
    "if not person:\n",
    "    print(\"pass\") # pass\n",
    "else:\n",
    "    print(\"Robot\")"
   ]
  },
  {
   "cell_type": "code",
   "execution_count": 7,
   "id": "sufficient-magazine",
   "metadata": {},
   "outputs": [
    {
     "name": "stdout",
     "output_type": "stream",
     "text": [
      "True\n",
      "False\n",
      "True\n"
     ]
    }
   ],
   "source": [
    "# x in s, x not in s >>> x가 s 안에 있지? 없지?\n",
    "print(1 in [1,2,3]) # True\n",
    "print(1 not in (1,2,3)) # False >>> 1이 있는데 없다고 해서 False\n",
    "print(4 not in (1,2,3)) # True"
   ]
  },
  {
   "cell_type": "code",
   "execution_count": 8,
   "id": "nasty-radio",
   "metadata": {},
   "outputs": [
    {
     "name": "stdout",
     "output_type": "stream",
     "text": [
      "taxxxxi\n"
     ]
    }
   ],
   "source": [
    "pocket = ['card','phone','mask','money4']\n",
    "if 'money4' in pocket:\n",
    "    print(\"taxxxxi\") # taxxxxi\n",
    "else:\n",
    "    print(\"walllk\")"
   ]
  },
  {
   "cell_type": "code",
   "execution_count": 9,
   "id": "dangerous-jerusalem",
   "metadata": {},
   "outputs": [
    {
     "name": "stdout",
     "output_type": "stream",
     "text": [
      "버스\n"
     ]
    }
   ],
   "source": [
    "pocket1 = ['card','phone','pen','paper']\n",
    "if 'card' not in pocket1:\n",
    "    print(\"걸\")\n",
    "else:\n",
    "    print(\"버스\") # 버스"
   ]
  },
  {
   "cell_type": "code",
   "execution_count": 10,
   "id": "sound-assumption",
   "metadata": {},
   "outputs": [],
   "source": [
    "# pass >>> 조건문에서 아무일도 하지 않게 설정하고 싶을 때\n",
    "pocket2 = ['card','phone','pen','paper']\n",
    "if 'card' in pocket2:\n",
    "    pass\n",
    "else:\n",
    "    print('카드를 꺼내')\n",
    "# 아무것도 출력되지 x -> card가 있고 pass를 걸었기 때문."
   ]
  },
  {
   "cell_type": "code",
   "execution_count": 11,
   "id": "latin-huntington",
   "metadata": {},
   "outputs": [
    {
     "name": "stdout",
     "output_type": "stream",
     "text": [
      "택시2\n"
     ]
    }
   ],
   "source": [
    "# elif 조건문 >>> else if \n",
    "pocket3 = ['phone','pen','paper']\n",
    "card = True\n",
    "if 'money5' in pocket3:\n",
    "    print('택시1')\n",
    "elif card:\n",
    "    print('택시2') # 택시2\n",
    "else:\n",
    "    print('걸어')"
   ]
  },
  {
   "cell_type": "code",
   "execution_count": 12,
   "id": "contained-stuart",
   "metadata": {},
   "outputs": [],
   "source": [
    "# 한 줄로 표현하기\n",
    "pocket6 = ['paper','money','phone']\n",
    "if 'paper' in pocket6: pass # pass\n",
    "else: print(\"종이를 버려라\")"
   ]
  },
  {
   "cell_type": "code",
   "execution_count": 13,
   "id": "moral-chart",
   "metadata": {},
   "outputs": [
    {
     "name": "stdout",
     "output_type": "stream",
     "text": [
      "success\n"
     ]
    }
   ],
   "source": [
    "score = 99\n",
    "if score >= 60:\n",
    "    message = \"success\"\n",
    "    print(message) # success\n",
    "else:\n",
    "    message = \"failure\"\n",
    "    print(message)"
   ]
  },
  {
   "cell_type": "code",
   "execution_count": 14,
   "id": "bearing-hours",
   "metadata": {},
   "outputs": [
    {
     "name": "stdout",
     "output_type": "stream",
     "text": [
      "failure\n"
     ]
    }
   ],
   "source": [
    "# 조건부 표현식\n",
    "score1 = 44\n",
    "message1 = \"success\" if score1 >= 60 else \"failure\"\n",
    "print(message1) # failure"
   ]
  },
  {
   "cell_type": "code",
   "execution_count": null,
   "id": "changed-theta",
   "metadata": {},
   "outputs": [],
   "source": []
  }
 ],
 "metadata": {
  "kernelspec": {
   "display_name": "Python 3",
   "language": "python",
   "name": "python3"
  },
  "language_info": {
   "codemirror_mode": {
    "name": "ipython",
    "version": 3
   },
   "file_extension": ".py",
   "mimetype": "text/x-python",
   "name": "python",
   "nbconvert_exporter": "python",
   "pygments_lexer": "ipython3",
   "version": "3.9.1"
  }
 },
 "nbformat": 4,
 "nbformat_minor": 5
}
