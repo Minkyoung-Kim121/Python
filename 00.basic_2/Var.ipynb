{
 "cells": [
  {
   "cell_type": "code",
   "execution_count": 1,
   "id": "prostate-comparative",
   "metadata": {},
   "outputs": [
    {
     "name": "stdout",
     "output_type": "stream",
     "text": [
      "[1, 2, 3]\n",
      "1650869860480\n"
     ]
    }
   ],
   "source": [
    "# 변수 Var.py\n",
    "\n",
    "# 변수 : 변하는 수\n",
    "\n",
    "a = [1,2,3]\n",
    "print(a) # [1, 2, 3]\n",
    "# -> python 은 컴파일하지 않아도 자동으로 메모리에 생성된다.\n",
    "print(id(a)) # 2271918840960 >>> 주소값"
   ]
  },
  {
   "cell_type": "code",
   "execution_count": 2,
   "id": "sporting-induction",
   "metadata": {},
   "outputs": [
    {
     "name": "stdout",
     "output_type": "stream",
     "text": [
      "[1, 2, 3]\n",
      "1650869860480\n",
      "True\n",
      "[1, 4, 3]\n",
      "[1, 4, 3]\n",
      "1650869860480\n",
      "1650869860480\n"
     ]
    }
   ],
   "source": [
    "# 리스트 복사\n",
    "b = a\n",
    "print(b) # [1, 2, 3]\n",
    "print(id(b)) # 2271918840960 >>> a와 주소값이 같다.\n",
    "print(a is b) # True\n",
    "\n",
    "a[1] = 4 # a리스트의 두번째 값을 4로 변경.\n",
    "print(a) # [1, 4, 3]\n",
    "print(b) # [1, 4, 3] >>> b도 같이 변경된다.\n",
    "print(id(a)) # 2286684953728\n",
    "print(id(b)) # 2286684953728 >>> 주소 동일"
   ]
  },
  {
   "cell_type": "code",
   "execution_count": 3,
   "id": "developed-thong",
   "metadata": {},
   "outputs": [
    {
     "name": "stdout",
     "output_type": "stream",
     "text": [
      "[1, 2, 3]\n",
      "1650869858368\n",
      "[1, 2, 3]\n",
      "1650869875712\n",
      "False\n",
      "[2, 2, 3]\n",
      "[1, 2, 3]\n"
     ]
    }
   ],
   "source": [
    "# 리스트를 복사할 때 다른 주소를 갖게하는 방법 2가지\n",
    "# 1. [:] 사용\n",
    "a1 = [1,2,3]\n",
    "print(a1) # [1, 2, 3]\n",
    "print(id(a1)) # 2121413975168\n",
    "\n",
    "b1 = a1[:]\n",
    "print(b1) # [1, 2, 3]\n",
    "print(id(b1)) # 2121413974656 >>> a1과 주소값 다름.\n",
    "print(a1 is b1) # False\n",
    "\n",
    "b1[0] = 2\n",
    "print(b1) # [2, 2, 3]\n",
    "print(a1) # [1, 2, 3] >>> a1 값 변경 안 됨."
   ]
  },
  {
   "cell_type": "code",
   "execution_count": 4,
   "id": "confident-frederick",
   "metadata": {},
   "outputs": [
    {
     "name": "stdout",
     "output_type": "stream",
     "text": [
      "[1, 2, 3]\n",
      "1650869869376\n",
      "[1, 2, 3]\n",
      "1650869876608\n",
      "False\n",
      "[10, 2, 3]\n",
      "[1, 2, 3]\n"
     ]
    }
   ],
   "source": [
    "# 2. copy 모듈 사용\n",
    "from copy import copy\n",
    "a2 = [1,2,3]\n",
    "print(a2)\n",
    "print(id(a2)) # 1455942874496\n",
    "\n",
    "b2 = copy(a2)\n",
    "print(b2)\n",
    "print(id(b2)) # 1455943036800 >>> a2와 주소값 다름.\n",
    "print(a2 is b2) # False\n",
    "\n",
    "b2[0] = 10\n",
    "print(b2) # [10, 2, 3]\n",
    "print(a2) # [1, 2, 3]"
   ]
  },
  {
   "cell_type": "code",
   "execution_count": 5,
   "id": "traditional-genealogy",
   "metadata": {},
   "outputs": [
    {
     "name": "stdout",
     "output_type": "stream",
     "text": [
      "1\n",
      "2\n",
      "1 2\n",
      "python\n",
      "life\n"
     ]
    }
   ],
   "source": [
    "# 3. 변수 대입 방법\n",
    "# 튜플로 변수 대입\n",
    "c,d = (1,2)\n",
    "print(c) # 1\n",
    "print(d) # 2\n",
    "print(c,d) # 1 2\n",
    "\n",
    "(c1,d1) = 'python','life'\n",
    "print(c1) # python\n",
    "print(d1) # life"
   ]
  },
  {
   "cell_type": "code",
   "execution_count": 6,
   "id": "measured-brain",
   "metadata": {},
   "outputs": [
    {
     "name": "stdout",
     "output_type": "stream",
     "text": [
      "['python']\n",
      "['life']\n",
      "['python', 'life']\n",
      "python\n",
      "PYTHON\n",
      "  python  \n",
      "!!!life!!!\n"
     ]
    }
   ],
   "source": [
    "# 리스트로 변수 대입\n",
    "[c2,d2] = [\"python\",\"life\"]\n",
    "print([c2]) # ['python']\n",
    "print([d2]) # ['life']\n",
    "print([c2,d2]) # ['python', 'life']\n",
    "print([c2,d2][0]) # python\n",
    "print([c2,d2][0].upper()) # PYTHON\n",
    "print(\"{0:^10}\".format([c2,d2][0])) #   python\n",
    "print(\"{0:!^10}\".format([c2,d2][1])) # !!!life!!!"
   ]
  },
  {
   "cell_type": "code",
   "execution_count": 7,
   "id": "killing-antibody",
   "metadata": {},
   "outputs": [
    {
     "name": "stdout",
     "output_type": "stream",
     "text": [
      "hello hello\n",
      "1004 hello\n"
     ]
    }
   ],
   "source": [
    "# 여러개의 변수에 같은 값 대입\n",
    "c3 = d3 = 'hello'\n",
    "print(c3,d3) # hello hello\n",
    "c3 = \"1004\"\n",
    "print(c3,d3) # 1004 hello"
   ]
  },
  {
   "cell_type": "code",
   "execution_count": 8,
   "id": "passing-yahoo",
   "metadata": {},
   "outputs": [
    {
     "name": "stdout",
     "output_type": "stream",
     "text": [
      "10 20\n",
      "20 10\n"
     ]
    }
   ],
   "source": [
    "# 변수 값 바꾸기\n",
    "c4 = 10\n",
    "d4 = 20\n",
    "print(c4, d4) # 10 20\n",
    "c4, d4 = d4, c4\n",
    "print(c4, d4) # 20 10"
   ]
  },
  {
   "cell_type": "code",
   "execution_count": 9,
   "id": "original-gauge",
   "metadata": {},
   "outputs": [
    {
     "name": "stdout",
     "output_type": "stream",
     "text": [
      "False\n"
     ]
    }
   ],
   "source": [
    "# 예제\n",
    "ex1 = [1,2,3]\n",
    "ex2 = [1,2,3]\n",
    "print(ex1 is ex2) # False"
   ]
  },
  {
   "cell_type": "code",
   "execution_count": null,
   "id": "elder-fellowship",
   "metadata": {},
   "outputs": [],
   "source": []
  }
 ],
 "metadata": {
  "kernelspec": {
   "display_name": "Python 3",
   "language": "python",
   "name": "python3"
  },
  "language_info": {
   "codemirror_mode": {
    "name": "ipython",
    "version": 3
   },
   "file_extension": ".py",
   "mimetype": "text/x-python",
   "name": "python",
   "nbconvert_exporter": "python",
   "pygments_lexer": "ipython3",
   "version": "3.9.1"
  }
 },
 "nbformat": 4,
 "nbformat_minor": 5
}
