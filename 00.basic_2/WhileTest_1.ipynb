{
 "cells": [
  {
   "cell_type": "code",
   "execution_count": 1,
   "id": "ethical-assurance",
   "metadata": {},
   "outputs": [
    {
     "name": "stdout",
     "output_type": "stream",
     "text": [
      "돈 받고 커피 준다아!\n",
      "남은 커피의 양은 9개 입니다.\n",
      "돈 받고 커피 준다아!\n",
      "남은 커피의 양은 8개 입니다.\n",
      "돈 받고 커피 준다아!\n",
      "남은 커피의 양은 7개 입니다.\n",
      "돈 받고 커피 준다아!\n",
      "남은 커피의 양은 6개 입니다.\n",
      "돈 받고 커피 준다아!\n",
      "남은 커피의 양은 5개 입니다.\n",
      "돈 받고 커피 준다아!\n",
      "남은 커피의 양은 4개 입니다.\n",
      "돈 받고 커피 준다아!\n",
      "남은 커피의 양은 3개 입니다.\n",
      "돈 받고 커피 준다아!\n",
      "남은 커피의 양은 2개 입니다.\n",
      "돈 받고 커피 준다아!\n",
      "남은 커피의 양은 1개 입니다.\n",
      "돈 받고 커피 준다아!\n",
      "남은 커피의 양은 0개 입니다.\n",
      "끝!\n"
     ]
    }
   ],
   "source": [
    "# while문 # WhileTest_1.py\n",
    "\n",
    "# while문 중간에 강제로 브레이크 걸기 : break\n",
    "coffee = 10\n",
    "money = 300\n",
    "while money:\n",
    "    print(\"돈 받고 커피 준다아!\")\n",
    "    coffee = coffee - 1 # coffee -= 1\n",
    "    print(\"남은 커피의 양은 %d개 입니다.\"%coffee)\n",
    "    if coffee == 0:\n",
    "        print(\"끝!\")\n",
    "        break"
   ]
  },
  {
   "cell_type": "code",
   "execution_count": null,
   "id": "professional-anchor",
   "metadata": {},
   "outputs": [],
   "source": []
  }
 ],
 "metadata": {
  "kernelspec": {
   "display_name": "Python 3",
   "language": "python",
   "name": "python3"
  },
  "language_info": {
   "codemirror_mode": {
    "name": "ipython",
    "version": 3
   },
   "file_extension": ".py",
   "mimetype": "text/x-python",
   "name": "python",
   "nbconvert_exporter": "python",
   "pygments_lexer": "ipython3",
   "version": "3.9.1"
  }
 },
 "nbformat": 4,
 "nbformat_minor": 5
}
