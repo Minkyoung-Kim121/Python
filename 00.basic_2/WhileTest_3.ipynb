{
 "cells": [
  {
   "cell_type": "code",
   "execution_count": 1,
   "id": "cheap-brand",
   "metadata": {},
   "outputs": [
    {
     "name": "stdout",
     "output_type": "stream",
     "text": [
      "1\n",
      "3\n",
      "5\n",
      "7\n",
      "9\n"
     ]
    }
   ],
   "source": [
    "# while문 # WhileTest_3.py\n",
    "# 맨 처음으로 돌아가기 : continue\n",
    "a = 0\n",
    "while a < 10:\n",
    "    a += 1\n",
    "    if a % 2 == 0: continue # >>> a를 2로 나눈 나머지가 0 이면 처음으로 돌아간다.\n",
    "    print(a)\n",
    "# -> continue 밑에 탭 되지 않도록 유의!\n",
    "#    continue 하면 while문의 맨 처음(조건문)으로 돌아간다."
   ]
  },
  {
   "cell_type": "code",
   "execution_count": null,
   "id": "transsexual-candy",
   "metadata": {},
   "outputs": [],
   "source": []
  }
 ],
 "metadata": {
  "kernelspec": {
   "display_name": "Python 3",
   "language": "python",
   "name": "python3"
  },
  "language_info": {
   "codemirror_mode": {
    "name": "ipython",
    "version": 3
   },
   "file_extension": ".py",
   "mimetype": "text/x-python",
   "name": "python",
   "nbconvert_exporter": "python",
   "pygments_lexer": "ipython3",
   "version": "3.9.1"
  }
 },
 "nbformat": 4,
 "nbformat_minor": 5
}
