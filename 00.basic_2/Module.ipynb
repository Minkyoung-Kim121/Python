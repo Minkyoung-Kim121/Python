{
 "cells": [
  {
   "cell_type": "code",
   "execution_count": 1,
   "id": "together-cable",
   "metadata": {},
   "outputs": [],
   "source": [
    "# 모듈 Module.py\n",
    "# 모듈 : 함수나 변수 또는 클래스를 모아 놓은 파일\n",
    "# 다른 파이썬 프로그램에서 불러와 사용가능하게 만든 파이썬 파일\n",
    "# 모듈은 직접 만들 수도 있고, 다른사람이 만든 것을 불러와 쓸 수도 있다.\n",
    "# 모듈 생성\n",
    "def add(a, b):\n",
    "    return a + b\n",
    "def sub(a, b):\n",
    "    return a - b"
   ]
  },
  {
   "cell_type": "code",
   "execution_count": null,
   "id": "fluid-bloom",
   "metadata": {},
   "outputs": [],
   "source": []
  }
 ],
 "metadata": {
  "kernelspec": {
   "display_name": "Python 3",
   "language": "python",
   "name": "python3"
  },
  "language_info": {
   "codemirror_mode": {
    "name": "ipython",
    "version": 3
   },
   "file_extension": ".py",
   "mimetype": "text/x-python",
   "name": "python",
   "nbconvert_exporter": "python",
   "pygments_lexer": "ipython3",
   "version": "3.9.1"
  }
 },
 "nbformat": 4,
 "nbformat_minor": 5
}
