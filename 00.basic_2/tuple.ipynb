{
 "cells": [
  {
   "cell_type": "code",
   "execution_count": 1,
   "id": "pharmaceutical-morgan",
   "metadata": {},
   "outputs": [
    {
     "name": "stdout",
     "output_type": "stream",
     "text": [
      "()\n",
      "(1,)\n",
      "(1, 2, 3)\n",
      "(1, 2, 3, 4)\n",
      "('a', 'b', ('ab', 'ba'))\n"
     ]
    }
   ],
   "source": [
    "# 튜플 자료형 tuple.py\n",
    "\n",
    "# 튜플과 리스트의 차이점\n",
    "# 1. 튜플은 값을 변경x / 리스트는 값을 변경o(생성,수정,삭제 가능.)\n",
    "# 2. 튜플은 ()         / 리스트는 []\n",
    "# => 값이 변경되면 안되는 값에는 튜플. 그 외엔 리스트 사용(보통 리스트를 더 사용한다.)\n",
    "\n",
    "t1 = ()\n",
    "print(t1) # ()\n",
    "t2 = (1,) # 요소가 1개일 때는 뒤에 콤마를 반드시 붙여야.\n",
    "print(t2) # (1, )\n",
    "t3 = (1,2,3)\n",
    "print(t3) # (1, 2, 3)\n",
    "t4 = 1,2,3,4 # ()괄호 생략 가능.\n",
    "print(t4) # (1, 2, 3, 4)\n",
    "t5 = ('a','b',('ab','ba'))\n",
    "print(t5) # ('a','b', ('ab','ba'))"
   ]
  },
  {
   "cell_type": "code",
   "execution_count": 2,
   "id": "express-automation",
   "metadata": {},
   "outputs": [
    {
     "name": "stdout",
     "output_type": "stream",
     "text": [
      "(1, 2, 3)\n",
      "(4,)\n",
      "(1, 2, 3, 4)\n"
     ]
    }
   ],
   "source": [
    "# 튜플 또한 인덱싱, 슬라이싱 및 연산이 가능하다.\n",
    "\n",
    "ex = (1,2,3)\n",
    "print(ex) # (1, 2, 3)\n",
    "ex1 = (4,)\n",
    "print(ex1) # (4,)\n",
    "ex2 = ex + ex1\n",
    "print(ex2) # (1, 2, 3, 4)"
   ]
  },
  {
   "cell_type": "code",
   "execution_count": null,
   "id": "collaborative-domestic",
   "metadata": {},
   "outputs": [],
   "source": []
  }
 ],
 "metadata": {
  "kernelspec": {
   "display_name": "Python 3",
   "language": "python",
   "name": "python3"
  },
  "language_info": {
   "codemirror_mode": {
    "name": "ipython",
    "version": 3
   },
   "file_extension": ".py",
   "mimetype": "text/x-python",
   "name": "python",
   "nbconvert_exporter": "python",
   "pygments_lexer": "ipython3",
   "version": "3.9.1"
  }
 },
 "nbformat": 4,
 "nbformat_minor": 5
}
