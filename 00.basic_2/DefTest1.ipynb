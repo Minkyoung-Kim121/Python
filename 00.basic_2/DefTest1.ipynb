{
 "cells": [
  {
   "cell_type": "code",
   "execution_count": 2,
   "id": "interior-waters",
   "metadata": {},
   "outputs": [
    {
     "name": "stdout",
     "output_type": "stream",
     "text": [
      "3\n",
      "2\n"
     ]
    }
   ],
   "source": [
    "# defTest1 python 내장함수\n",
    "\n",
    "# abs(a) : 숫자를 입력받았을 때, 절댓값을 돌려줌\n",
    "print(abs(3)) # 3\n",
    "print(abs(-2)) # 2"
   ]
  },
  {
   "cell_type": "code",
   "execution_count": 5,
   "id": "polar-alabama",
   "metadata": {},
   "outputs": [
    {
     "name": "stdout",
     "output_type": "stream",
     "text": [
      "True\n",
      "False\n",
      "True\n"
     ]
    }
   ],
   "source": [
    "# all([x,y,z]) : 모두 참이면 True, 거짓이 하나라도 있으면 False 반환\n",
    "print(all([1,2,3,4,5])) # True\n",
    "print(all([1,2,3,4,0])) # False : 숫자에서는 0이면 거짓\n",
    "print(all([1,2,3,4, ])) # True"
   ]
  },
  {
   "cell_type": "code",
   "execution_count": 24,
   "id": "complicated-senator",
   "metadata": {},
   "outputs": [
    {
     "name": "stdout",
     "output_type": "stream",
     "text": [
      "True\n",
      "False\n",
      "False\n"
     ]
    }
   ],
   "source": [
    "# any([x,y,z]) : 하나라도 참이면 True, 모두 거짓이면 False\n",
    "print(any([1,2,3,4,0])) # True\n",
    "print(any([0,0,0,0,0])) # False\n",
    "print(any([\"\",0])) # False : list 자료형 0,공백은 모두 False"
   ]
  },
  {
   "cell_type": "code",
   "execution_count": 61,
   "id": "sustained-saudi",
   "metadata": {},
   "outputs": [
    {
     "name": "stdout",
     "output_type": "stream",
     "text": [
      "6\n",
      "<class 'str'>\n",
      "a\n",
      "0x64\n",
      "0o66\n",
      "111\n"
     ]
    }
   ],
   "source": [
    "# 아스키 코드 : 0-127 사이의 숫자를 각각 하나의 문자 또는 기호에 대응시켜 놓은 것\n",
    "# chr(i) : 아스키 코드 값을 입력받아 코드에 해당하는 문자 출력\n",
    "print(chr(54)) #'6'\n",
    "print(type(chr(54))) # <class 'str'>\n",
    "print(chr(97)) # a\n",
    "\n",
    "# hex : 입력받은 정수를 16진수(hexadecimal)로 바꿔서 반환\n",
    "print(hex(100)) # 0x64 >>> 헥사코드는 앞에 0x를 붙여서 표현한다.\n",
    "\n",
    "# oct : 정수 -> 8진수 문자열\n",
    "print(oct(54)) # 0o66 >>> 앞에 0o를 붙여서 표현한다.\n",
    "\n",
    "# ord : 문자의 아스키 코드 반환\n",
    "print(ord('o')) # 111"
   ]
  },
  {
   "cell_type": "code",
   "execution_count": 34,
   "id": "automated-worker",
   "metadata": {},
   "outputs": [
    {
     "name": "stdout",
     "output_type": "stream",
     "text": [
      "['__add__', '__class__', '__class_getitem__', '__contains__', '__delattr__', '__delitem__', '__dir__', '__doc__', '__eq__', '__format__', '__ge__', '__getattribute__', '__getitem__', '__gt__', '__hash__', '__iadd__', '__imul__', '__init__', '__init_subclass__', '__iter__', '__le__', '__len__', '__lt__', '__mul__', '__ne__', '__new__', '__reduce__', '__reduce_ex__', '__repr__', '__reversed__', '__rmul__', '__setattr__', '__setitem__', '__sizeof__', '__str__', '__subclasshook__', 'append', 'clear', 'copy', 'count', 'extend', 'index', 'insert', 'pop', 'remove', 'reverse', 'sort']\n",
      "['__class__', '__class_getitem__', '__contains__', '__delattr__', '__delitem__', '__dir__', '__doc__', '__eq__', '__format__', '__ge__', '__getattribute__', '__getitem__', '__gt__', '__hash__', '__init__', '__init_subclass__', '__ior__', '__iter__', '__le__', '__len__', '__lt__', '__ne__', '__new__', '__or__', '__reduce__', '__reduce_ex__', '__repr__', '__reversed__', '__ror__', '__setattr__', '__setitem__', '__sizeof__', '__str__', '__subclasshook__', 'clear', 'copy', 'fromkeys', 'get', 'items', 'keys', 'pop', 'popitem', 'setdefault', 'update', 'values']\n"
     ]
    }
   ],
   "source": [
    "# dir() : 객체가 자체적으로 갖고 있는 함수나 변수를 보여줌\n",
    "print(dir([1,2,3])) # list 관련 함수 출력\n",
    "print(dir({'1':'2'})) # 딕셔너리 관련 함수 출력"
   ]
  },
  {
   "cell_type": "code",
   "execution_count": 37,
   "id": "turkish-knife",
   "metadata": {},
   "outputs": [
    {
     "name": "stdout",
     "output_type": "stream",
     "text": [
      "(0, 1)\n",
      "<class 'tuple'>\n",
      "0\n",
      "1\n"
     ]
    }
   ],
   "source": [
    "# divmod(a,b) : a/b 몫과 나머지를 튜플로 돌려준다.\n",
    "# 항상 2개의 숫자를 받아야한다.\n",
    "print(divmod(1,10)) # (0,1)\n",
    "print(type(divmod(1,10))) # <class 'tuple'>\n",
    "print(1//10) # 0\n",
    "print(1%10) # 1"
   ]
  },
  {
   "cell_type": "code",
   "execution_count": 43,
   "id": "adapted-order",
   "metadata": {},
   "outputs": [
    {
     "name": "stdout",
     "output_type": "stream",
     "text": [
      "0 python\n",
      "1 is\n",
      "2 fun\n",
      "0 1\n",
      "1 2\n",
      "2 3\n"
     ]
    }
   ],
   "source": [
    "# enumerate : '열거하다'라는 의미\n",
    "# 순서가 있는 자료형(리스트, 튜플, 문자열)의 현재 순서와 위치를 알려준다.\n",
    "# 보통 for 문과 같이 사용된다.\n",
    "for i, name in enumerate(['python', 'is', 'fun']):\n",
    "    print(i, name)\n",
    "# 0 python\n",
    "# 1 is\n",
    "# 2 fun\n",
    "for i, name in enumerate((1, 2, 3)):\n",
    "    print(i, name)\n",
    "# 0 1\n",
    "# 1 2\n",
    "# 2 3\n"
   ]
  },
  {
   "cell_type": "code",
   "execution_count": 49,
   "id": "independent-active",
   "metadata": {},
   "outputs": [
    {
     "name": "stdout",
     "output_type": "stream",
     "text": [
      "3\n",
      "hipython\n"
     ]
    }
   ],
   "source": [
    "# eval : 실행가능한 문자열을 입력받아 결과값(문자열 실행)을 돌려줌.\n",
    "# 보통 입력받은 문자열로 파이썬 함수나 클래스를 동적으로 실행하고자 할 때 사용.\n",
    "print(eval('1+2')) # 3\n",
    "print(eval(\"'hi''python'\")) # hipython"
   ]
  },
  {
   "cell_type": "code",
   "execution_count": 56,
   "id": "requested-newsletter",
   "metadata": {},
   "outputs": [
    {
     "name": "stdout",
     "output_type": "stream",
     "text": [
      "[1, 2, 6]\n",
      "<class 'list'>\n",
      "[]\n"
     ]
    }
   ],
   "source": [
    "# filter : '걸러준다'라는 의미\n",
    "# 첫번째 인수로 함수이름, 두번째 인수로 반복 가능한 자료형을 받는다.\n",
    "# 두번째 인수가 함수(첫번째 인수)에 입력됐을 때, 반환 값이 참인 것만 묶어서 돌려준다.\n",
    "def positive(l):\n",
    "    result = []\n",
    "    for i in l:\n",
    "        if i>0:\n",
    "            result.append(i)\n",
    "    return result\n",
    "print(positive([1,-3,2,0,-5,6])) # >>> if i>0\n",
    "print(type(positive([1,-3,2,0,-5,6]))) # <class 'list'>\n",
    "print(positive([-100,-8,-4,-4,-1,-1,-54321])) # []\n"
   ]
  },
  {
   "cell_type": "code",
   "execution_count": 60,
   "id": "filled-infrared",
   "metadata": {},
   "outputs": [
    {
     "name": "stdout",
     "output_type": "stream",
     "text": [
      "[1, 2, 6]\n",
      "(1, 2, 6)\n",
      "[1, 2, 6]\n"
     ]
    }
   ],
   "source": [
    "# filter 사용하면\n",
    "def positive(l):\n",
    "    return l>0\n",
    "print(list(filter(positive, [1,-3,2,0,-5,6]))) # [1, 2, 6]\n",
    "print(tuple(filter(positive, [1,-3,2,0,-5,6]))) # (1, 2, 6)\n",
    "# 묶어서 반환하기 때문에 묶는 자료형을 썼다.\n",
    "# 람다식으로 표현하기\n",
    "print(list(filter(lambda l: l>0, [1,-3,2,0,-5,6]))) # [1, 2, 6]"
   ]
  },
  {
   "cell_type": "code",
   "execution_count": null,
   "id": "coordinate-berkeley",
   "metadata": {},
   "outputs": [],
   "source": []
  }
 ],
 "metadata": {
  "kernelspec": {
   "display_name": "Python 3",
   "language": "python",
   "name": "python3"
  },
  "language_info": {
   "codemirror_mode": {
    "name": "ipython",
    "version": 3
   },
   "file_extension": ".py",
   "mimetype": "text/x-python",
   "name": "python",
   "nbconvert_exporter": "python",
   "pygments_lexer": "ipython3",
   "version": "3.9.1"
  }
 },
 "nbformat": 4,
 "nbformat_minor": 5
}
