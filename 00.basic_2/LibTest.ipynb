{
 "cells": [
  {
   "cell_type": "code",
   "execution_count": 1,
   "id": "outside-flight",
   "metadata": {},
   "outputs": [],
   "source": [
    "# LibTest 라이브러리\n",
    "# 누가 만들어 놓은 것을 가져다가 쓰는 것\n",
    "# cf. 프레임 워크 : 내가 해당 프레임 워크 안에 들어가서 사용하는 것\n",
    "# random 모듈 : 난수 발생 모듈\n",
    "# random.random() : 0.0~1.0 사이의 실수 중에서 난수 발생\n",
    "# random.randint(1, 10) : 1~10 사이의 정수 중에서 난수 발생\n"
   ]
  },
  {
   "cell_type": "code",
   "execution_count": 2,
   "id": "received-stuart",
   "metadata": {},
   "outputs": [
    {
     "name": "stdout",
     "output_type": "stream",
     "text": [
      "1-100 사이의 숫자를 입력하세요: 1\n",
      "입력한 숫자는 1 입니다.\n",
      "더 큰 수를 입력하세요\n",
      "1-100 사이의 숫자를 입력하세요: 1\n",
      "입력한 숫자는 1 입니다.\n",
      "더 큰 수를 입력하세요\n",
      "1-100 사이의 숫자를 입력하세요: 1\n",
      "입력한 숫자는 1 입니다.\n",
      "더 큰 수를 입력하세요\n",
      "1-100 사이의 숫자를 입력하세요: 1\n",
      "입력한 숫자는 1 입니다.\n",
      "더 큰 수를 입력하세요\n",
      "1-100 사이의 숫자를 입력하세요: 1\n",
      "입력한 숫자는 1 입니다.\n",
      "더 큰 수를 입력하세요\n",
      "1-100 사이의 숫자를 입력하세요: 1\n",
      "입력한 숫자는 1 입니다.\n",
      "더 큰 수를 입력하세요\n",
      "1-100 사이의 숫자를 입력하세요: 1\n",
      "입력한 숫자는 1 입니다.\n",
      "더 큰 수를 입력하세요\n",
      "1-100 사이의 숫자를 입력하세요: 1\n",
      "입력한 숫자는 1 입니다.\n",
      "더 큰 수를 입력하세요\n",
      "1-100 사이의 숫자를 입력하세요: 1\n",
      "입력한 숫자는 1 입니다.\n",
      "더 큰 수를 입력하세요\n",
      "1-100 사이의 숫자를 입력하세요: 1\n",
      "입력한 숫자는 1 입니다.\n",
      "더 큰 수를 입력하세요\n",
      "정답은 12 입니다.\n",
      "시도횟수는 10 번 입니다.\n",
      "10번 만에 정답을 못 맞췄으니\n",
      "실패!\n"
     ]
    }
   ],
   "source": [
    "# random game\n",
    "import random\n",
    "\n",
    "answer = random.randint(1, 100)\n",
    "# print(\"정답은\", str(answer), \"입니다.\")\n",
    "count = 0\n",
    "for count in range(1, 11):\n",
    "    number = int(input(\"1-100 사이의 숫자를 입력하세요: \"))\n",
    "    print(\"입력한 숫자는\", number, \"입니다.\")\n",
    "\n",
    "    if number == answer:\n",
    "        print(\"축하합니다.\", number, \"정답!!\")\n",
    "        break\n",
    "    elif number > answer:\n",
    "        print(\"더 작은 수를 입력하세요\")\n",
    "    elif number < answer:\n",
    "        print(\"더 큰 수를 입력하세요\")\n",
    "    if count == 10:\n",
    "        print(\"정답은\", str(answer), \"입니다.\")\n",
    "        print(\"시도횟수는\", count, \"번 입니다.\")\n",
    "        print(\"10번 만에 정답을 못 맞췄으니\")\n",
    "        print(\"실패!\")\n",
    "    "
   ]
  },
  {
   "cell_type": "code",
   "execution_count": null,
   "id": "turned-grounds",
   "metadata": {},
   "outputs": [],
   "source": []
  }
 ],
 "metadata": {
  "kernelspec": {
   "display_name": "Python 3",
   "language": "python",
   "name": "python3"
  },
  "language_info": {
   "codemirror_mode": {
    "name": "ipython",
    "version": 3
   },
   "file_extension": ".py",
   "mimetype": "text/x-python",
   "name": "python",
   "nbconvert_exporter": "python",
   "pygments_lexer": "ipython3",
   "version": "3.9.1"
  }
 },
 "nbformat": 4,
 "nbformat_minor": 5
}
