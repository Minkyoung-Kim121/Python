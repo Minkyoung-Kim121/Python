{
 "cells": [
  {
   "cell_type": "code",
   "execution_count": 2,
   "id": "established-remark",
   "metadata": {},
   "outputs": [
    {
     "name": "stdout",
     "output_type": "stream",
     "text": [
      "3\n",
      "7\n",
      "17\n"
     ]
    }
   ],
   "source": [
    "# 클래스 ClassTest.py\n",
    "# 클래스 : 반드시 필요한 요소는 아니지만 잘 사용하면 메모리를 절약할 수 있다.\n",
    "# ex) 계산기에 숫자를 입력하면 이전의 계산 결과값을 항상 메모레 어딘가에 저장하고 있다.\n",
    "# 클래스는 과자 틀과 비슷 (과자틀로 찍어낸 과자 = 클래스로 만든 객체)\n",
    "# a.Cookie() >>> a : 객체(Cookie()의 인스턴스) / a객체는 Cookie의 인스턴스\n",
    "result = 0\n",
    "def add(num):\n",
    "    global result\n",
    "    result += num\n",
    "    return result\n",
    "\n",
    "print(add(3)) # 3\n",
    "print(add(4)) # 7\n",
    "print(add(10)) # 10 >>> num에 입력한 값을 이전의 결과값에 계속 더함.\n"
   ]
  },
  {
   "cell_type": "code",
   "execution_count": 12,
   "id": "velvet-calvin",
   "metadata": {},
   "outputs": [
    {
     "name": "stdout",
     "output_type": "stream",
     "text": [
      "1\n",
      "4\n",
      "2\n",
      "5\n"
     ]
    }
   ],
   "source": [
    "result1 = 0 # 전역변수\n",
    "result2 = 0 # 전역변수\n",
    "def add1(num):\n",
    "    global result1 # global 로 전역변수 사용\n",
    "    result1 += num\n",
    "    return result1\n",
    "def add2(num):\n",
    "    global result2\n",
    "    result2 += num\n",
    "    return result2\n",
    "print(add1(1)) # 1\n",
    "print(add2(4)) # 4\n",
    "print(add1(1)) # 2\n",
    "print(add2(1)) # 5\n",
    "# 만약 계산기가 2 개 필요한 경우 함수 2개를 만들어서 결과를 따로 받아야한다.\n",
    "# 하지만 계산기가 1억개 필요하다면...??\n"
   ]
  },
  {
   "cell_type": "code",
   "execution_count": 15,
   "id": "virtual-adrian",
   "metadata": {},
   "outputs": [
    {
     "name": "stdout",
     "output_type": "stream",
     "text": [
      "3\n",
      "6\n",
      "4\n",
      "8\n"
     ]
    }
   ],
   "source": [
    "class Calculator: # 클래스 이름은 대문자\n",
    "    def __init__(self):\n",
    "        self.result = 0\n",
    "    def add(self, num):\n",
    "        self.result += num\n",
    "        return self.result\n",
    "\n",
    "cal1 = Calculator() # 클래스 Calculator로 만든 객체 cal1\n",
    "cal2 = Calculator() # 클래스 Calculator로 만든 객체 cal2\n",
    "print(cal1.add(3)) # 3\n",
    "print(cal1.add(3)) # 6 \n",
    "print(cal2.add(4)) # 4\n",
    "print(cal2.add(4)) # 8\n",
    "# 동일한 클래스로 만든 객체들은 서로 영향을 주지 않는다.\n",
    "# 결과값을 돌려받은 cal1, cal2가 객체이다."
   ]
  },
  {
   "cell_type": "code",
   "execution_count": 18,
   "id": "average-bread",
   "metadata": {},
   "outputs": [
    {
     "name": "stdout",
     "output_type": "stream",
     "text": [
      "<class '__main__.FourCal'>\n",
      "<class '__main__.FourCal'>\n"
     ]
    }
   ],
   "source": [
    "# 사칙연산 클래스 만들기\n",
    "# 클래스 명 : FourCal\n",
    "# 숫자 입력받을 함수 : setdata()\n",
    "# 더하기 함수 : add()\n",
    "# 빼기 함수 : sub()\n",
    "# 곱하기 함수 : mul()\n",
    "# 나누기 함수 : div()\n",
    "\n",
    "# class 생성\n",
    "class FourCal:\n",
    "    pass\n",
    "print(FourCal) # <class '__main__.FourCal'>\n",
    "# 객체 a 생성\n",
    "a = FourCal()\n",
    "print(type(a)) # <class '__main__.FourCal'> >> 객체 a의 타입 print한 것\n"
   ]
  },
  {
   "cell_type": "code",
   "execution_count": 40,
   "id": "clinical-america",
   "metadata": {},
   "outputs": [
    {
     "name": "stdout",
     "output_type": "stream",
     "text": [
      "<__main__.FourCal object at 0x0000016CAD02B2E0>\n",
      "4\n",
      "2\n"
     ]
    }
   ],
   "source": [
    "# 데이터 숫자 2개 넣을 함수 setdata 생성\n",
    "class FourCal:\n",
    "    # 클래스 안에 구현된 함수 : 메서드\n",
    "    def setdata(self, first, second): \n",
    "        # self에는 setdata 메서드를 호출한 객체a가 자동으로 전달\n",
    "        self.first = first\n",
    "        self.second = second\n",
    "a = FourCal()\n",
    "print(a)\n",
    "a.setdata(4,2) # a객체가 self 매개변수로 들어간다. \n",
    "# >>> 객체.메서드 형태로 호출 시 >>> self를 생략해서 써야한다.\n",
    "\n",
    "print(a.first) # 4\n",
    "print(a.second) # 2"
   ]
  },
  {
   "cell_type": "code",
   "execution_count": 38,
   "id": "serial-retirement",
   "metadata": {},
   "outputs": [
    {
     "name": "stdout",
     "output_type": "stream",
     "text": [
      "<__main__.FourCal object at 0x0000016CAD02BAF0>\n",
      "4\n",
      "8\n"
     ]
    }
   ],
   "source": [
    "class FourCal:\n",
    "    # 클래스 안에 구현된 함수 : 메서드\n",
    "    def setdata(self, first, second): \n",
    "        # self에는 setdata 메서드를 호출한 객체a가 자동으로 전달\n",
    "        self.first = first\n",
    "        self.second = second\n",
    "a = FourCal()\n",
    "print(a)\n",
    "FourCal.setdata(a,4,8) \n",
    "# >>> 클래스명.메서드 호출 시 >>> 객체 a를 매개변수 self 에 반드시 전달해야.\n",
    "# python 메서드의 첫번째 매개변수는 관례적으로 self를 사용\n",
    "# cf.java는 selt 매개변수를 사용하지x \n",
    "#     >>> 실제로 값을 받아올 변수의 개수 = 메서드의 매개변수\n",
    "\n",
    "print(a.first) # 4\n",
    "print(a.second) # 8"
   ]
  },
  {
   "cell_type": "code",
   "execution_count": 7,
   "id": "later-harvest",
   "metadata": {},
   "outputs": [
    {
     "name": "stdout",
     "output_type": "stream",
     "text": [
      "<__main__.FourCal object at 0x0000027E6010C5E0>\n",
      "4\n",
      "16\n",
      "4\n",
      "2\n",
      "3\n",
      "7\n",
      "2741730961808\n",
      "2741730961744\n",
      "2741730961776\n",
      "2741730961904\n"
     ]
    }
   ],
   "source": [
    "class FourCal:\n",
    "    # 클래스 안에 구현된 함수 : 메서드\n",
    "    def setdata(self, first, second): \n",
    "        # self에는 setdata 메서드를 호출한 객체a가 자동으로 전달\n",
    "        self.first = first\n",
    "        self.second = second\n",
    "a = FourCal()\n",
    "print(a)\n",
    "\n",
    "a.first = 4 # self.first = 4 \n",
    "a.second = 16 # self.first = 2 \n",
    "print(a.first) # 4\n",
    "print(a.second) # 16\n",
    "# a.first >>> a객체에 객체변수 first가 생성되고 값 4가 저장.\n",
    "# a.second >>> a객체 <- 객체변수 second 생성, -> 값 16 저장.\n",
    "# 객체변수 : 해당 객체 고유의 값을 저장할 수 있는 공간\n",
    "\n",
    "s = FourCal()\n",
    "ss = FourCal()\n",
    "s.setdata(4,2)\n",
    "print(s.first) # 4\n",
    "print(s.second) # 2\n",
    "ss.setdata(3,7)\n",
    "print(ss.first) # 3\n",
    "print(ss.second) # 7\n",
    "print(id(s.first)) # 2741730961808\n",
    "print(id(s.second)) # 2741730961744\n",
    "print(id(ss.first)) # 2741730961776\n",
    "print(id(ss.second)) # 2741730961904\n",
    "# >>> 각각 다른 곳에 저장됨\n",
    "# >>> 클래스로 만든 객체의 객체변수는 다른 객체의 객체변수에 상관 없이 독립적인\n",
    "#     값을 유지한다.\n"
   ]
  },
  {
   "cell_type": "code",
   "execution_count": 8,
   "id": "recent-marking",
   "metadata": {},
   "outputs": [
    {
     "name": "stdout",
     "output_type": "stream",
     "text": [
      "6\n"
     ]
    }
   ],
   "source": [
    "# add 메서드 추가\n",
    "class FourCal:\n",
    "    def setdata(self, first, second):\n",
    "        self.first = first\n",
    "        self.second = second\n",
    "    def add(self):\n",
    "        result = self.first + self.second\n",
    "        return result\n",
    "    \n",
    "a = FourCal()\n",
    "a.setdata(4,2) # 6\n",
    "print(a.add()) # self.first + self.second\n"
   ]
  },
  {
   "cell_type": "code",
   "execution_count": 13,
   "id": "assigned-monroe",
   "metadata": {},
   "outputs": [
    {
     "name": "stdout",
     "output_type": "stream",
     "text": [
      "105\n",
      "95\n",
      "500\n",
      "20.0\n",
      "12\n",
      "8\n",
      "20\n",
      "5.0\n"
     ]
    }
   ],
   "source": [
    "# 사칙연산 클래스 만들기\n",
    "class FourCal:\n",
    "    def setdata(self, first, second):\n",
    "        self.first = first\n",
    "        self.second = second\n",
    "    def add(self):\n",
    "        result = self.first + self.second\n",
    "        return result\n",
    "    def sub(self):\n",
    "        result = self.first - self.second\n",
    "        return result\n",
    "    def mul(self):\n",
    "        result = self.first * self.second\n",
    "        return result\n",
    "    def div(self):\n",
    "        result = self.first / self.second\n",
    "        return result\n",
    "    \n",
    "a = FourCal()\n",
    "a.setdata(100,5)\n",
    "b = FourCal()\n",
    "b.setdata(10,2)\n",
    "print(a.add())\n",
    "print(a.sub())\n",
    "print(a.mul())\n",
    "print(a.div())\n",
    "print(b.add())\n",
    "print(b.sub())\n",
    "print(b.mul())\n",
    "print(b.div())"
   ]
  },
  {
   "cell_type": "code",
   "execution_count": null,
   "id": "identical-pierre",
   "metadata": {},
   "outputs": [],
   "source": []
  }
 ],
 "metadata": {
  "kernelspec": {
   "display_name": "Python 3",
   "language": "python",
   "name": "python3"
  },
  "language_info": {
   "codemirror_mode": {
    "name": "ipython",
    "version": 3
   },
   "file_extension": ".py",
   "mimetype": "text/x-python",
   "name": "python",
   "nbconvert_exporter": "python",
   "pygments_lexer": "ipython3",
   "version": "3.9.1"
  }
 },
 "nbformat": 4,
 "nbformat_minor": 5
}
