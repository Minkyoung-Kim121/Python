{
 "cells": [
  {
   "cell_type": "code",
   "execution_count": 1,
   "id": "minimal-romania",
   "metadata": {},
   "outputs": [
    {
     "name": "stdout",
     "output_type": "stream",
     "text": [
      "-f\n",
      "C:\\Users\\user\\AppData\\Roaming\\jupyter\\runtime\\kernel-ccaf4be8-5f51-4626-be1f-83eee4eeecb7.json\n"
     ]
    }
   ],
   "source": [
    "# 간단한 메모장 만들기\n",
    "import sys\n",
    "\n",
    "option = sys.argv[1] # 프로그램 실행 옵션 값\n",
    "memo = sys.argv[2] # 메모 내용\n",
    "\n",
    "print(option)\n",
    "print(memo)\n",
    "\n",
    "if option == '-a':\n",
    "    memo = sys.argv[2]\n",
    "    f = open('memo.txt', 'a')\n",
    "    f.write(memo)\n",
    "    f.write('\\n')\n",
    "    f.close()\n",
    "elif option == 'v':\n",
    "    f = open('memo.txt')\n",
    "    memo = f.read()\n",
    "    f.close()\n",
    "    print(memo)\n",
    "    # -a일때 파일 읽고 새로 쓰기\n",
    "    # -v일때 파일 읽어오기"
   ]
  },
  {
   "cell_type": "code",
   "execution_count": null,
   "id": "alert-theta",
   "metadata": {},
   "outputs": [],
   "source": [
    "# C:\\Users\\user\\PycharmProjects\\pythonProject\\test01>python ex.py -a \"Python is fun\"\n",
    "# -a\n",
    "# Python is fun\n",
    "\n",
    "# C:\\Users\\user\\PycharmProjects\\pythonProject\\test01>python ex.py -a \"Python is fun\"\n",
    "# -a\n",
    "# Python is fun\n",
    "\n",
    "# C:\\Users\\user\\PycharmProjects\\pythonProject\\test01>python ex.py -a \"I need python\"\n",
    "# -a\n",
    "# I need python"
   ]
  },
  {
   "cell_type": "code",
   "execution_count": null,
   "id": "combined-auckland",
   "metadata": {},
   "outputs": [],
   "source": [
    "# memo.txt\n",
    "# Python is fun\n",
    "# I need python\n",
    "# >>> 새로운 내용을 입력할 때마다 한 줄 씩 추가된다.\n"
   ]
  }
 ],
 "metadata": {
  "kernelspec": {
   "display_name": "Python 3",
   "language": "python",
   "name": "python3"
  },
  "language_info": {
   "codemirror_mode": {
    "name": "ipython",
    "version": 3
   },
   "file_extension": ".py",
   "mimetype": "text/x-python",
   "name": "python",
   "nbconvert_exporter": "python",
   "pygments_lexer": "ipython3",
   "version": "3.9.1"
  }
 },
 "nbformat": 4,
 "nbformat_minor": 5
}
