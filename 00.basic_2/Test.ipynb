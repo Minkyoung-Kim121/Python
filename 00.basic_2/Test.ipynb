{
 "cells": [
  {
   "cell_type": "code",
   "execution_count": 20,
   "id": "shared-irrigation",
   "metadata": {},
   "outputs": [
    {
     "name": "stdout",
     "output_type": "stream",
     "text": [
      "['a', 'b', 'c', 'd']\n",
      "a,b,c,d\n"
     ]
    }
   ],
   "source": [
    "# 1. 문자열 바꾸기\n",
    "a = \"a:b:c:d\"\n",
    "b = a.split(':')\n",
    "print(b)\n",
    "c = ','.join(b)\n",
    "print(c)"
   ]
  },
  {
   "cell_type": "code",
   "execution_count": 23,
   "id": "floral-parcel",
   "metadata": {},
   "outputs": [
    {
     "name": "stdout",
     "output_type": "stream",
     "text": [
      "70\n"
     ]
    }
   ],
   "source": [
    "# 2. 딕셔너리 값 추출\n",
    "a = {'A':90, 'B':80}\n",
    "try:\n",
    "    a['C']\n",
    "except:\n",
    "    print('70')"
   ]
  },
  {
   "cell_type": "code",
   "execution_count": 22,
   "id": "indirect-bouquet",
   "metadata": {},
   "outputs": [
    {
     "name": "stdout",
     "output_type": "stream",
     "text": [
      "70\n"
     ]
    }
   ],
   "source": [
    "# 2-1. 딕셔너리 값 추출\n",
    "a = {'A':90, 'B':80}\n",
    "print(a.get('C',70))\n"
   ]
  },
  {
   "cell_type": "code",
   "execution_count": 27,
   "id": "arabic-paris",
   "metadata": {},
   "outputs": [
    {
     "name": "stdout",
     "output_type": "stream",
     "text": [
      "1920104213632\n",
      "[1, 2, 3, 4, 5]\n",
      "1920104214336\n",
      "[1, 2, 3, 4, 5]\n",
      "1920104213632\n"
     ]
    }
   ],
   "source": [
    "# 3. 리스트의 더하기\n",
    "a = [1,2,3]\n",
    "print(id(a)) # 1920104213632\n",
    "b = a + [4,5]\n",
    "print(b)\n",
    "print(id(b)) # 1920104214336\n",
    "# >>> a와 b는 완전히 다름. \n",
    "# a에 [4,5]를 붙여서 새로운 성질의 b를 만듦\n",
    "\n",
    "a.extend([4,5])\n",
    "print(a)\n",
    "print(id(a)) # 1920104213632\n",
    "# >>> .extend()함수를 사용하여 a리스트의 끝에 [4,5]를 덧붙임(확장)\n"
   ]
  },
  {
   "cell_type": "code",
   "execution_count": 37,
   "id": "worthy-flavor",
   "metadata": {},
   "outputs": [
    {
     "name": "stdout",
     "output_type": "stream",
     "text": [
      "481\n"
     ]
    }
   ],
   "source": [
    "# 4. 리스트 50점 이상 총합 구하기\n",
    "a = [20,55,67,82,45,33,90,87,100,25]\n",
    "sum = 0\n",
    "while a:\n",
    "    p = a.pop() # pop() : 리스트의 맨 마지막 값을 돌려주고 해당 요소는 삭제.\n",
    "    if p >= 50:\n",
    "        sum += p\n",
    "print(sum)"
   ]
  },
  {
   "cell_type": "code",
   "execution_count": 50,
   "id": "complimentary-naples",
   "metadata": {},
   "outputs": [
    {
     "name": "stdout",
     "output_type": "stream",
     "text": [
      "2이상의 정수 입력: 10\n",
      "0\n",
      "1\n",
      "1\n",
      "2\n",
      "3\n",
      "5\n",
      "8\n",
      "13\n",
      "21\n",
      "34\n"
     ]
    }
   ],
   "source": [
    "# 5. 피보나치 함수\n",
    "def a(n):\n",
    "    if n == 0:\n",
    "        return 0\n",
    "    if n == 1:\n",
    "        return 1\n",
    "    return a(n-2) + a(n-1)\n",
    "r = int(input(\"2이상의 정수 입력: \"))\n",
    "for i in range(r):\n",
    "    print(a(i))"
   ]
  },
  {
   "cell_type": "code",
   "execution_count": 54,
   "id": "republican-typing",
   "metadata": {},
   "outputs": [
    {
     "name": "stdout",
     "output_type": "stream",
     "text": [
      "콤마로 구분된 숫자 6개 입력: 1,2,3,4,5,6\n",
      "21\n"
     ]
    }
   ],
   "source": [
    "# 6. 숫자 총합 구하기\n",
    "a,b,c,d,e,f = input(\"콤마로 구분된 숫자 6개 입력: \").split(',')\n",
    "a = int(a)\n",
    "b = int(b)\n",
    "c = int(c)\n",
    "d = int(d)\n",
    "e = int(e)\n",
    "f = int(f)\n",
    "print(a+b+c+d+e+f)"
   ]
  },
  {
   "cell_type": "code",
   "execution_count": 57,
   "id": "sensitive-walnut",
   "metadata": {},
   "outputs": [
    {
     "name": "stdout",
     "output_type": "stream",
     "text": [
      "콤마구분한 숫자 입력: 1,2,3,4,5,6\n",
      "21\n"
     ]
    }
   ],
   "source": [
    "# 6-1. 숫자 총합 구하기\n",
    "n = input(\"콤마 구분한 숫자 입력: \")\n",
    "n1 = n.split(\",\")\n",
    "sum = 0\n",
    "for i in n1:\n",
    "    sum += int(i)\n",
    "print(sum)\n",
    "    "
   ]
  },
  {
   "cell_type": "code",
   "execution_count": 59,
   "id": "checked-occupation",
   "metadata": {},
   "outputs": [
    {
     "name": "stdout",
     "output_type": "stream",
     "text": [
      "number: 2\n",
      "2 * 1 = 2\n",
      "2 * 2 = 4\n",
      "2 * 3 = 6\n",
      "2 * 4 = 8\n",
      "2 * 5 = 10\n",
      "2 * 6 = 12\n",
      "2 * 7 = 14\n",
      "2 * 8 = 16\n",
      "2 * 9 = 18\n"
     ]
    }
   ],
   "source": [
    "# 7. 구구단 출력하기\n",
    "a = int(input(\"number: \"))\n",
    "for i in range(1, 10, 1):\n",
    "    print(a, \"*\", i, \"=\", a*i)"
   ]
  },
  {
   "cell_type": "code",
   "execution_count": 60,
   "id": "wooden-discount",
   "metadata": {},
   "outputs": [
    {
     "ename": "FileNotFoundError",
     "evalue": "[Errno 2] No such file or directory: 'abc.txt'",
     "output_type": "error",
     "traceback": [
      "\u001b[1;31m---------------------------------------------------------------------------\u001b[0m",
      "\u001b[1;31mFileNotFoundError\u001b[0m                         Traceback (most recent call last)",
      "\u001b[1;32m<ipython-input-60-91b1af551d61>\u001b[0m in \u001b[0;36m<module>\u001b[1;34m\u001b[0m\n\u001b[0;32m      1\u001b[0m \u001b[1;31m# 8. 파일 저장\u001b[0m\u001b[1;33m\u001b[0m\u001b[1;33m\u001b[0m\u001b[1;33m\u001b[0m\u001b[0m\n\u001b[1;32m----> 2\u001b[1;33m \u001b[0mf\u001b[0m \u001b[1;33m=\u001b[0m \u001b[0mopen\u001b[0m\u001b[1;33m(\u001b[0m\u001b[1;34m'abc.txt'\u001b[0m\u001b[1;33m,\u001b[0m \u001b[1;34m'r'\u001b[0m\u001b[1;33m)\u001b[0m\u001b[1;33m\u001b[0m\u001b[1;33m\u001b[0m\u001b[0m\n\u001b[0m\u001b[0;32m      3\u001b[0m \u001b[0ma\u001b[0m \u001b[1;33m=\u001b[0m \u001b[0mf\u001b[0m\u001b[1;33m.\u001b[0m\u001b[0mreadlines\u001b[0m\u001b[1;33m(\u001b[0m\u001b[1;33m)\u001b[0m\u001b[1;33m\u001b[0m\u001b[1;33m\u001b[0m\u001b[0m\n\u001b[0;32m      4\u001b[0m \u001b[0mf\u001b[0m\u001b[1;33m.\u001b[0m\u001b[0mclose\u001b[0m\u001b[1;33m(\u001b[0m\u001b[1;33m)\u001b[0m\u001b[1;33m\u001b[0m\u001b[1;33m\u001b[0m\u001b[0m\n\u001b[0;32m      5\u001b[0m \u001b[0ma\u001b[0m\u001b[1;33m.\u001b[0m\u001b[0mreverse\u001b[0m\u001b[1;33m(\u001b[0m\u001b[1;33m)\u001b[0m\u001b[1;33m\u001b[0m\u001b[1;33m\u001b[0m\u001b[0m\n",
      "\u001b[1;31mFileNotFoundError\u001b[0m: [Errno 2] No such file or directory: 'abc.txt'"
     ]
    }
   ],
   "source": [
    "# 8. 파일 저장\n",
    "# a.b.c.txt\n",
    "# AAA\n",
    "# BBB\n",
    "# CCC\n",
    "# DDD\n",
    "# EEE\n",
    "\n",
    "f = open('abc.txt', 'r')\n",
    "a = f.readlines()\n",
    "f.close()\n",
    "a.reverse()\n",
    "f = open('abc.txt', 'w')\n",
    "for line in a:\n",
    "    line = line.strip()\n",
    "    f.write(line)\n",
    "    f.write(\"\\n\")\n",
    "f.close()\n",
    "\n",
    "# a.b.c.txt\n",
    "# EEE\n",
    "# DDD\n",
    "# CCC\n",
    "# BBB\n",
    "# AAA\n"
   ]
  },
  {
   "cell_type": "code",
   "execution_count": 9,
   "id": "headed-wilderness",
   "metadata": {},
   "outputs": [],
   "source": [
    "# 9. 평균값 구하기\n",
    "# sample.txt\n",
    "# 70\n",
    "# 160\n",
    "# 155\n",
    "# 175\n",
    "# 195\n",
    "# 190\n",
    "# 180\n",
    "# 180\n",
    "# 185\n",
    "# 100\n",
    "\n",
    "f = open('sample.txt', 'r')\n",
    "lines = f.readlines()\n",
    "f.close()\n",
    "\n",
    "total = 0\n",
    "for line in lines:\n",
    "    score = int(line)\n",
    "    total += score\n",
    "aver = total / len(lines)\n",
    "f = open('result.txt', 'w')\n",
    "f.write(str(aver))\n",
    "f.close()\n",
    "\n",
    "# result.txt\n",
    "# 79.0"
   ]
  },
  {
   "cell_type": "code",
   "execution_count": 64,
   "id": "metallic-bermuda",
   "metadata": {},
   "outputs": [
    {
     "name": "stdout",
     "output_type": "stream",
     "text": [
      "15\n",
      "3.0\n",
      "40\n",
      "8.0\n"
     ]
    }
   ],
   "source": [
    "# 10. 사칙연산 계산기\n",
    "class Calculator:\n",
    "    def __init__(self, numberlist):\n",
    "        self.numberlist = numberlist # >>> 생성자로 클래스 메모리 올리기\n",
    "    def sum(self):\n",
    "        result = 0\n",
    "        for num in self.numberlist:\n",
    "            result += num\n",
    "        return result\n",
    "    def avg(self):\n",
    "        result1 = self.sum()\n",
    "        return result1 / len(self.numberlist)\n",
    "\n",
    "cal1 = Calculator([1,2,3,4,5])\n",
    "print(cal1.sum())\n",
    "print(cal1.avg())\n",
    "\n",
    "cal2 = Calculator([6,7,8,9,10])\n",
    "print(cal2.sum())\n",
    "print(cal2.avg())\n"
   ]
  },
  {
   "cell_type": "code",
   "execution_count": 11,
   "id": "industrial-reunion",
   "metadata": {},
   "outputs": [],
   "source": [
    "# 11. 모듈 사용\n",
    "# import 불러올 모듈.확장자"
   ]
  },
  {
   "cell_type": "code",
   "execution_count": 66,
   "id": "gothic-reference",
   "metadata": {},
   "outputs": [
    {
     "name": "stdout",
     "output_type": "stream",
     "text": [
      "7\n"
     ]
    }
   ],
   "source": [
    "# 12. 오류와 예외처리\n",
    "result = 0 # result시작은 0부터 시작\n",
    "try:\n",
    "    [1,2,3][3]\n",
    "    \"a\" + 1\n",
    "    4 / 0\n",
    "except TypeError: \n",
    "    result += 1\n",
    "except ZeroDivisionError:\n",
    "    result += 2 \n",
    "except IndexError: # 리스트의 인덱스가 맞지 않아 해당 구문 실행\n",
    "    result += 3 # 3이 되고\n",
    "finally:\n",
    "    result += 4 # 마지막으로 해당 구문이 실행되기때문에 >>> 3+4\n",
    "    \n",
    "print(result)"
   ]
  },
  {
   "cell_type": "code",
   "execution_count": 68,
   "id": "atlantic-houston",
   "metadata": {},
   "outputs": [
    {
     "name": "stdout",
     "output_type": "stream",
     "text": [
      "숫자여러개입력 : 456487451\n",
      "456*4*8745-1\n"
     ]
    }
   ],
   "source": [
    "# 13. 함수 완성\n",
    "data = str(input(\"숫자여러개입력 : \"))\n",
    "\n",
    "numbers = list(map(int, data)) # str -> list\n",
    "result = []\n",
    "for i, num in enumerate(numbers):\n",
    "    result.append(str(num))\n",
    "    if i < len(numbers)-1: # 다음 수가 있다면 (맨 끝)\n",
    "        is_odd = num % 2 == 1 # 현재 수가 홀수\n",
    "        is_next_odd = numbers[i+1]%2 == 1 # 다음수가 홀수\n",
    "        if is_odd and is_next_odd:\n",
    "            result.append(\"-\")\n",
    "        elif not is_odd and not is_next_odd: # 현재수와 다음수가 홀수x\n",
    "            result.append(\"*\")\n",
    "\n",
    "print(\"\".join(result))"
   ]
  },
  {
   "cell_type": "code",
   "execution_count": 70,
   "id": "separated-worry",
   "metadata": {},
   "outputs": [
    {
     "ename": "AttributeError",
     "evalue": "'int' object has no attribute 'append'",
     "output_type": "error",
     "traceback": [
      "\u001b[1;31m---------------------------------------------------------------------------\u001b[0m",
      "\u001b[1;31mAttributeError\u001b[0m                            Traceback (most recent call last)",
      "\u001b[1;32m<ipython-input-70-e926ae5ffc3e>\u001b[0m in \u001b[0;36m<module>\u001b[1;34m\u001b[0m\n\u001b[0;32m      4\u001b[0m \u001b[0mresult\u001b[0m \u001b[1;33m=\u001b[0m \u001b[1;33m[\u001b[0m\u001b[1;33m]\u001b[0m\u001b[1;33m\u001b[0m\u001b[1;33m\u001b[0m\u001b[0m\n\u001b[0;32m      5\u001b[0m \u001b[1;32mfor\u001b[0m \u001b[0mi\u001b[0m\u001b[1;33m,\u001b[0m \u001b[0mnum\u001b[0m \u001b[1;32min\u001b[0m \u001b[0menumerate\u001b[0m\u001b[1;33m(\u001b[0m\u001b[0mnumbers\u001b[0m\u001b[1;33m)\u001b[0m\u001b[1;33m:\u001b[0m\u001b[1;33m\u001b[0m\u001b[1;33m\u001b[0m\u001b[0m\n\u001b[1;32m----> 6\u001b[1;33m     \u001b[0mresult\u001b[0m\u001b[1;33m.\u001b[0m\u001b[0mappend\u001b[0m\u001b[1;33m(\u001b[0m\u001b[0mstr\u001b[0m\u001b[1;33m(\u001b[0m\u001b[0mnum\u001b[0m\u001b[1;33m)\u001b[0m\u001b[1;33m)\u001b[0m\u001b[1;33m\u001b[0m\u001b[1;33m\u001b[0m\u001b[0m\n\u001b[0m\u001b[0;32m      7\u001b[0m     \u001b[1;32mif\u001b[0m \u001b[0mi\u001b[0m \u001b[1;33m<\u001b[0m \u001b[0mlen\u001b[0m\u001b[1;33m(\u001b[0m\u001b[0mnumbers\u001b[0m\u001b[1;33m)\u001b[0m\u001b[1;33m-\u001b[0m\u001b[1;36m1\u001b[0m\u001b[1;33m:\u001b[0m\u001b[1;33m\u001b[0m\u001b[1;33m\u001b[0m\u001b[0m\n\u001b[0;32m      8\u001b[0m         \u001b[0mis_odd\u001b[0m \u001b[1;33m=\u001b[0m \u001b[0mnum\u001b[0m\u001b[1;33m\u001b[0m\u001b[1;33m\u001b[0m\u001b[0m\n",
      "\u001b[1;31mAttributeError\u001b[0m: 'int' object has no attribute 'append'"
     ]
    }
   ],
   "source": [
    "# 14. 문자열 압축\n",
    "data = \"aaabbbccccca\"\n",
    "numbers = list(map(str, data))\n",
    "result = []\n",
    "for i, num in enumerate(numbers):\n",
    "    result.append(str(num))\n",
    "    if i < len(numbers)-1:\n",
    "        is_odd = num\n",
    "        is_next_odd = numbers[i+1]\n",
    "        if is_odd == is_next_odd:\n",
    "            result = len(num)\n",
    "        elif not is_odd and not is_next_odd:\n",
    "            result = append(\"*\")\n",
    "print(result)"
   ]
  },
  {
   "cell_type": "code",
   "execution_count": 15,
   "id": "spectacular-spice",
   "metadata": {},
   "outputs": [],
   "source": [
    "# 15. 함수 작성"
   ]
  },
  {
   "cell_type": "code",
   "execution_count": 16,
   "id": "developed-appreciation",
   "metadata": {},
   "outputs": [],
   "source": [
    "# 16. 모스 부호 출력"
   ]
  },
  {
   "cell_type": "code",
   "execution_count": 17,
   "id": "alert-bangkok",
   "metadata": {},
   "outputs": [],
   "source": [
    "# 17. 정규식과 매치되는 문자열은>"
   ]
  },
  {
   "cell_type": "code",
   "execution_count": 18,
   "id": "integral-robin",
   "metadata": {},
   "outputs": [],
   "source": [
    "# 18. 문자열 검색"
   ]
  },
  {
   "cell_type": "code",
   "execution_count": 19,
   "id": "broadband-optics",
   "metadata": {},
   "outputs": [],
   "source": [
    "# 19. 그루핑"
   ]
  },
  {
   "cell_type": "code",
   "execution_count": null,
   "id": "mineral-edmonton",
   "metadata": {},
   "outputs": [],
   "source": [
    "# 20. 정규식 작성"
   ]
  }
 ],
 "metadata": {
  "kernelspec": {
   "display_name": "Python 3",
   "language": "python",
   "name": "python3"
  },
  "language_info": {
   "codemirror_mode": {
    "name": "ipython",
    "version": 3
   },
   "file_extension": ".py",
   "mimetype": "text/x-python",
   "name": "python",
   "nbconvert_exporter": "python",
   "pygments_lexer": "ipython3",
   "version": "3.9.1"
  }
 },
 "nbformat": 4,
 "nbformat_minor": 5
}
