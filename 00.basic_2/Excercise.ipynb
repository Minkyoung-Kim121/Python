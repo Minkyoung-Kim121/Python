{
 "cells": [
  {
   "cell_type": "code",
   "execution_count": 25,
   "id": "indian-craft",
   "metadata": {},
   "outputs": [
    {
     "name": "stdout",
     "output_type": "stream",
     "text": [
      "3\n"
     ]
    }
   ],
   "source": [
    "# Excercise\n",
    "# 1. 상속 클래스를 만들고 메서드를 추가해보자\n",
    "class Calculator:\n",
    "    def __init__(self):\n",
    "        self.value = 0\n",
    "    def add(self, val):\n",
    "        self.value += val\n",
    "\n",
    "class UpgradeCalculator(Calculator):\n",
    "    def minus(self, val):\n",
    "        self.value -= val\n",
    "        \n",
    "cal = UpgradeCalculator()\n",
    "cal.add(10)\n",
    "cal.minus(7)\n",
    "print(cal.value)\n"
   ]
  },
  {
   "cell_type": "code",
   "execution_count": 31,
   "id": "random-marathon",
   "metadata": {},
   "outputs": [
    {
     "name": "stdout",
     "output_type": "stream",
     "text": [
      "100\n"
     ]
    }
   ],
   "source": [
    "# 2. 객체변수 value가 100이상의 값을 가지지 못하도록 제한하는 클래스를 생성.\n",
    "class Calculator:\n",
    "    def __init__(self):\n",
    "        self.value = 0\n",
    "    def add(self, val):\n",
    "        self.value += val\n",
    "        \n",
    "class MaxLimitCalculator(Calculator):\n",
    "    def add(self, val):\n",
    "        self.value += val\n",
    "        if self.value > 100:\n",
    "            self.value = 100\n",
    "    \n",
    "cal = MaxLimitCalculator()\n",
    "cal.add(50)\n",
    "cal.add(60)\n",
    "print(cal.value)"
   ]
  },
  {
   "cell_type": "code",
   "execution_count": 37,
   "id": "administrative-instrumentation",
   "metadata": {},
   "outputs": [
    {
     "name": "stdout",
     "output_type": "stream",
     "text": [
      "False\n",
      "True\n",
      "97\n",
      "a\n"
     ]
    }
   ],
   "source": [
    "# 3. 결과를 출력하시오\n",
    "print(all([1,2,abs(-3)-3])) # True\n",
    "# abs(-3) : 3 이기 때문에 [1,2,3-3] -> [1,2,0]이 됨\n",
    "# all : 숫자 0이 있기 때문에 모두참이 x -> False 출력\n",
    "print(chr(ord('a')) == 'a') # True\n",
    "print(ord('a')) # 97\n",
    "print(chr(97)) # a"
   ]
  },
  {
   "cell_type": "code",
   "execution_count": 19,
   "id": "rising-stable",
   "metadata": {},
   "outputs": [
    {
     "name": "stdout",
     "output_type": "stream",
     "text": [
      "[1, 3, 8]\n"
     ]
    }
   ],
   "source": [
    "# 4. filter와 lambda를 사용해서 음수 제거하기\n",
    "\n",
    "a = [1, -2, 3, -5, 8, -3]\n",
    "b = list(filter(lambda x: x>0, a))\n",
    "print(b) "
   ]
  },
  {
   "cell_type": "code",
   "execution_count": 43,
   "id": "specific-function",
   "metadata": {},
   "outputs": [
    {
     "name": "stdout",
     "output_type": "stream",
     "text": [
      "0xea\n",
      "234\n"
     ]
    }
   ],
   "source": [
    "# 5. 16진수 문자열 0xea를 10진수로 변경\n",
    "print(hex(234)) # 0xea\n",
    "print(int('0xea', 16)) # 234"
   ]
  },
  {
   "cell_type": "code",
   "execution_count": 22,
   "id": "local-windows",
   "metadata": {},
   "outputs": [
    {
     "name": "stdout",
     "output_type": "stream",
     "text": [
      "[3, 6, 9, 12]\n"
     ]
    }
   ],
   "source": [
    "# 6. map 과 lambda를 사용해 [1,2,3,4] 의 각 요솟값에 3이 곱해진 리스트를 생성.\n",
    "a = [1,2,3,4]\n",
    "b = list(map(lambda x: x*3, a))\n",
    "print(b)"
   ]
  },
  {
   "cell_type": "code",
   "execution_count": 16,
   "id": "studied-thinking",
   "metadata": {},
   "outputs": [
    {
     "name": "stdout",
     "output_type": "stream",
     "text": [
      "-1\n"
     ]
    }
   ],
   "source": [
    "# 7. 다음 리스트의 최댓갑과 최솟값의 합을 구하자\n",
    "a = [-8,2,7,5,-3,5,0,1]\n",
    "print(max(a)+min(a))"
   ]
  },
  {
   "cell_type": "code",
   "execution_count": 17,
   "id": "psychological-wisdom",
   "metadata": {},
   "outputs": [
    {
     "name": "stdout",
     "output_type": "stream",
     "text": [
      "5.6667\n"
     ]
    }
   ],
   "source": [
    "# 8. 소숫점 4자리 반올림\n",
    "a = 17/3\n",
    "print(round(a,4))"
   ]
  },
  {
   "cell_type": "code",
   "execution_count": 49,
   "id": "olympic-friend",
   "metadata": {},
   "outputs": [
    {
     "name": "stdout",
     "output_type": "stream",
     "text": [
      "2021/01/26 16:04:55\n"
     ]
    }
   ],
   "source": [
    "# 9. time 모듈 사용\n",
    "import time\n",
    "\n",
    "print(time.strftime(\"%Y/%m/%d %H:%M:%S\")) # '2021/01/26 16:03:04'"
   ]
  },
  {
   "cell_type": "code",
   "execution_count": null,
   "id": "therapeutic-oakland",
   "metadata": {},
   "outputs": [],
   "source": []
  }
 ],
 "metadata": {
  "kernelspec": {
   "display_name": "Python 3",
   "language": "python",
   "name": "python3"
  },
  "language_info": {
   "codemirror_mode": {
    "name": "ipython",
    "version": 3
   },
   "file_extension": ".py",
   "mimetype": "text/x-python",
   "name": "python",
   "nbconvert_exporter": "python",
   "pygments_lexer": "ipython3",
   "version": "3.9.1"
  }
 },
 "nbformat": 4,
 "nbformat_minor": 5
}
