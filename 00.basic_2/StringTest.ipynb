{
 "cells": [
  {
   "cell_type": "code",
   "execution_count": 3,
   "id": "general-shirt",
   "metadata": {},
   "outputs": [
    {
     "name": "stdout",
     "output_type": "stream",
     "text": [
      "Life is short, You need Python\n"
     ]
    }
   ],
   "source": [
    "#문자열(String) 사용법 StringTest.py\n",
    "\n",
    "# 1. 큰 따옴표로 묶기\n",
    "a = \"Life is short, You need Python\"\n",
    "print(a)\n",
    "#Life is short, You need Python 출력"
   ]
  },
  {
   "cell_type": "code",
   "execution_count": 4,
   "id": "concerned-print",
   "metadata": {},
   "outputs": [
    {
     "name": "stdout",
     "output_type": "stream",
     "text": [
      "Life is short, You need Python\n"
     ]
    }
   ],
   "source": [
    "# 2. 작은 따옴표로 묶기\n",
    "b = 'Life is short, You need Python'\n",
    "print(b)\n",
    "#Life is short, You need Python 출력"
   ]
  },
  {
   "cell_type": "code",
   "execution_count": 5,
   "id": "occupied-accuracy",
   "metadata": {},
   "outputs": [
    {
     "name": "stdout",
     "output_type": "stream",
     "text": [
      "I'm not Java but Python\n",
      "\"I need Python.\" she said\n"
     ]
    }
   ],
   "source": [
    "# 3. 큰 따옴표, 작은 따옴표 둘 다 사용 가능\n",
    "c = \"I'm not Java but Python\"\n",
    "print(c)\n",
    "#I'm not Java but Python 출력\n",
    "d = '\"I need Python.\" she said'\n",
    "print(d)\n",
    "#\"I need Python.\" she said 출력\n"
   ]
  },
  {
   "cell_type": "code",
   "execution_count": 6,
   "id": "basic-poker",
   "metadata": {},
   "outputs": [
    {
     "name": "stdout",
     "output_type": "stream",
     "text": [
      "Python's favorite food is perl\n",
      "\"Python's daughter is you.\" he said\n"
     ]
    }
   ],
   "source": [
    "# 4. 백 슬래쉬 사용\n",
    "e = 'Python\\'s favorite food is perl'\n",
    "print(e)\n",
    "#Python's favorite food is perl 출력\n",
    "\n",
    "f = \"\\\"Python's daughter is you.\\\" he said\"\n",
    "print(f)\n",
    "#\"Python's daughter is you.\" he said 출력\n",
    "\n",
    "# 큰 따옴표 또는 작은 따옴표 앞에 백슬래쉬를 사용하면 문자열로 인식x"
   ]
  },
  {
   "cell_type": "code",
   "execution_count": 9,
   "id": "thousand-bookmark",
   "metadata": {},
   "outputs": [
    {
     "name": "stdout",
     "output_type": "stream",
     "text": [
      "Life is too short\n",
      " You need Python\n"
     ]
    },
    {
     "data": {
      "text/plain": [
       "'\\nLife is too short\\n You need Python 출력\\n'"
      ]
     },
     "execution_count": 9,
     "metadata": {},
     "output_type": "execute_result"
    }
   ],
   "source": [
    "# 5. 문자열 여러줄 처리\n",
    "aa = \"Life is too short\\n You need Python\"\n",
    "print(aa)\n",
    "\"\"\"\n",
    "Life is too short\n",
    " You need Python 출력\n",
    "\"\"\"\n",
    "# \\n 사용하면 한 줄 띄운다."
   ]
  },
  {
   "cell_type": "code",
   "execution_count": 8,
   "id": "fleet-texas",
   "metadata": {},
   "outputs": [
    {
     "name": "stdout",
     "output_type": "stream",
     "text": [
      "Life is too short\n",
      "I need python\n",
      "you also need python\n",
      "Life is too shooooort\n",
      "so I start to learn python\n"
     ]
    }
   ],
   "source": [
    "# 5-1. 문자열 여러줄 처리\n",
    "aaa = \"\"\"Life is too short\n",
    "I need python\n",
    "you also need python\"\"\"\n",
    "print(aaa)\n",
    "bbb = '''Life is too shooooort\n",
    "so I start to learn python'''\n",
    "print(bbb)\n",
    "# 큰따옴표 3개 또는 작은 따옴표 3개 사용"
   ]
  },
  {
   "cell_type": "code",
   "execution_count": null,
   "id": "incorrect-links",
   "metadata": {},
   "outputs": [],
   "source": []
  }
 ],
 "metadata": {
  "kernelspec": {
   "display_name": "Python 3",
   "language": "python",
   "name": "python3"
  },
  "language_info": {
   "codemirror_mode": {
    "name": "ipython",
    "version": 3
   },
   "file_extension": ".py",
   "mimetype": "text/x-python",
   "name": "python",
   "nbconvert_exporter": "python",
   "pygments_lexer": "ipython3",
   "version": "3.9.1"
  }
 },
 "nbformat": 4,
 "nbformat_minor": 5
}
