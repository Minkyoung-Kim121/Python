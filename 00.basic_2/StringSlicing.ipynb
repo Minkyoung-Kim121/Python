{
 "cells": [
  {
   "cell_type": "code",
   "execution_count": 1,
   "id": "certified-oakland",
   "metadata": {},
   "outputs": [
    {
     "name": "stdout",
     "output_type": "stream",
     "text": [
      "20210112Snow\n",
      "2021\n",
      "01\n",
      "12\n",
      "Snow\n"
     ]
    }
   ],
   "source": [
    "# slicing StringSlicing.py\n",
    "\n",
    "# 슬라이싱 예제\n",
    "ex = \"20210112Snow\"\n",
    "year = ex[:4]\n",
    "month = ex[4:6]\n",
    "day = ex[6:8]\n",
    "weather = ex[8:]\n",
    "print(ex)\n",
    "print(year)\n",
    "print(month)\n",
    "print(day)\n",
    "print(weather)"
   ]
  },
  {
   "cell_type": "code",
   "execution_count": 2,
   "id": "usual-orlando",
   "metadata": {},
   "outputs": [
    {
     "name": "stdout",
     "output_type": "stream",
     "text": [
      "i\n",
      "Python\n"
     ]
    }
   ],
   "source": [
    "# 슬라이싱 예제 2\n",
    "a = \"Pithon\"\n",
    "a1 = a[1]\n",
    "print(a1)\n",
    "print(a[0] + \"y\" + a[2:])"
   ]
  },
  {
   "cell_type": "code",
   "execution_count": null,
   "id": "specialized-liver",
   "metadata": {},
   "outputs": [],
   "source": []
  }
 ],
 "metadata": {
  "kernelspec": {
   "display_name": "Python 3",
   "language": "python",
   "name": "python3"
  },
  "language_info": {
   "codemirror_mode": {
    "name": "ipython",
    "version": 3
   },
   "file_extension": ".py",
   "mimetype": "text/x-python",
   "name": "python",
   "nbconvert_exporter": "python",
   "pygments_lexer": "ipython3",
   "version": "3.9.1"
  }
 },
 "nbformat": 4,
 "nbformat_minor": 5
}
