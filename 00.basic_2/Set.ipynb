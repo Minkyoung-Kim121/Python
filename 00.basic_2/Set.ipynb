{
 "cells": [
  {
   "cell_type": "code",
   "execution_count": 1,
   "id": "neither-brief",
   "metadata": {},
   "outputs": [
    {
     "name": "stdout",
     "output_type": "stream",
     "text": [
      "set()\n",
      "{1, 2, 3}\n",
      "{'o', 'e', 'l', 'H'}\n"
     ]
    }
   ],
   "source": [
    "# 집합 자료형 Set.py\n",
    "\n",
    "# 집합은 파이썬 2.3부터 지원하기 시작.\n",
    "# 집합 자료형은 중복 허용x ->  중복 제거 필터로 사용 가능.\n",
    "#               순서x -> 튜플/리스트로 변환 후 인덱싱해야한다.\n",
    "\n",
    "s = set()\n",
    "print(s) # set() >>> 비어있는 집합 자료형\n",
    "s1 = set([1,2,3])\n",
    "print(s1)\n",
    "s2 = set(\"Hello\")\n",
    "print(s2) # {'l', 'H', 'e', 'o'} >>> 순차가 없기에 랜덤으로 계속 바껴서 나옴."
   ]
  },
  {
   "cell_type": "code",
   "execution_count": 2,
   "id": "devoted-projector",
   "metadata": {},
   "outputs": [
    {
     "name": "stdout",
     "output_type": "stream",
     "text": [
      "{'4', '3', '1', '2'}\n",
      "['4', '3', '1', '2']\n",
      "('4', '3', '1', '2')\n",
      "['4', '3', '1']\n",
      "2\n"
     ]
    }
   ],
   "source": [
    "# 변환 후 인덱싱\n",
    "s3 = set('1234')\n",
    "print(s3) # {'3', '2', '1', '4'}\n",
    "li = list(s3) # 리스트로 변환\n",
    "print(li) # ['3', '2', '1', '4']\n",
    "tu = tuple(s3) # 튜플로 변환\n",
    "print(tu) # ('3', '2', '1', '4') \n",
    "# >>> s3의 출력결과에 따라 반환됨(위의 2개와 같이 순서 바뀜)\n",
    "\n",
    "print(li[0:3]) #  ['3', '4', '1']\n",
    "print(tu[-1]) # 2"
   ]
  },
  {
   "cell_type": "code",
   "execution_count": 3,
   "id": "painful-oasis",
   "metadata": {},
   "outputs": [
    {
     "name": "stdout",
     "output_type": "stream",
     "text": [
      "{1, 2, 3, 4, 5, 6}\n",
      "{4, 5, 6, 7, 8, 9, 10}\n",
      "{4, 5, 6}\n",
      "{4, 5, 6}\n"
     ]
    }
   ],
   "source": [
    "# 교집합\n",
    "ss1 = set([1,2,3,4,5,6])\n",
    "print(ss1)\n",
    "ss2 = set([4,5,6,7,8,9,10])\n",
    "print(ss2)\n",
    "\n",
    "print(ss1&ss2) # {4, 5, 6}\n",
    "print(ss1.intersection(ss2)) # {4, 5, 6}"
   ]
  },
  {
   "cell_type": "code",
   "execution_count": 4,
   "id": "split-municipality",
   "metadata": {},
   "outputs": [
    {
     "name": "stdout",
     "output_type": "stream",
     "text": [
      "{1, 2, 3, 4, 5, 6, 7, 8, 9, 10}\n",
      "{1, 2, 3, 4, 5, 6, 7, 8, 9, 10}\n"
     ]
    }
   ],
   "source": [
    "# 합집합\n",
    "print(ss1 | ss2) # {1, 2, 3, 4, 5, 6, 7, 8, 9, 10}\n",
    "print(ss1.union(ss2)) # {1, 2, 3, 4, 5, 6, 7, 8, 9, 10}"
   ]
  },
  {
   "cell_type": "code",
   "execution_count": 5,
   "id": "russian-regression",
   "metadata": {},
   "outputs": [
    {
     "name": "stdout",
     "output_type": "stream",
     "text": [
      "{1, 2, 3}\n",
      "{1, 2, 3}\n",
      "{8, 9, 10, 7}\n"
     ]
    }
   ],
   "source": [
    "# 차집합\n",
    "print(ss1-ss2) # {1, 2, 3}\n",
    "print(ss1.difference(ss2)) # {1, 2, 3}\n",
    "print(ss2.difference(ss1)) # {8, 9, 10, 7}"
   ]
  },
  {
   "cell_type": "code",
   "execution_count": 6,
   "id": "absolute-production",
   "metadata": {},
   "outputs": [
    {
     "name": "stdout",
     "output_type": "stream",
     "text": [
      "{1, 2, 3}\n",
      "{1, 2, 3, 4}\n"
     ]
    }
   ],
   "source": [
    "# 값 추가하기 - 1개 : 집합 자료형(리스트로 변환한).add(값)\n",
    "sss = set([1,2,3])\n",
    "print(sss) # {1, 2, 3}\n",
    "sss.add(4)\n",
    "print(sss) # {1, 2, 3, 4}"
   ]
  },
  {
   "cell_type": "code",
   "execution_count": 7,
   "id": "answering-rouge",
   "metadata": {},
   "outputs": [
    {
     "name": "stdout",
     "output_type": "stream",
     "text": [
      "{1, 2, 3}\n",
      "{1, 2, 3, 4, 5, 6}\n"
     ]
    }
   ],
   "source": [
    "# 값 추가하기 - 여러개 : 집합 자료형(\").update([값들])\n",
    "sss1 = set([1,2,3])\n",
    "print(sss1) # {1, 2, 3}\n",
    "sss1.update([4,5,6])\n",
    "print(sss1) # {1, 2, 3, 4, 5, 6}"
   ]
  },
  {
   "cell_type": "code",
   "execution_count": 8,
   "id": "furnished-mechanism",
   "metadata": {},
   "outputs": [
    {
     "name": "stdout",
     "output_type": "stream",
     "text": [
      "{1, 2, 3, 4, 5, 6}\n",
      "{1, 3, 4, 5, 6}\n"
     ]
    }
   ],
   "source": [
    "# 특정 값 제거 : 집합 자료형.remove(값)\n",
    "sss2 = set([1,2,3,4,5,6])\n",
    "print(sss2) # {1, 2, 3, 4, 5, 6}\n",
    "sss2.remove(2) # 하나만 제거됨. Q) 여러 값 제거하고 싶을 때는?\n",
    "print(sss2) # {1, 3, 4, 5, 6}"
   ]
  },
  {
   "cell_type": "code",
   "execution_count": null,
   "id": "assisted-beatles",
   "metadata": {},
   "outputs": [],
   "source": []
  }
 ],
 "metadata": {
  "kernelspec": {
   "display_name": "Python 3",
   "language": "python",
   "name": "python3"
  },
  "language_info": {
   "codemirror_mode": {
    "name": "ipython",
    "version": 3
   },
   "file_extension": ".py",
   "mimetype": "text/x-python",
   "name": "python",
   "nbconvert_exporter": "python",
   "pygments_lexer": "ipython3",
   "version": "3.9.1"
  }
 },
 "nbformat": 4,
 "nbformat_minor": 5
}
