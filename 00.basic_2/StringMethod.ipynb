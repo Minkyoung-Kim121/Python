{
 "cells": [
  {
   "cell_type": "code",
   "execution_count": 1,
   "id": "successful-referral",
   "metadata": {},
   "outputs": [
    {
     "name": "stdout",
     "output_type": "stream",
     "text": [
      "hobby\n",
      "2\n"
     ]
    }
   ],
   "source": [
    "# 문자열 관련 함수 StringMethod.py\n",
    "\n",
    "# 1. 문자 개수 세기 .count()\n",
    "a = \"hobby\"\n",
    "print(a)\n",
    "print(a.count('b'))\n",
    "# 2 >>> a 변수 안에 들어있는 \"b\"의 개수를 구해라"
   ]
  },
  {
   "cell_type": "code",
   "execution_count": 2,
   "id": "athletic-astrology",
   "metadata": {},
   "outputs": [
    {
     "name": "stdout",
     "output_type": "stream",
     "text": [
      "Python is the best choice\n",
      "14\n",
      "-1\n"
     ]
    }
   ],
   "source": [
    "# 2. 위치 알려주기 .find()\n",
    "a1 = \"Python is the best choice\"\n",
    "print(a1)\n",
    "print(a1.find('b')) # 14 >>> b가 처음 나온 위치 반환\n",
    "print(a1.find('l')) # -1 >>> 존재하지 않음"
   ]
  },
  {
   "cell_type": "code",
   "execution_count": 3,
   "id": "parallel-northeast",
   "metadata": {},
   "outputs": [
    {
     "name": "stdout",
     "output_type": "stream",
     "text": [
      "Life is too short\n",
      "8\n"
     ]
    }
   ],
   "source": [
    "# 3. 위치 알려주기 .index()\n",
    "a2 = \"Life is too short\"\n",
    "print(a2)\n",
    "print(a2.index('t')) # t가 제일 처음나온 위치 반환\n",
    "# print(a2.index('g')) >>> find와는 다르게 존재하지 x으면, 오류뜸"
   ]
  },
  {
   "cell_type": "code",
   "execution_count": 4,
   "id": "material-rings",
   "metadata": {},
   "outputs": [
    {
     "name": "stdout",
     "output_type": "stream",
     "text": [
      "a,b,c,d\n",
      "j$k$l$m$n\n"
     ]
    }
   ],
   "source": [
    "# 4. 문자열 삽입 .join()\n",
    "a3 = \",\".join('abcd')\n",
    "print(a3)\n",
    "# a,b,c,d >>> abcd의 각 사이사이에,를 삽입\n",
    "a33 = \"$\".join(\"jklmn\")\n",
    "print(a33)\n",
    "# j$k$l$m$n"
   ]
  },
  {
   "cell_type": "code",
   "execution_count": 5,
   "id": "legislative-teach",
   "metadata": {},
   "outputs": [
    {
     "name": "stdout",
     "output_type": "stream",
     "text": [
      "a,b,c,d\n"
     ]
    }
   ],
   "source": [
    "# 4-1. 리스트로 join함수 받기\n",
    "l = \",\".join(['a', 'b', 'c', 'd'])\n",
    "print(l)\n",
    "# a,b,c,d"
   ]
  },
  {
   "cell_type": "code",
   "execution_count": 6,
   "id": "forward-possibility",
   "metadata": {},
   "outputs": [
    {
     "name": "stdout",
     "output_type": "stream",
     "text": [
      "hi\n",
      "HI\n"
     ]
    }
   ],
   "source": [
    "# 5. 소문자->대문자 .upper()\n",
    "a4 = \"hi\"\n",
    "print(a4)\n",
    "print(a4.upper()) # HI"
   ]
  },
  {
   "cell_type": "code",
   "execution_count": 7,
   "id": "local-florence",
   "metadata": {},
   "outputs": [
    {
     "name": "stdout",
     "output_type": "stream",
     "text": [
      "HELLO\n",
      "hello\n"
     ]
    }
   ],
   "source": [
    "# 5-1. 대문자->소문자 .lower()\n",
    "a5 = \"HELLO\"\n",
    "print(a5)\n",
    "print(a5.lower()) # hello"
   ]
  },
  {
   "cell_type": "code",
   "execution_count": 8,
   "id": "historical-perfume",
   "metadata": {},
   "outputs": [
    {
     "name": "stdout",
     "output_type": "stream",
     "text": [
      "   hello\n",
      "hello\n"
     ]
    }
   ],
   "source": [
    "# 6. 왼쪽 공백 지우기 .lstrip()\n",
    "a6 = \"   hello\"\n",
    "print(a6)\n",
    "print(a6.lstrip()) "
   ]
  },
  {
   "cell_type": "code",
   "execution_count": 9,
   "id": "indonesian-xerox",
   "metadata": {},
   "outputs": [
    {
     "name": "stdout",
     "output_type": "stream",
     "text": [
      "hello       \n",
      "hello\n"
     ]
    }
   ],
   "source": [
    "# 6-1. 오른쪽 공백 지우기 .rstrip()\n",
    "a7 = \"hello       \"\n",
    "print(a7)\n",
    "print(a7.rstrip())"
   ]
  },
  {
   "cell_type": "code",
   "execution_count": 10,
   "id": "architectural-midnight",
   "metadata": {},
   "outputs": [
    {
     "name": "stdout",
     "output_type": "stream",
     "text": [
      "    hello     \n",
      "hello\n"
     ]
    }
   ],
   "source": [
    "# 6-2. 양쪽 공백 지우기 .strip()\n",
    "a8 = \"    hello     \"\n",
    "print(a8)\n",
    "print(a8.strip())"
   ]
  },
  {
   "cell_type": "code",
   "execution_count": 11,
   "id": "medieval-responsibility",
   "metadata": {},
   "outputs": [
    {
     "name": "stdout",
     "output_type": "stream",
     "text": [
      "Life is too short\n",
      "Your leg is too short\n"
     ]
    }
   ],
   "source": [
    "# 7. 문자열 바꾸기 .replace()\n",
    "a9 = \"Life is too short\"\n",
    "print(a9) # Life is too short\n",
    "print(a9.replace(\"Life\", \"Your leg\")) # Your leg is too short"
   ]
  },
  {
   "cell_type": "code",
   "execution_count": 12,
   "id": "alternative-midwest",
   "metadata": {},
   "outputs": [
    {
     "name": "stdout",
     "output_type": "stream",
     "text": [
      "Life is too short\n",
      "['Life', 'is', 'too', 'short']\n",
      "['Life', ' i', 's to', 'o shor', '', 't']\n"
     ]
    }
   ],
   "source": [
    "# 8. 문자열 나누기 .split()\n",
    "a10 = \"Life is too short\"\n",
    "print(a10)\n",
    "print(a10.split()) # ['Life', 'is', 'too', 'short']\n",
    "# >>> 공백을 기준으로 나눠서 리스트에 담음\n",
    "a11 = \"Life! i!s to!o shor!!t\"\n",
    "print(a11.split(\"!\")) # ['Life', ' i', 's to', 'o shor', '', 't'] >>> ! 기준"
   ]
  },
  {
   "cell_type": "code",
   "execution_count": null,
   "id": "material-entrepreneur",
   "metadata": {},
   "outputs": [],
   "source": []
  }
 ],
 "metadata": {
  "kernelspec": {
   "display_name": "Python 3",
   "language": "python",
   "name": "python3"
  },
  "language_info": {
   "codemirror_mode": {
    "name": "ipython",
    "version": 3
   },
   "file_extension": ".py",
   "mimetype": "text/x-python",
   "name": "python",
   "nbconvert_exporter": "python",
   "pygments_lexer": "ipython3",
   "version": "3.9.1"
  }
 },
 "nbformat": 4,
 "nbformat_minor": 5
}
