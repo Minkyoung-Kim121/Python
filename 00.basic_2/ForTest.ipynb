{
 "cells": [
  {
   "cell_type": "code",
   "execution_count": 1,
   "id": "challenging-chart",
   "metadata": {},
   "outputs": [
    {
     "name": "stdout",
     "output_type": "stream",
     "text": [
      "['one', 'two', 'three']\n",
      "one\n",
      "two\n",
      "three\n",
      "[(1, 2), (3, 4), (5, 6)]\n",
      "3\n",
      "7\n",
      "11\n"
     ]
    },
    {
     "data": {
      "text/plain": [
       "'\\n3\\n7\\n11\\n'"
      ]
     },
     "execution_count": 1,
     "metadata": {},
     "output_type": "execute_result"
    }
   ],
   "source": [
    "# for문 ForTest.py\n",
    "\n",
    "# for문은 리스트/튜플/문자열의 첫번째~마지막 요소까지 차례로 변수에 대입하는 반복문\n",
    "# for문에는 보통 i / j를 사용.\n",
    "\n",
    "test_list = ['one','two','three']\n",
    "print(test_list)\n",
    "for i in test_list:\n",
    "    print(i)\n",
    "'''\n",
    "one\n",
    "two\n",
    "three\n",
    "''' # >>> 차례로 돈다.\n",
    "\n",
    "a = [(1,2),(3,4),(5,6)]\n",
    "print(a)\n",
    "for (first, last) in a:\n",
    "    print(first + last)\n",
    "'''\n",
    "3\n",
    "7\n",
    "11\n",
    "''' # >>> 튜플의 특성 :  (first, last) = (1, 2)"
   ]
  },
  {
   "cell_type": "code",
   "execution_count": 2,
   "id": "pharmaceutical-passport",
   "metadata": {},
   "outputs": [
    {
     "name": "stdout",
     "output_type": "stream",
     "text": [
      "[90, 25, 67, 45, 80]\n",
      "1 번 학생은 합격\n",
      "2 번 학생은 불합격\n",
      "3 번 학생은 합격\n",
      "4 번 학생은 불합격\n",
      "5 번 학생은 합격\n"
     ]
    },
    {
     "data": {
      "text/plain": [
       "'\\n1 번 학생은 합격\\n2 번 학생은 불합격\\n3 번 학생은 합격\\n4 번 학생은 불합격\\n5 번 학생은 합격\\n'"
      ]
     },
     "execution_count": 2,
     "metadata": {},
     "output_type": "execute_result"
    }
   ],
   "source": [
    "score = [90,25,67,45,80]\n",
    "print(score)\n",
    "number = 0 # >>> 학생의 번호\n",
    "for i in score:\n",
    "    number += 1 # for문이 돌아야 하니까.\n",
    "    if i >= 60:\n",
    "        print(\"%d 번 학생은 합격\"%number)\n",
    "    else:\n",
    "        print(\"%d 번 학생은 불합격\"%number)\n",
    "'''\n",
    "1 번 학생은 합격\n",
    "2 번 학생은 불합격\n",
    "3 번 학생은 합격\n",
    "4 번 학생은 불합격\n",
    "5 번 학생은 합격\n",
    "'''"
   ]
  },
  {
   "cell_type": "code",
   "execution_count": 3,
   "id": "respected-houston",
   "metadata": {},
   "outputs": [
    {
     "name": "stdout",
     "output_type": "stream",
     "text": [
      "!축하! 1번 학생 합격입니다.\n",
      "!축하! 3번 학생 합격입니다.\n",
      "!축하! 5번 학생 합격입니다.\n"
     ]
    },
    {
     "data": {
      "text/plain": [
       "'\\n!축하! 1번 학생 합격입니다.\\n!축하! 3번 학생 합격입니다.\\n!축하! 5번 학생 합격입니다.\\n'"
      ]
     },
     "execution_count": 3,
     "metadata": {},
     "output_type": "execute_result"
    }
   ],
   "source": [
    "score1 = [90,25,67,45,80]\n",
    "number = 0\n",
    "for i in score1:\n",
    "    number += 1\n",
    "    if i < 60: continue\n",
    "    print(\"!축하! %d번 학생 합격입니다.\"%number)\n",
    "'''\n",
    "!축하! 1번 학생 합격입니다.\n",
    "!축하! 3번 학생 합격입니다.\n",
    "!축하! 5번 학생 합격입니다.\n",
    "'''"
   ]
  },
  {
   "cell_type": "code",
   "execution_count": 4,
   "id": "finnish-furniture",
   "metadata": {},
   "outputs": [
    {
     "name": "stdout",
     "output_type": "stream",
     "text": [
      "range(0, 10)\n"
     ]
    }
   ],
   "source": [
    "# range 함수 : 숫자 리스트를 자동으로 생성\n",
    "a1 = range(10)\n",
    "print(a1) # range(0, 10) >>> 0 이상 10 미만의 숫자를 포함하는 range 객체 생성\n"
   ]
  },
  {
   "cell_type": "code",
   "execution_count": 5,
   "id": "wrong-campus",
   "metadata": {},
   "outputs": [
    {
     "name": "stdout",
     "output_type": "stream",
     "text": [
      "55\n"
     ]
    }
   ],
   "source": [
    "# 1~10까지 더하기\n",
    "add = 0\n",
    "for i in range(1,11):\n",
    "    add = add + i\n",
    "\n",
    "print(add) # 55"
   ]
  },
  {
   "cell_type": "code",
   "execution_count": 6,
   "id": "spatial-appreciation",
   "metadata": {},
   "outputs": [
    {
     "name": "stdout",
     "output_type": "stream",
     "text": [
      "1215\n"
     ]
    }
   ],
   "source": [
    "# 5-49 더하기\n",
    "add1 = 0\n",
    "for i in range(5,50):\n",
    "    add1 = add1 + i\n",
    "\n",
    "print(add1) # 1215"
   ]
  },
  {
   "cell_type": "code",
   "execution_count": 7,
   "id": "sporting-eugene",
   "metadata": {},
   "outputs": [
    {
     "name": "stdout",
     "output_type": "stream",
     "text": [
      "5050\n"
     ]
    }
   ],
   "source": [
    "# 1-100 까지 더하기\n",
    "add2 = 0\n",
    "for i in range(1,101):\n",
    "    add2 += i\n",
    "\n",
    "print(add2) # 5050"
   ]
  },
  {
   "cell_type": "code",
   "execution_count": 8,
   "id": "hungarian-static",
   "metadata": {},
   "outputs": [
    {
     "name": "stdout",
     "output_type": "stream",
     "text": [
      "5\n",
      "range(0, 5)\n"
     ]
    }
   ],
   "source": [
    "# len 함수\n",
    "x = [1,2,3,4,5]\n",
    "print(len(x)) # 5\n",
    "print(range(5)) # range(0, 5)"
   ]
  },
  {
   "cell_type": "code",
   "execution_count": null,
   "id": "moved-fellowship",
   "metadata": {},
   "outputs": [],
   "source": []
  }
 ],
 "metadata": {
  "kernelspec": {
   "display_name": "Python 3",
   "language": "python",
   "name": "python3"
  },
  "language_info": {
   "codemirror_mode": {
    "name": "ipython",
    "version": 3
   },
   "file_extension": ".py",
   "mimetype": "text/x-python",
   "name": "python",
   "nbconvert_exporter": "python",
   "pygments_lexer": "ipython3",
   "version": "3.9.1"
  }
 },
 "nbformat": 4,
 "nbformat_minor": 5
}
