{
 "cells": [
  {
   "cell_type": "code",
   "execution_count": 1,
   "id": "hungry-bouquet",
   "metadata": {},
   "outputs": [
    {
     "name": "stdout",
     "output_type": "stream",
     "text": [
      "[1, 2, 3, 4, 5, 6]\n",
      "['a', 'b', 'c', 'd', 'e', 'f']\n",
      "6\n",
      "[1, 2, 3]\n",
      "[1, 2, 3, 1, 2, 3]\n",
      "3\n"
     ]
    }
   ],
   "source": [
    "# 리스트 자료형 List_1.py\n",
    "\n",
    "# 1. 리스트 연산하기\n",
    "a = [1,2,3]\n",
    "b = [4,5,6]\n",
    "print(a+b) # [1, 2, 3, 4, 5, 6]\n",
    "\n",
    "a1 = ['a','b','c']\n",
    "b1 = ['d','e','f']\n",
    "print(a1+b1) # ['a', 'b', 'c', 'd', 'e', 'f']\n",
    "print(len(a1+b1)) # 6\n",
    "\n",
    "a2 = [1,2,3]\n",
    "print(a2)\n",
    "print(a2*2) # [1, 2, 3, 1, 2, 3]\n",
    "print(len(a2)) # 3"
   ]
  },
  {
   "cell_type": "code",
   "execution_count": 2,
   "id": "incomplete-kingdom",
   "metadata": {},
   "outputs": [
    {
     "name": "stdout",
     "output_type": "stream",
     "text": [
      "3\n",
      "3hi\n"
     ]
    }
   ],
   "source": [
    "# 1-1. str() 함수 : 정수/실수 -> 문자열 변환\n",
    "a3 = [1,2,3]\n",
    "print(a3[2])\n",
    "# print(a3[2] + \"hi\") >>> 에러 : 정수 + 문자열은 불가능하기 때문이다.\n",
    "#                                따라서 정수를 숫자+문자의 문자열로 만들어줘야.\n",
    "print(str(a3[2]) + \"hi\") # 3hi >>> str() 함수 : 정수/실수 -> 문자열 바꾸는 함수"
   ]
  },
  {
   "cell_type": "code",
   "execution_count": 3,
   "id": "unique-physiology",
   "metadata": {},
   "outputs": [
    {
     "name": "stdout",
     "output_type": "stream",
     "text": [
      "[1, 2, 3]\n",
      "3\n",
      "[1, 2, 4]\n"
     ]
    }
   ],
   "source": [
    "# 2. 리스트 수정과 삭제 (del 객체)\n",
    "# 수정\n",
    "a4 = [1,2,3]\n",
    "print(a4) # [1, 2, 3]\n",
    "print(a4[2]) # 3\n",
    "a4[2] = 4\n",
    "print(a4) # [1, 2, 4,]"
   ]
  },
  {
   "cell_type": "code",
   "execution_count": 4,
   "id": "weekly-shareware",
   "metadata": {},
   "outputs": [
    {
     "name": "stdout",
     "output_type": "stream",
     "text": [
      "[1, 2, 3]\n",
      "[1, 3]\n",
      "[1, 2, 3, 4, 5, 6, 7, 8, 9]\n",
      "[1, 2, 6, 7, 8, 9]\n"
     ]
    }
   ],
   "source": [
    "# 삭제\n",
    "b4 = [1, 2, 3]\n",
    "print(b4) # [1, 2, 3]\n",
    "del b4[1]\n",
    "print(b4) # [1, 3]\n",
    "\n",
    "b5 = [1,2,3,4,5,6,7,8,9]\n",
    "print(b5) # [1, 2, 3, 4, 5, 6, 7, 8, 9]\n",
    "del b5[2:5]\n",
    "print(b5) # [1, 2, 6, 7, 8, 9]"
   ]
  },
  {
   "cell_type": "code",
   "execution_count": 5,
   "id": "acoustic-gardening",
   "metadata": {},
   "outputs": [
    {
     "name": "stdout",
     "output_type": "stream",
     "text": [
      "[1, 2, 3]\n",
      "[1, 2, 3, 4]\n",
      "[1, 2, 3, 4, [5, 6]]\n"
     ]
    }
   ],
   "source": [
    "# 3. 리스트 관련 함수\n",
    "# 리스트에 요소 추가 : .append() 함수\n",
    "a6 = [1,2,3]\n",
    "print(a6) # [1, 2, 3]\n",
    "a6.append(4) # >>> x.append(y) : x의 맨 마지막에 y 추가\n",
    "print(a6) # [1, 2, 3, 4]\n",
    "\n",
    "a6.append([5,6])\n",
    "print(a6) # [1, 2, 3, 4, [5, 6]] >>> 리스트에 리스트를 추가할 수도 있다."
   ]
  },
  {
   "cell_type": "code",
   "execution_count": 6,
   "id": "solar-jacksonville",
   "metadata": {},
   "outputs": [
    {
     "name": "stdout",
     "output_type": "stream",
     "text": [
      "[1, 4, 3, 2]\n",
      "[1, 2, 3, 4]\n",
      "['a', 'c', 'd', 'b']\n",
      "['a', 'b', 'c', 'd']\n"
     ]
    }
   ],
   "source": [
    "# 리스트 정렬  : .sort() 함수\n",
    "a7 = [1,4,3,2]\n",
    "print(a7) # [1, 4, 3, 2]\n",
    "a7.sort()\n",
    "print(a7) # [1, 2, 3, 4]\n",
    "\n",
    "b7 = ['a','c','d','b']\n",
    "print(b7) # ['a', 'c', 'd', 'b']\n",
    "b7.sort()\n",
    "print(b7) # ['a', 'b', 'c', 'd'] >>> 문자 또한 정렬 가능하다."
   ]
  },
  {
   "cell_type": "code",
   "execution_count": 7,
   "id": "accomplished-transportation",
   "metadata": {},
   "outputs": [
    {
     "name": "stdout",
     "output_type": "stream",
     "text": [
      "['a', 'c', 'b', 'd']\n",
      "['d', 'b', 'c', 'a']\n"
     ]
    }
   ],
   "source": [
    "# 리스트 뒤집기 : .reverse()\n",
    "a8 = ['a','c','b','d']\n",
    "print(a8) # ['a', 'c', 'b', 'd']\n",
    "a8.reverse()\n",
    "print(a8) # ['d', 'b', 'c', 'a'] >>> 역순으로 뒤집기"
   ]
  },
  {
   "cell_type": "code",
   "execution_count": 8,
   "id": "boxed-prescription",
   "metadata": {},
   "outputs": [
    {
     "name": "stdout",
     "output_type": "stream",
     "text": [
      "[1, 2, 3]\n",
      "1\n"
     ]
    }
   ],
   "source": [
    "# 위치 반환 : .index(x) >>> x값의 위치를 반환\n",
    "a9 = [1,2,3]\n",
    "print(a9)\n",
    "print(a9.index(2)) # 1 >>> 두번째 위치한다.\n",
    "# print(a9.index(4)) >>> 4는 없기 때문에 오류발생."
   ]
  },
  {
   "cell_type": "code",
   "execution_count": 9,
   "id": "comic-elite",
   "metadata": {},
   "outputs": [
    {
     "name": "stdout",
     "output_type": "stream",
     "text": [
      "[1, 2, 3]\n",
      "[4, 1, 2, 3]\n"
     ]
    }
   ],
   "source": [
    "# 리스트에 요소 삽입 : .insert(위치,데이터)\n",
    "a10 = [1,2,3]\n",
    "print(a10)\n",
    "a10.insert(0,4) #  0의 위치에 4 삽입.\n",
    "print(a10) # [4, 1, 2, 3]"
   ]
  },
  {
   "cell_type": "code",
   "execution_count": 10,
   "id": "superb-bargain",
   "metadata": {},
   "outputs": [
    {
     "name": "stdout",
     "output_type": "stream",
     "text": [
      "[1, 2, 3]\n",
      "[1, 3]\n",
      "[1, 2, 2, 3]\n",
      "[1, 2, 3]\n"
     ]
    }
   ],
   "source": [
    "# 리스트 요소 제거 : .remove(x) >>> 첫번째 x를 지워라\n",
    "a11 = [1,2,3]\n",
    "print(a11) # [1, 2, 3]\n",
    "a11.remove(2)\n",
    "print(a11) # [1, 3]\n",
    "\n",
    "b11 = [1,2,2,3]\n",
    "print(b11)\n",
    "b11.remove(2) # >>> 첫번째로 나오는 2만 지움. 그 다음 2는 안 지움.\n",
    "print(b11) # [1, 2, 3]"
   ]
  },
  {
   "cell_type": "code",
   "execution_count": 11,
   "id": "enclosed-process",
   "metadata": {},
   "outputs": [
    {
     "name": "stdout",
     "output_type": "stream",
     "text": [
      "[1, 2, 3]\n",
      "[1, 2]\n"
     ]
    }
   ],
   "source": [
    "# 리스트 요소 끄집어내기 : .pop()\n",
    "a12 = [1,2,3]\n",
    "print(a12) # [1, 2, 3]\n",
    "a12.pop()\n",
    "print(a12) # [1, 2] >>> .pop()은 리스트의 맨 마지막 요소를 반환 후 삭제."
   ]
  },
  {
   "cell_type": "code",
   "execution_count": 12,
   "id": "attractive-clark",
   "metadata": {},
   "outputs": [
    {
     "name": "stdout",
     "output_type": "stream",
     "text": [
      "[1, 2, 3, 4, 5, 5]\n",
      "2\n"
     ]
    }
   ],
   "source": [
    "# 리스트에 포함된 요소 개수 세기 : .count(x) >>> x가 몇 개?\n",
    "a13 = [1,2,3,4,5,5]\n",
    "print(a13)\n",
    "print(a13.count(5)) # 2"
   ]
  },
  {
   "cell_type": "code",
   "execution_count": 13,
   "id": "recreational-eligibility",
   "metadata": {},
   "outputs": [
    {
     "name": "stdout",
     "output_type": "stream",
     "text": [
      "[1, 2, 3, 4, 5]\n",
      "[1, 2, 3, 4, 5, 6, 7]\n",
      "[1, 2, 3, 4, 5, 6, 7, 8, 9]\n"
     ]
    }
   ],
   "source": [
    "# 리스트 확장 : a.extend(x) >>> a 리스트에 x리스트를 더함\n",
    "a14 = [1,2,3,4,5]\n",
    "print(a14)\n",
    "a14.extend([6,7])\n",
    "print(a14) # [1, 2, 3, 4, 5, 6, 7]\n",
    "b14 = [8,9]\n",
    "a14.extend(b14)\n",
    "print(a14) # [1, 2, 3, 4, 5, 6, 7, 8, 9]"
   ]
  },
  {
   "cell_type": "code",
   "execution_count": null,
   "id": "rural-hollywood",
   "metadata": {},
   "outputs": [],
   "source": []
  }
 ],
 "metadata": {
  "kernelspec": {
   "display_name": "Python 3",
   "language": "python",
   "name": "python3"
  },
  "language_info": {
   "codemirror_mode": {
    "name": "ipython",
    "version": 3
   },
   "file_extension": ".py",
   "mimetype": "text/x-python",
   "name": "python",
   "nbconvert_exporter": "python",
   "pygments_lexer": "ipython3",
   "version": "3.9.1"
  }
 },
 "nbformat": 4,
 "nbformat_minor": 5
}
