{
 "cells": [
  {
   "cell_type": "code",
   "execution_count": 1,
   "id": "gorgeous-agenda",
   "metadata": {},
   "outputs": [
    {
     "name": "stdout",
     "output_type": "stream",
     "text": [
      "Looser\n"
     ]
    }
   ],
   "source": [
    "# 문자열 인덱싱과 슬라이싱 StringIndexing.py\n",
    "\n",
    "# 인덱싱(Indexing) : 무엇을 가리킨다.\n",
    "a = \"Life is too short, You need Python\"\n",
    "b = a[0]\n",
    "b1 = a[9]\n",
    "b2 = a[-2]\n",
    "b3 = a[12]\n",
    "b4 = a[-9]\n",
    "b5 = a[15]\n",
    "print(b+b1+b2+b3+b4+b5)\n",
    "# Looser 출력  >>>  a[숫자] : 변수 a의 문자열 안의 특정한 값(숫자)를 뽑아낸다.\n",
    "# 위의 과정을 인덱싱이라고 한다.\n",
    "\n",
    "# 주의! 파이썬의 인덱스는 0부터 시작하며 뒤에서부터 셀 때는 -1부터 시작한다.\n",
    "# (0과 -0은 똑같은 값을 의미하기 때문이다.)"
   ]
  },
  {
   "cell_type": "code",
   "execution_count": 4,
   "id": "atlantic-wound",
   "metadata": {},
   "outputs": [
    {
     "name": "stdout",
     "output_type": "stream",
     "text": [
      "Life\n",
      "is\n"
     ]
    }
   ],
   "source": [
    "# 슬라이싱(Slicing) : 무엇을 잘라내다.\n",
    "s = a[0:4]\n",
    "print(s)\n",
    "# Life 출력 >>> a[0] ~ a[4] -> a[0], a[1], a[2], a[3]\n",
    "# 0 이상 4 미만 (0 <= a < 3)\n",
    "# 슬라이싱은 긴 문자열에서 단어를 뽑아내는 것\n",
    "s1 = a[5:7]\n",
    "print(s1)\n",
    "# is 출력 "
   ]
  },
  {
   "cell_type": "code",
   "execution_count": 5,
   "id": "bulgarian-canadian",
   "metadata": {},
   "outputs": [
    {
     "name": "stdout",
     "output_type": "stream",
     "text": [
      "You need Python\n"
     ]
    }
   ],
   "source": [
    "s2 = a[19:]\n",
    "print(s2)\n",
    "# You need Python 출력 >>> a[19:] 19번째 문자열부터 끝까지 출력."
   ]
  },
  {
   "cell_type": "code",
   "execution_count": 6,
   "id": "wireless-chuck",
   "metadata": {},
   "outputs": [
    {
     "name": "stdout",
     "output_type": "stream",
     "text": [
      "Life is too short\n"
     ]
    }
   ],
   "source": [
    "s3 = a[:17]\n",
    "print(s3)\n",
    "# Life is too short 출력 >>> a[:17] 처음부터 17번째 문자열까지 출력. "
   ]
  },
  {
   "cell_type": "code",
   "execution_count": 7,
   "id": "valuable-factory",
   "metadata": {},
   "outputs": [
    {
     "name": "stdout",
     "output_type": "stream",
     "text": [
      "You need,Life\n"
     ]
    }
   ],
   "source": [
    "s4 = a[19:-7] # a[19] 부터 a[-8] 출력\n",
    "d = a[17]\n",
    "print(s4 + d + s)\n",
    "# You need,Life 출력"
   ]
  },
  {
   "cell_type": "code",
   "execution_count": 8,
   "id": "honey-convert",
   "metadata": {},
   "outputs": [
    {
     "name": "stdout",
     "output_type": "stream",
     "text": [
      "Life is too short, You need Python\n"
     ]
    }
   ],
   "source": [
    "s5 = a[:]\n",
    "print(s5)\n",
    "# Life is too short, You need Python 출력 >>> a[:] 문자열의 처음부터 끝까지 출력."
   ]
  },
  {
   "cell_type": "code",
   "execution_count": null,
   "id": "productive-logistics",
   "metadata": {},
   "outputs": [],
   "source": []
  }
 ],
 "metadata": {
  "kernelspec": {
   "display_name": "Python 3",
   "language": "python",
   "name": "python3"
  },
  "language_info": {
   "codemirror_mode": {
    "name": "ipython",
    "version": 3
   },
   "file_extension": ".py",
   "mimetype": "text/x-python",
   "name": "python",
   "nbconvert_exporter": "python",
   "pygments_lexer": "ipython3",
   "version": "3.9.1"
  }
 },
 "nbformat": 4,
 "nbformat_minor": 5
}
