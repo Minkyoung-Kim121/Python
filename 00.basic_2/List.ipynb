{
 "cells": [
  {
   "cell_type": "code",
   "execution_count": 1,
   "id": "attempted-phoenix",
   "metadata": {},
   "outputs": [
    {
     "name": "stdout",
     "output_type": "stream",
     "text": [
      "[1, 3, 5, 7, 9]\n",
      "[]\n",
      "[1, 2, 3]\n",
      "['Life', 'is', 'too', 'short']\n",
      "[1, 2, 'Life', 3]\n",
      "[1, 2, ['Life', 'is']]\n"
     ]
    }
   ],
   "source": [
    "# 리스트 자료형 List.py\n",
    "\n",
    "# 1. 리스트는 요소들의 모음\n",
    "odd = [1,3,5,7,9]\n",
    "print(odd)\n",
    "\n",
    "a = []\n",
    "print(a) # []\n",
    "b = [1,2,3]\n",
    "print(b) # [1,2,3] >>> 숫자 리스트\n",
    "c = [\"Life\", \"is\", \"too\", \"short\"]\n",
    "print(c) # ['Life', 'is', 'too', 'short'] >>> 문자열도 담는다.\n",
    "d = [1,2,\"Life\",3,] # [1, 2, 'Life', 3] >>> 섞어도 가능.\n",
    "print(d)\n",
    "e = [1,2,[\"Life\",\"is\"]] # [1, 2, ['Life', 'is']] >>> 이중 리스트 가능\n",
    "print(e)\n",
    "# >>> list 자료형 안에는 어떤 자료형도 포함 가능하다."
   ]
  },
  {
   "cell_type": "code",
   "execution_count": 2,
   "id": "honest-stack",
   "metadata": {},
   "outputs": [
    {
     "name": "stdout",
     "output_type": "stream",
     "text": [
      "[1, 2, 3]\n",
      "1\n",
      "2\n",
      "3\n",
      "3\n",
      "6\n",
      "[1, 2, 3, ['a', 'b', 'c']]\n",
      "['a', 'b', 'c']\n",
      "a\n",
      "[1, 2, ['a', 'b', ['Life', 'is']]]\n",
      "Life\n"
     ]
    }
   ],
   "source": [
    "# 2. 리스트 인덱싱\n",
    "aa = [1,2,3]\n",
    "print(aa)\n",
    "print(aa[0]) #1\n",
    "print(aa[1]) #2\n",
    "print(aa[2]) #3\n",
    "print(aa[-1]) #3\n",
    "print(aa[1]*aa[2]) #6\n",
    "\n",
    "bb = [1,2,3,['a','b','c']]\n",
    "print(bb)\n",
    "print(bb[-1]) # ['a','b','c']\n",
    "print(bb[-1][0]) # a\n",
    "\n",
    "cc = [1,2,['a','b',['Life','is']]]\n",
    "print(cc)\n",
    "print(cc[-1][-1][0]) # Life"
   ]
  },
  {
   "cell_type": "code",
   "execution_count": 3,
   "id": "cutting-mongolia",
   "metadata": {},
   "outputs": [
    {
     "name": "stdout",
     "output_type": "stream",
     "text": [
      "[1, 2, 3, 4, 5]\n",
      "[1, 2, 3, 4, 5]\n",
      "[1, 2]\n"
     ]
    }
   ],
   "source": [
    "# 3. 리스트 슬라이싱\n",
    "aaa = [1,2,3,4,5]\n",
    "print(aaa)\n",
    "print(aaa[0:]) # [1, 2, 3, 4, 5]\n",
    "print(aaa[0:2]) # [1, 2]"
   ]
  },
  {
   "cell_type": "code",
   "execution_count": 4,
   "id": "improving-provincial",
   "metadata": {},
   "outputs": [
    {
     "name": "stdout",
     "output_type": "stream",
     "text": [
      "12\n",
      "[1, 2, 3, 4, 5]\n",
      "[1, 2]\n",
      "[3, 4, 5]\n",
      "[1, 2, 3, 4, 5]\n",
      "[2, 3]\n",
      "[1, 2, 3, ['a', 'b', 'c'], 4, 5]\n",
      "b\n"
     ]
    }
   ],
   "source": [
    "#cf.문자열 슬라이싱과의 비교\n",
    "bbb = \"12345\"\n",
    "print(bbb[0:2]) # 12\n",
    "\n",
    "a1 = [1,2,3,4,5]\n",
    "print(a1) \n",
    "b1 = a1[:2]\n",
    "print(b1) # [1, 2]\n",
    "c1 = a1[2:]\n",
    "print(c1) # [2, 3, 4, 5]\n",
    "\n",
    "A = [1,2,3,4,5]\n",
    "print(A)\n",
    "print(A[1:3]) # [2, 3]\n",
    "\n",
    "B = [1,2,3,['a','b','c'],4,5]\n",
    "print(B)\n",
    "print(B[3][1]) # b"
   ]
  },
  {
   "cell_type": "code",
   "execution_count": null,
   "id": "sophisticated-prayer",
   "metadata": {},
   "outputs": [],
   "source": []
  }
 ],
 "metadata": {
  "kernelspec": {
   "display_name": "Python 3",
   "language": "python",
   "name": "python3"
  },
  "language_info": {
   "codemirror_mode": {
    "name": "ipython",
    "version": 3
   },
   "file_extension": ".py",
   "mimetype": "text/x-python",
   "name": "python",
   "nbconvert_exporter": "python",
   "pygments_lexer": "ipython3",
   "version": "3.9.1"
  }
 },
 "nbformat": 4,
 "nbformat_minor": 5
}
