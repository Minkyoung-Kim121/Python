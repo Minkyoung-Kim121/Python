{
 "cells": [
  {
   "cell_type": "code",
   "execution_count": 1,
   "id": "single-lodge",
   "metadata": {},
   "outputs": [
    {
     "name": "stdout",
     "output_type": "stream",
     "text": [
      "        hi\n"
     ]
    }
   ],
   "source": [
    "# 포맷코드로 정렬하기 Formating_1.py\n",
    "\n",
    "# 1. 정렬과 공백\n",
    "# 1-1. 오른쪽 정렬\n",
    "a = \"%10s\" % \"hi\"\n",
    "print(a)\n",
    "#         hi >>> 전체 길이가 10개인 문자열 공간에서 대입되는 값을 오른쪽으로 정렬,\n",
    "#                나머지는 공백으로 남겨라.\n",
    "#(공백)(공백)(공백)(공백)(공백)(공백)(공백)(공백)hi"
   ]
  },
  {
   "cell_type": "code",
   "execution_count": 2,
   "id": "respiratory-briefing",
   "metadata": {},
   "outputs": [
    {
     "name": "stdout",
     "output_type": "stream",
     "text": [
      "hi        \n"
     ]
    }
   ],
   "source": [
    "# 1-2. 왼쪽 정렬\n",
    "b =\"%-10s\" % \"hi\"\n",
    "print(b)\n",
    "# hi         >>> hi(공백)(공백)(공백)(공백)(공백)(공백)(공백)(공백)"
   ]
  },
  {
   "cell_type": "code",
   "execution_count": 3,
   "id": "trained-integration",
   "metadata": {},
   "outputs": [
    {
     "name": "stdout",
     "output_type": "stream",
     "text": [
      "hi        mk\n"
     ]
    }
   ],
   "source": [
    "# 공백 예제\n",
    "b = \"%-10smk\" % \"hi\"\n",
    "print(b)"
   ]
  },
  {
   "cell_type": "code",
   "execution_count": 4,
   "id": "moral-today",
   "metadata": {},
   "outputs": [
    {
     "name": "stdout",
     "output_type": "stream",
     "text": [
      "3.42134234\n"
     ]
    }
   ],
   "source": [
    "# 2. 소수점 표현하기\n",
    "# 2-1. 소수점 표현\n",
    "f = 3.42134234\n",
    "print(f)\n",
    "# 3.42134234"
   ]
  },
  {
   "cell_type": "code",
   "execution_count": 5,
   "id": "directed-ability",
   "metadata": {},
   "outputs": [
    {
     "name": "stdout",
     "output_type": "stream",
     "text": [
      "3.4213\n",
      "    3.4213\n",
      "3.4213    \n"
     ]
    }
   ],
   "source": [
    "f1 = \"%0.4f\" % 3.42134234\n",
    "print(f1)\n",
    "# 3.4213 >>> 소수점 넷째자리까지 표현\n",
    "f11 = \"%10.4f\" % 3.42134234\n",
    "print(f11)\n",
    "#     3.4213 >>> 오른쪽 정렬 + 소수점 넷째자리까지 표현\n",
    "f111 = \"%-10.4f\" % 3.42134234\n",
    "print(f111)"
   ]
  },
  {
   "cell_type": "code",
   "execution_count": null,
   "id": "medical-going",
   "metadata": {},
   "outputs": [],
   "source": []
  }
 ],
 "metadata": {
  "kernelspec": {
   "display_name": "Python 3",
   "language": "python",
   "name": "python3"
  },
  "language_info": {
   "codemirror_mode": {
    "name": "ipython",
    "version": 3
   },
   "file_extension": ".py",
   "mimetype": "text/x-python",
   "name": "python",
   "nbconvert_exporter": "python",
   "pygments_lexer": "ipython3",
   "version": "3.9.1"
  }
 },
 "nbformat": 4,
 "nbformat_minor": 5
}
