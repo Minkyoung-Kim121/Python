{
 "cells": [
  {
   "cell_type": "code",
   "execution_count": 1,
   "id": "grand-craft",
   "metadata": {},
   "outputs": [
    {
     "name": "stdout",
     "output_type": "stream",
     "text": [
      "돈을 넣어주세요.300\n",
      "커피 받으세요.\n",
      "남은 커피의 양은 9개 입니다.\n",
      "돈을 넣어주세요.300\n",
      "커피 받으세요.\n",
      "남은 커피의 양은 8개 입니다.\n",
      "돈을 넣어주세요.300\n",
      "커피 받으세요.\n",
      "남은 커피의 양은 7개 입니다.\n",
      "돈을 넣어주세요.300\n",
      "커피 받으세요.\n",
      "남은 커피의 양은 6개 입니다.\n",
      "돈을 넣어주세요.300\n",
      "커피 받으세요.\n",
      "남은 커피의 양은 5개 입니다.\n",
      "돈을 넣어주세요.300\n",
      "커피 받으세요.\n",
      "남은 커피의 양은 4개 입니다.\n",
      "돈을 넣어주세요.300\n",
      "커피 받으세요.\n",
      "남은 커피의 양은 3개 입니다.\n",
      "돈을 넣어주세요.300\n",
      "커피 받으세요.\n",
      "남은 커피의 양은 2개 입니다.\n",
      "돈을 넣어주세요.200\n",
      "돈을 넣어주세요.200\n",
      "돈을 넣어주세요.300\n",
      "커피 받으세요.\n",
      "남은 커피의 양은 1개 입니다.\n",
      "돈을 넣어주세요.300\n",
      "커피 받으세요.\n",
      "남은 커피의 양은 0개 입니다.\n",
      "물량이 없어요. 판매 중지합니다.\n"
     ]
    }
   ],
   "source": [
    "# while문 # WhileTest_2.py\n",
    "# 복잡한 자판기 프로그램\n",
    "coffee = 10\n",
    "while True:\n",
    "    money = int(input(\"돈을 넣어주세요.\"))\n",
    "    if money == 300:\n",
    "        print(\"커피 받으세요.\")\n",
    "        coffee = coffee - 1\n",
    "        print('남은 커피의 양은 %d개 입니다.'% coffee)\n",
    "    elif money > 300:\n",
    "        print(\"거스름돈 %d원과 커피 받으세요.\"%(money-300))\n",
    "        coffee = coffee - 1\n",
    "        print('남은 커피의 양은 %d개 입니다.'% coffee)\n",
    "    elif money < 300: continue\n",
    "    if coffee == 0:\n",
    "        print(\"물량이 없어요. 판매 중지합니다.\")\n",
    "        break\n",
    "# 유효성 검사는 어떻게..? 널 값을 넣었을때는?  None...?"
   ]
  },
  {
   "cell_type": "code",
   "execution_count": null,
   "id": "structured-mixer",
   "metadata": {},
   "outputs": [],
   "source": []
  }
 ],
 "metadata": {
  "kernelspec": {
   "display_name": "Python 3",
   "language": "python",
   "name": "python3"
  },
  "language_info": {
   "codemirror_mode": {
    "name": "ipython",
    "version": 3
   },
   "file_extension": ".py",
   "mimetype": "text/x-python",
   "name": "python",
   "nbconvert_exporter": "python",
   "pygments_lexer": "ipython3",
   "version": "3.9.1"
  }
 },
 "nbformat": 4,
 "nbformat_minor": 5
}
