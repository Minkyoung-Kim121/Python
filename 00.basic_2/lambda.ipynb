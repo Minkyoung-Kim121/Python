{
 "cells": [
  {
   "cell_type": "code",
   "execution_count": 1,
   "id": "close-bottle",
   "metadata": {},
   "outputs": [
    {
     "name": "stdout",
     "output_type": "stream",
     "text": [
      "3\n"
     ]
    }
   ],
   "source": [
    "# 람다식 (람다 함수) lambda.py\n",
    "# lambda 함수\n",
    "# : def와 동일한 역할 \n",
    "#   함수를 생성할 때 사용하는 예약어\n",
    "#   간결한 함수 또는 def를 사용할 수 없는 곳에 사용.\n",
    "def add(a,b):\n",
    "    return  a+b\n",
    "result = add(1,2)\n",
    "print(result) #3"
   ]
  },
  {
   "cell_type": "code",
   "execution_count": 2,
   "id": "dependent-backup",
   "metadata": {},
   "outputs": [
    {
     "name": "stdout",
     "output_type": "stream",
     "text": [
      "7\n"
     ]
    }
   ],
   "source": [
    "# 위의 def 함수를 람다식으로 바꿔보자\n",
    "add = lambda a,b: a+b\n",
    "result = add(3,4)\n",
    "print(result) #7\n",
    "# lambda 예약어는 return 키워드를 사용하지 않아도 결과값이 나온다."
   ]
  },
  {
   "cell_type": "code",
   "execution_count": null,
   "id": "alive-poetry",
   "metadata": {},
   "outputs": [],
   "source": []
  }
 ],
 "metadata": {
  "kernelspec": {
   "display_name": "Python 3",
   "language": "python",
   "name": "python3"
  },
  "language_info": {
   "codemirror_mode": {
    "name": "ipython",
    "version": 3
   },
   "file_extension": ".py",
   "mimetype": "text/x-python",
   "name": "python",
   "nbconvert_exporter": "python",
   "pygments_lexer": "ipython3",
   "version": "3.9.1"
  }
 },
 "nbformat": 4,
 "nbformat_minor": 5
}
