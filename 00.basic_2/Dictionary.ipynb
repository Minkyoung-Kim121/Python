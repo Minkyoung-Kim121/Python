{
 "cells": [
  {
   "cell_type": "code",
   "execution_count": 1,
   "id": "amber-dress",
   "metadata": {},
   "outputs": [
    {
     "name": "stdout",
     "output_type": "stream",
     "text": [
      "{'name': 'jake', 'phone': '01012345678', 'birth': '0121'}\n",
      "{1: 'hi'}\n",
      "{'a': [1, 2, 3]}\n"
     ]
    }
   ],
   "source": [
    "# 딕셔너리 자료형 Dictionary.py\n",
    "\n",
    "# 딕셔너리 : key:value를 한 쌍으로 갖는 자료형\n",
    "# 연관 배열(Asoociative array) 또는 해시(Hash)라고 한다. (자바의 해시맵)\n",
    "# 인덱스와 달리 순차가 x.(빠르게 검색하기 위해서)\n",
    "\n",
    "# Key:Value >>> key 에는 변하지 않는 값, value에는 변하는 값과 변하지 않는 값 모두 사용.\n",
    "# Key 값은 고유한 값이어야 한다.(중복x)\n",
    "# Key 값으로 value를 불러온다. : dic[key]\n",
    "# Key에는 리스트 사용 금지(튜플은 가능 -> 변하지 않는 값이기 때문)\n",
    "\n",
    "dic = {'name':'jake', 'phone':'01012345678', 'birth':'0121'}\n",
    "print(dic)\n",
    "\n",
    "a = {1:'hi'} # 딕셔너리에는 정수, 텍스트 넣기 가능\n",
    "print(a)\n",
    "\n",
    "a1 = {'a':[1,2,3]} # value 에 리스트도 넣을 수 있다. (키는 x)\n",
    "print(a1)"
   ]
  },
  {
   "cell_type": "code",
   "execution_count": 2,
   "id": "pleasant-population",
   "metadata": {},
   "outputs": [
    {
     "name": "stdout",
     "output_type": "stream",
     "text": [
      "{1: 'a'}\n",
      "{1: 'a', 2: 'b'}\n",
      "{1: 'aa', 2: 'bb', 3: 'cc'}\n",
      "{1: 'aa', 2: 'bb', 3: 'cc', 4: 'dd'}\n",
      "{1: 'aa', 2: 'bb', 3: 'cc', 4: 'dd', 'name': 'mk'}\n"
     ]
    }
   ],
   "source": [
    "# 1. 딕셔너리 쌍 추가 : x[a] = b >>> x딕셔너리에 a:b 추가\n",
    "d = {1:'a'} \n",
    "print(d) # {1: 'a'}\n",
    "d[2] = 'b' # >>> 2:'b' 추가한다.\n",
    "print(d) # {1: 'a', 2: 'b'}\n",
    "\n",
    "d1 = {1:'aa',2:'bb',3:'cc'}\n",
    "print(d1)\n",
    "d1[4] = 'dd'\n",
    "print(d1) # {1: 'aa', 2: 'bb', 3: 'cc', 4: 'dd'}\n",
    "d1['name'] = 'mk'\n",
    "print(d1) # {1: 'aa', 2: 'bb', 3: 'cc', 4: 'dd', 'name': 'mk'}"
   ]
  },
  {
   "cell_type": "code",
   "execution_count": 3,
   "id": "partial-gospel",
   "metadata": {},
   "outputs": [
    {
     "name": "stdout",
     "output_type": "stream",
     "text": [
      "{1: 'aa', 2: 'bb', 3: 'cc'}\n",
      "{1: 'aa', 3: 'cc'}\n",
      "{'key': 'value', (1, 2): 'hi'}\n"
     ]
    }
   ],
   "source": [
    "# 2. 딕셔너리 요소 삭제 >>> key값으로 삭제 (del x[a] : x딕셔너리에 키가 a인 요소 삭제)\n",
    "dd = {1:'aa',2:'bb',3:'cc'}\n",
    "print(dd) # {1: 'aa', 2: 'bb', 3: 'cc'}\n",
    "del dd[2] # key가 2인 요소 삭제\n",
    "print(dd) # {1: 'aa', 3: 'cc'}\n",
    "\n",
    "dd1 = {'key':'value', (1,2):'hi'}\n",
    "print(dd1) # {'key': 'value', (1, 2): 'hi'}\n",
    "# key -> 변하지x 값 -> 튜플 가능. (리스트 불가능.)"
   ]
  },
  {
   "cell_type": "code",
   "execution_count": 4,
   "id": "super-receiver",
   "metadata": {},
   "outputs": [
    {
     "name": "stdout",
     "output_type": "stream",
     "text": [
      "{'name': 'mk', 'phone': '01021214545', 'birth': '0121'}\n",
      "dict_keys(['name', 'phone', 'birth'])\n",
      "['name', 'phone', 'birth']\n"
     ]
    }
   ],
   "source": [
    "# 3. 딕셔너리 관련 함수\n",
    "# 3-1. key 리스트 만들기 : .keys()\n",
    "k = {'name':'mk', 'phone':'01021214545', 'birth':'0121'}\n",
    "print(k)\n",
    "print(k.keys()) # dict_keys(['name', 'phone', 'birth']) >>> k의 키값을 모아서 반환\n",
    "# 객체 dict_keys 대신 리스트가 필요하면 : list()\n",
    "print(list(k.keys())) # ['name', 'phone', 'birth']\n",
    "# -> 하지만 객체 dict_keys 는 리스트의 함수는 사용x (for문은 가능)"
   ]
  },
  {
   "cell_type": "code",
   "execution_count": 5,
   "id": "moving-concentrate",
   "metadata": {},
   "outputs": [
    {
     "name": "stdout",
     "output_type": "stream",
     "text": [
      "dict_values(['mk', '01021214545', '0121'])\n"
     ]
    }
   ],
   "source": [
    "# 3-1-2. value 리스트 만들기 : .values()\n",
    "print(k.values()) # dict_values(['mk', '01021214545', '0121'])"
   ]
  },
  {
   "cell_type": "code",
   "execution_count": 6,
   "id": "native-desktop",
   "metadata": {},
   "outputs": [
    {
     "name": "stdout",
     "output_type": "stream",
     "text": [
      "dict_items([('name', 'mk'), ('phone', '01021214545'), ('birth', '0121')])\n"
     ]
    }
   ],
   "source": [
    "# 3-2. (key, value) 쌍 얻기 : .items()\n",
    "print(k.items()) # dict_items([('name', 'mk'), ('phone', '01021214545'), ('birth', '0121')])\n",
    "# -> 튜플로 묶어서 객체 dict_items 로 반환"
   ]
  },
  {
   "cell_type": "code",
   "execution_count": 7,
   "id": "premium-leone",
   "metadata": {},
   "outputs": [
    {
     "name": "stdout",
     "output_type": "stream",
     "text": [
      "None\n",
      "{}\n"
     ]
    }
   ],
   "source": [
    "# 3-3. key:value 쌍 모두 지우기 : .clear()\n",
    "k1 = {'name':'mk', 'phone':'01021214545', 'birth':'0121'}\n",
    "print(k1.clear()) # None >>> 거짓이라는 뜻으로만 일단 알아두자.\n",
    "print(k1) # {} >>> 빈 딕셔너리"
   ]
  },
  {
   "cell_type": "code",
   "execution_count": 8,
   "id": "funny-nebraska",
   "metadata": {},
   "outputs": [
    {
     "name": "stdout",
     "output_type": "stream",
     "text": [
      "{'name': 'mk', 'phone': '01021214545', 'birth': '0121'}\n",
      "mk\n",
      "None\n",
      "mk\n"
     ]
    }
   ],
   "source": [
    "# 3-4. key로 value 얻기 : .get(key)\n",
    "k2 = {'name':'mk', 'phone':'01021214545', 'birth':'0121'}\n",
    "print(k2)\n",
    "print(k2.get('name')) # mk >>> 없는 키값 부르면 None 반환\n",
    "print(k2.get('hey')) # None\n",
    "print(k2['name']) # mk >>> 없는 키값 부르면 오류.\n",
    "# key 값으로 value 부르기\n",
    "# 중복된 키값을 설정하면 하나를 제외한 나머지 모두 무시된다.\n",
    "# (어떤 value를 불러야 할 지 모르기 때문)"
   ]
  },
  {
   "cell_type": "code",
   "execution_count": 9,
   "id": "varying-dragon",
   "metadata": {},
   "outputs": [
    {
     "name": "stdout",
     "output_type": "stream",
     "text": [
      "bar\n"
     ]
    }
   ],
   "source": [
    "# 3-4-1. get(x, 디폴트값) >>> 찾는 키값이 없을 때 디폴트 값 대신 가져오기\n",
    "print(k2.get('pool','bar')) \n",
    "# bar : k2 딕셔너리 안에 pool 키값이 없음에도 bar 반환."
   ]
  },
  {
   "cell_type": "code",
   "execution_count": 10,
   "id": "detailed-spine",
   "metadata": {},
   "outputs": [
    {
     "name": "stdout",
     "output_type": "stream",
     "text": [
      "{'name': 'mk', 'phone': '01021214545', 'birth': '0121'}\n",
      "True\n",
      "False\n"
     ]
    }
   ],
   "source": [
    "# 3-5. 해당 키가 딕셔너리 안에 있는지 조사하기 : in\n",
    "k3 = {'name':'mk', 'phone':'01021214545', 'birth':'0121'}\n",
    "print(k3)\n",
    "print('name' in k3) # True\n",
    "print('python' in k3) # False"
   ]
  },
  {
   "cell_type": "code",
   "execution_count": 11,
   "id": "wrapped-albany",
   "metadata": {},
   "outputs": [
    {
     "name": "stdout",
     "output_type": "stream",
     "text": [
      "{'name': '홍길동', 'birth': '1128', 'age': '30'}\n"
     ]
    }
   ],
   "source": [
    "# 예제\n",
    "ex = {'name': '홍길동', 'birth':'1128', 'age':'30'}\n",
    "print(ex)"
   ]
  },
  {
   "cell_type": "code",
   "execution_count": null,
   "id": "expected-newfoundland",
   "metadata": {},
   "outputs": [],
   "source": []
  }
 ],
 "metadata": {
  "kernelspec": {
   "display_name": "Python 3",
   "language": "python",
   "name": "python3"
  },
  "language_info": {
   "codemirror_mode": {
    "name": "ipython",
    "version": 3
   },
   "file_extension": ".py",
   "mimetype": "text/x-python",
   "name": "python",
   "nbconvert_exporter": "python",
   "pygments_lexer": "ipython3",
   "version": "3.9.1"
  }
 },
 "nbformat": 4,
 "nbformat_minor": 5
}
