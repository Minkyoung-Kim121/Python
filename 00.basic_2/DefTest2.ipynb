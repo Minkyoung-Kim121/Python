{
 "cells": [
  {
   "cell_type": "code",
   "execution_count": 35,
   "id": "broke-train",
   "metadata": {},
   "outputs": [
    {
     "name": "stdout",
     "output_type": "stream",
     "text": [
      "8\n"
     ]
    }
   ],
   "source": [
    "# defTest2 python 내장함수\n",
    "# pow(x,y) :  x의 y제곱 결과값 반환\n",
    "print(pow(2,3)) # 8"
   ]
  },
  {
   "cell_type": "code",
   "execution_count": 10,
   "id": "average-hospital",
   "metadata": {},
   "outputs": [
    {
     "name": "stdout",
     "output_type": "stream",
     "text": [
      "3\n",
      "3\n",
      "26\n"
     ]
    }
   ],
   "source": [
    "# int : 입력값을 정수로 반환\n",
    "print(int(3.3333)) # 3\n",
    "\n",
    "# int('str', radix) : radix 진수로 표현된 문자열 'str'을 10진수로 변환해서 반환.\n",
    "print(int('11',2)) # 3 : 2진수로 표현된 '11'의 10진수 값\n",
    "print(int('1A',16)) # 26"
   ]
  },
  {
   "cell_type": "code",
   "execution_count": 14,
   "id": "documented-forestry",
   "metadata": {},
   "outputs": [
    {
     "name": "stdout",
     "output_type": "stream",
     "text": [
      "True\n",
      "False\n"
     ]
    }
   ],
   "source": [
    "# isinstance(object, class) : 입력받은 인스턴스가 해당 클래스의 인스턴스 판단하여\n",
    "# True/ False 반환\n",
    "class Person: pass\n",
    "a = Person() # >>> Person 클래스의 a 인스턴스 생성\n",
    "class Person1: pass\n",
    "aa = Person1()\n",
    "print(isinstance(a, Person)) # True\n",
    "print(isinstance(aa, Person)) # False\n"
   ]
  },
  {
   "cell_type": "code",
   "execution_count": 15,
   "id": "earned-shift",
   "metadata": {},
   "outputs": [
    {
     "name": "stdout",
     "output_type": "stream",
     "text": [
      "5\n",
      "5\n",
      "7\n",
      "5\n"
     ]
    }
   ],
   "source": [
    "# len : 입력값의 길이 반환(요소의 전체 개수)\n",
    "print(len('hello')) # 5\n",
    "print(len([1,2,3,1,2])) # 5\n",
    "print(len([0,0,0,0,0,0,0])) # 7\n",
    "print(len((1,2,3,4,'aaa'))) # 5"
   ]
  },
  {
   "cell_type": "code",
   "execution_count": 36,
   "id": "strange-roman",
   "metadata": {},
   "outputs": [
    {
     "name": "stdout",
     "output_type": "stream",
     "text": [
      "[1, 2, 3]\n",
      "(1, 2, 3)\n",
      "<class 'int'>\n",
      "<class 'str'>\n"
     ]
    }
   ],
   "source": [
    "# list\n",
    "a = [1,2,3]\n",
    "b = list(a)\n",
    "print(b) # [1, 2, 3]\n",
    "\n",
    "# tuple\n",
    "a = (1,2,3)\n",
    "b = tuple(a)\n",
    "print(b) # (1, 2, 3)\n",
    "\n",
    "# str\n",
    "a = 1\n",
    "print(type(a)) # <class 'int'>\n",
    "b = str(a)\n",
    "print(type(b)) # <class 'str'>"
   ]
  },
  {
   "cell_type": "code",
   "execution_count": 31,
   "id": "foster-bangladesh",
   "metadata": {},
   "outputs": [
    {
     "name": "stdout",
     "output_type": "stream",
     "text": [
      "5454\n",
      "y\n",
      "121\n",
      "112\n",
      "yes\n",
      "-654654654\n"
     ]
    }
   ],
   "source": [
    "# max\n",
    "print(max([1,2,3,4,5454,6,8,7,4,5])) # 5454\n",
    "# 문자열 비교\n",
    "print(max(\"python\")) # y\n",
    "print(ord('y'))\n",
    "print(ord('p'))\n",
    "if 'y' > 'p':\n",
    "    print('yes')\n",
    "# min\n",
    "print(min([1,231,5,4,84,354,-654654654])) # -654654654"
   ]
  },
  {
   "cell_type": "code",
   "execution_count": 39,
   "id": "enabling-convergence",
   "metadata": {},
   "outputs": [
    {
     "name": "stdout",
     "output_type": "stream",
     "text": [
      "1\n",
      "1.46\n",
      "-546\n"
     ]
    }
   ],
   "source": [
    "# round : 반올림\n",
    "a = 1.464535413\n",
    "print(round(a)) # 1\n",
    "print(round(a, 2)) # 1.46 >>> 소수점 둘째짜리 반올림\n",
    "print(round(-545.5465464)) # -546\n"
   ]
  },
  {
   "cell_type": "code",
   "execution_count": 44,
   "id": "crude-priest",
   "metadata": {},
   "outputs": [
    {
     "name": "stdout",
     "output_type": "stream",
     "text": [
      "[-1, 1, 2, 2, 2, 3, 3, 4, 6, 7, 9, 845]\n",
      "['h', 'n', 'o', 'p', 't', 'y']\n",
      "['a', 'b', 'c', 'd']\n"
     ]
    }
   ],
   "source": [
    "# sorted : 입력값을 정렬한 후 그 결과를 리스트로 반환\n",
    "# cf. 리스트의 sort 함수 : sort 함수는 정렬만 하고 결과를 반환하지는 x\n",
    "a = [1,2,2,2,3,4,6,9,7,845,3,-1]\n",
    "print(sorted(a)) # [-1, 1, 2, 2, 2, 3, 3, 4, 6, 7, 9, 845]\n",
    "print(sorted('python')) # ['h', 'n', 'o', 'p', 't', 'y']\n",
    "print(sorted(('d','c','b','a'))) # ['a', 'b', 'c', 'd']"
   ]
  },
  {
   "cell_type": "code",
   "execution_count": 50,
   "id": "downtown-gauge",
   "metadata": {},
   "outputs": [
    {
     "name": "stdout",
     "output_type": "stream",
     "text": [
      "52\n",
      "117\n",
      "104\n",
      "[(1, 7), (2, 8), (3, 9), (4, 10), (5, 11), (6, 12)]\n"
     ]
    }
   ],
   "source": [
    "# sum\n",
    "a = [1,2,3,4,5,6,7,8,4,4,4,1,1,2]\n",
    "print(sum(a)) # 52\n",
    "b = (5,7,5,4,6,1,5,3,8,4,5,5,5,5,5,44)\n",
    "print(sum(b)) # 117\n",
    "a1 = [1,2,3,4,5,6,7,8,4,4,4,1,1,2]\n",
    "print(sum(a+a1)) # 104 >>> 같은 자료형끼리 더하기도 가능.\n",
    "\n",
    "# zip : 동일한 개수로 이뤄진 자료형을 묶어준다.\n",
    "a = [1,2,3,4,5,6]\n",
    "b = [7,8,9,10,11,12]\n",
    "print(list(zip(a,b))) # [(1, 7), (2, 8), (3, 9), (4, 10), (5, 11), (6, 12)]\n",
    "# [(a[0, b[0]),(a[1], b[1]),(a[2], b[2]),...]"
   ]
  },
  {
   "cell_type": "code",
   "execution_count": 53,
   "id": "complimentary-operator",
   "metadata": {},
   "outputs": [
    {
     "name": "stdout",
     "output_type": "stream",
     "text": [
      "[0, 1, 2, 3, 4]\n",
      "(1, 2, 3, 4)\n",
      "[1, 3, 5, 7, 9]\n"
     ]
    }
   ],
   "source": [
    "# range \n",
    "print(list(range(5))) # [0, 1, 2, 3, 4] >>> 시작 숫자 지정x -> 0부터 시작\n",
    "print(tuple(range(1, 5))) # (1, 2, 3, 4)\n",
    "# range(시작숫자, 종료숫자+1, 숫자 사이의 거리)\n",
    "print(list(range(1,10,2))) # [1, 3, 5, 7, 9]"
   ]
  },
  {
   "cell_type": "code",
   "execution_count": 54,
   "id": "amber-improvement",
   "metadata": {},
   "outputs": [],
   "source": [
    "# open : 파일 객체를 돌려주는 함수\n",
    "# r(읽기방법)을 생략 -> r로 파일 객체를 만들어 반환\n",
    "# open('/위치/파일명.확장자', '모드')\n",
    "# w : 쓰기 모드로 파일 열기\n",
    "# r : 읽기 모드로 파일 열기\n",
    "# a : 추가 모드로 파일 열기\n",
    "# b : 바이너리 모드로 파일 열기 (rb)"
   ]
  },
  {
   "cell_type": "code",
   "execution_count": 55,
   "id": "specific-attack",
   "metadata": {},
   "outputs": [
    {
     "name": "stdout",
     "output_type": "stream",
     "text": [
      "[2, 4, 6, 8, 10, 12, 14]\n"
     ]
    }
   ],
   "source": [
    "# map(함수, 반복 가능한 자료형(리스트, 튜플 등))\n",
    "# map(f, list) : list의 각 요소를 def f 가 수행한 결과를 묶어서 반환\n",
    "def two_times(numberList):\n",
    "    result = []\n",
    "    for number in numberList:\n",
    "        result.append(number*2)\n",
    "    return result\n",
    "result = two_times([1,2,3,4,5,6,7])\n",
    "print(result) #  [2, 4, 6, 8, 10, 12, 14]\n",
    "\n"
   ]
  },
  {
   "cell_type": "code",
   "execution_count": 59,
   "id": "protective-bubble",
   "metadata": {},
   "outputs": [
    {
     "name": "stdout",
     "output_type": "stream",
     "text": [
      "[2, 4, 6, 8, 10, 12]\n"
     ]
    },
    {
     "data": {
      "text/plain": [
       "(2, 4, 6, 8, 10)"
      ]
     },
     "execution_count": 59,
     "metadata": {},
     "output_type": "execute_result"
    }
   ],
   "source": [
    "#위의 함수를 map으로 변환\n",
    "def two_times(x): return x*2\n",
    "print(list(map(two_times, (1,2,3,4,5,6)))) # [2, 4, 6, 8, 10, 12]\n",
    "\n",
    "#  lambda\n",
    "tuple(map(lambda a: a*2, (1,2,3,4,5))) # (2, 4, 6, 8, 10)"
   ]
  },
  {
   "cell_type": "code",
   "execution_count": null,
   "id": "final-journey",
   "metadata": {},
   "outputs": [],
   "source": []
  }
 ],
 "metadata": {
  "kernelspec": {
   "display_name": "Python 3",
   "language": "python",
   "name": "python3"
  },
  "language_info": {
   "codemirror_mode": {
    "name": "ipython",
    "version": 3
   },
   "file_extension": ".py",
   "mimetype": "text/x-python",
   "name": "python",
   "nbconvert_exporter": "python",
   "pygments_lexer": "ipython3",
   "version": "3.9.1"
  }
 },
 "nbformat": 4,
 "nbformat_minor": 5
}
