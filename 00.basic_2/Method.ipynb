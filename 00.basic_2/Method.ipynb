{
 "cells": [
  {
   "cell_type": "code",
   "execution_count": 3,
   "id": "formal-daisy",
   "metadata": {},
   "outputs": [
    {
     "name": "stdout",
     "output_type": "stream",
     "text": [
      "3\n",
      "9\n"
     ]
    }
   ],
   "source": [
    "# 함수 Method.py\n",
    "\n",
    "# 입출력하는 역할을 한다.\n",
    "# 가독성, 리팩토링에 용이하다.\n",
    "# def >>> 예약어 : 함수를 만들 때 사용\n",
    "\n",
    "def add(a,b):\n",
    "    return a+b\n",
    "print(add(1,2))\n",
    "c = add(4,5)\n",
    "print(c)"
   ]
  },
  {
   "cell_type": "code",
   "execution_count": 4,
   "id": "related-arbor",
   "metadata": {},
   "outputs": [
    {
     "name": "stdout",
     "output_type": "stream",
     "text": [
      "10\n"
     ]
    }
   ],
   "source": [
    "# 매개변수(parameter)와 인수(argument)의 차이\n",
    "\n",
    "# 매개변수 : 함수에 입력으로 전달된 값을 받는 변수\n",
    "# 인수 : 함수를 호출할 때 전달하는 입력 값\n",
    "\n",
    "def add1(a,b): # a,b 는 매개변수\n",
    "    return a+b # 매개변수를 받아서 리턴\n",
    "print(add1(5,5)) # 5,5는 인수(아규먼트) \n",
    "                # >>> 위의 매개변수 안에 들어가서 add()함수를 호출"
   ]
  },
  {
   "cell_type": "code",
   "execution_count": 15,
   "id": "qualified-philadelphia",
   "metadata": {},
   "outputs": [
    {
     "name": "stdout",
     "output_type": "stream",
     "text": [
      "13\n",
      "7\n"
     ]
    }
   ],
   "source": [
    "# 함수의 종류 4가지\n",
    "# 1. 일반적인 함수 (입력값o, 결과값o)\n",
    "def add2(a,b):\n",
    "    return a+b # return result\n",
    "print(add2(5,8))\n",
    "aa = add2(3,4)\n",
    "print(aa)"
   ]
  },
  {
   "cell_type": "code",
   "execution_count": 22,
   "id": "greater-pillow",
   "metadata": {},
   "outputs": [
    {
     "name": "stdout",
     "output_type": "stream",
     "text": [
      "Hello\n",
      "Hello\n"
     ]
    }
   ],
   "source": [
    "# 함수의 종류 4가지\n",
    "# 2. 입력값x 함수\n",
    "def say():\n",
    "    return \"Hello\"\n",
    "print(say()) # 리턴값을 돌려준다.\n",
    "aaa = say()\n",
    "print(aaa)\n",
    "# aaa1 = say(\"Bye\")\n",
    "# print(aaa1) >>> 오류발생 : say()함수에는 리턴값이 있는데 중복으로 넣었기 때문."
   ]
  },
  {
   "cell_type": "code",
   "execution_count": 34,
   "id": "further-navigation",
   "metadata": {},
   "outputs": [
    {
     "name": "stdout",
     "output_type": "stream",
     "text": [
      "3, 4의 곱은 12입니다.\n",
      "None\n",
      "5, 5의 곱은 25입니다.\n",
      "None\n",
      "6, 6의 곱은 36입니다.\n",
      "3, 4의 곱은 12입니다.\n",
      "None\n"
     ]
    }
   ],
   "source": [
    "# 함수의 종류 4가지\n",
    "# 3. 결과값x 함수\n",
    "def mul(a,b):\n",
    "    print(\"%d, %d의 곱은 %d입니다.\" %(a,b, a*b)) # 3, 4의 곱은 12입니다.\n",
    "\n",
    "d = mul(3,4) # 3, 4의 곱은 12입니다.\n",
    "print(d) # None\n",
    "f = mul(5,5) # 5, 5의 곱은 25입니다.\n",
    "print(f) # None\n",
    "mul(6,6) # 6, 6의 곱은 36입니다\n",
    "\n",
    "print(mul(3,4)) # None >>> 결과값이 없기 때문. : mul 함수를 수행하라는 의미.\n",
    "# 주의! print()는 수행할 문장에 해당하는 부분. 결과값은 오직 return으로 돌려받음.\n"
   ]
  },
  {
   "cell_type": "code",
   "execution_count": 38,
   "id": "threaded-kelly",
   "metadata": {},
   "outputs": [
    {
     "name": "stdout",
     "output_type": "stream",
     "text": [
      "10 * 10 = 100\n",
      "50 * 50 = 2500\n"
     ]
    }
   ],
   "source": [
    "def mul1(a,b):\n",
    "    print(\"%d * %d = %d\" %(a,b,a*b))\n",
    "mul1(10,10) # 함수 호출해서 출력하는 것\n",
    "mul1(50,50) # print(수행할 문장)은 None >>> 수행만 해서."
   ]
  },
  {
   "cell_type": "code",
   "execution_count": 41,
   "id": "coated-wealth",
   "metadata": {},
   "outputs": [
    {
     "name": "stdout",
     "output_type": "stream",
     "text": [
      "Hi\n"
     ]
    }
   ],
   "source": [
    "# 함수의 종류 4가지\n",
    "# 4. 입력값x, 결과값x 함수\n",
    "def say1():\n",
    "    print(\"Hi\") # 입력, 결과 값이 없어서 아무것도 안 나온다.\n",
    "say1() # Hi >>> 함수만 호출하니 나온다."
   ]
  },
  {
   "cell_type": "code",
   "execution_count": 6,
   "id": "approved-basis",
   "metadata": {},
   "outputs": [
    {
     "name": "stdout",
     "output_type": "stream",
     "text": [
      "95\n",
      "50\n"
     ]
    },
    {
     "data": {
      "text/plain": [
       "945"
      ]
     },
     "execution_count": 6,
     "metadata": {},
     "output_type": "execute_result"
    }
   ],
   "source": [
    "# 매개변수 지정하여 함수 호출\n",
    "def sub(a,b):\n",
    "    return a-b\n",
    "print(sub(100,5)) # 95\n",
    "result = sub(a=100, b=50)\n",
    "print(result) # 50\n",
    "\n",
    "def sub1(b=55, a=1000):\n",
    "    return a-b\n",
    "sub1() # 945\n"
   ]
  },
  {
   "cell_type": "code",
   "execution_count": null,
   "id": "competitive-genius",
   "metadata": {},
   "outputs": [],
   "source": []
  }
 ],
 "metadata": {
  "kernelspec": {
   "display_name": "Python 3",
   "language": "python",
   "name": "python3"
  },
  "language_info": {
   "codemirror_mode": {
    "name": "ipython",
    "version": 3
   },
   "file_extension": ".py",
   "mimetype": "text/x-python",
   "name": "python",
   "nbconvert_exporter": "python",
   "pygments_lexer": "ipython3",
   "version": "3.9.1"
  }
 },
 "nbformat": 4,
 "nbformat_minor": 5
}
