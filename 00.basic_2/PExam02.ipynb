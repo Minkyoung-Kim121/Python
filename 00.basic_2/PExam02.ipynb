{
 "cells": [
  {
   "cell_type": "code",
   "execution_count": 8,
   "id": "mounted-stephen",
   "metadata": {},
   "outputs": [
    {
     "name": "stdout",
     "output_type": "stream",
     "text": [
      "15 30 45 60 75 90 105 120 135 150 165 180 195 210 225 240 255 270 285 300 315 330 345 360 375 390 405 420 435 450 465 480 495 510 525 540 555 570 585 600 615 630 645 660 675 690 705 720 735 750 765 780 795 810 825 840 855 870 885 900 915 930 945 960 975 990 "
     ]
    }
   ],
   "source": [
    "# 10미만의 자연수에서 3과 5의 배수를 구하면 3,5,6,9 이다.\n",
    "# 이들의 총합은 23이고\n",
    "# 1000 미만의 자연수에서 3의 배수와 5의 배수의 총합을 구하시오.\n",
    "\n",
    "# 1. 3과 5의 배수 구하기\n",
    "for i in range(1,1001,1):\n",
    "    if i%3 == 0 and i%5 == 0:\n",
    "       print(i, end=\" \")\n",
    "    \n"
   ]
  },
  {
   "cell_type": "code",
   "execution_count": 9,
   "id": "tender-makeup",
   "metadata": {},
   "outputs": [
    {
     "name": "stdout",
     "output_type": "stream",
     "text": [
      "33165\n"
     ]
    }
   ],
   "source": [
    "# 2. 합 구하기\n",
    "sum = 0\n",
    "for i in range(1,1001,1):\n",
    "    if i%3 == 0 and i%5 == 0:\n",
    "       sum += i\n",
    "print(sum)"
   ]
  },
  {
   "cell_type": "code",
   "execution_count": null,
   "id": "needed-festival",
   "metadata": {},
   "outputs": [],
   "source": []
  }
 ],
 "metadata": {
  "kernelspec": {
   "display_name": "Python 3",
   "language": "python",
   "name": "python3"
  },
  "language_info": {
   "codemirror_mode": {
    "name": "ipython",
    "version": 3
   },
   "file_extension": ".py",
   "mimetype": "text/x-python",
   "name": "python",
   "nbconvert_exporter": "python",
   "pygments_lexer": "ipython3",
   "version": "3.9.1"
  }
 },
 "nbformat": 4,
 "nbformat_minor": 5
}
